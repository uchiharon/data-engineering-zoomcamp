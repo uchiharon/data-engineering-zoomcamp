{
 "cells": [
  {
   "cell_type": "code",
   "execution_count": 1,
   "id": "25ec9dc0",
   "metadata": {},
   "outputs": [],
   "source": [
    "import pyspark \n",
    "from pyspark.sql import SparkSession\n",
    "\n",
    "spark = SparkSession.builder \\\n",
    "    .master(\"spark://localhost:7077\") \\\n",
    "    .appName('test') \\\n",
    "    .getOrCreate()"
   ]
  },
  {
   "cell_type": "code",
   "execution_count": 3,
   "id": "e5f1d067",
   "metadata": {},
   "outputs": [],
   "source": [
    "df_green = spark.read.parquet('data/green/*.parquet')\n",
    "df_yellow = spark.read.parquet('data/yellow/*.parquet')"
   ]
  },
  {
   "cell_type": "code",
   "execution_count": 6,
   "id": "cb6662e4",
   "metadata": {},
   "outputs": [
    {
     "name": "stdout",
     "output_type": "stream",
     "text": [
      "Number of columns: \n",
      "Yellow_tripdata: 18\n",
      "Green_tripdata: 20\n"
     ]
    }
   ],
   "source": [
    "print(f'Number of columns: \\nYellow_tripdata: {len(df_yellow.columns)}\\nGreen_tripdata: {len(df_green.columns)}')"
   ]
  },
  {
   "cell_type": "code",
   "execution_count": 7,
   "id": "66168f93",
   "metadata": {},
   "outputs": [
    {
     "name": "stdout",
     "output_type": "stream",
     "text": [
      "Number of rows: \n",
      "Yellow_tripdata: 4666625\n",
      "Green_tripdata: 224917\n"
     ]
    }
   ],
   "source": [
    "print(f'Number of rows: \\nYellow_tripdata: {df_yellow.count()}\\nGreen_tripdata: {df_green.count()}')"
   ]
  },
  {
   "cell_type": "code",
   "execution_count": 35,
   "id": "28b803f0",
   "metadata": {},
   "outputs": [
    {
     "name": "stdout",
     "output_type": "stream",
     "text": [
      "Pre Transform: Common columns 18\n"
     ]
    }
   ],
   "source": [
    "print(f'Pre Transform: The common columns is {len(set(df_yellow.columns) & set(df_green.columns))}')"
   ]
  },
  {
   "cell_type": "code",
   "execution_count": 9,
   "id": "fbe6db80",
   "metadata": {},
   "outputs": [],
   "source": [
    "df_yellow = df_yellow \\\n",
    "    .withColumnRenamed('tpep_pickup_datetime','pickup_datetime') \\\n",
    "    .withColumnRenamed('tpep_dropoff_datetime','dropoff_datetime')"
   ]
  },
  {
   "cell_type": "code",
   "execution_count": 10,
   "id": "9441aa92",
   "metadata": {},
   "outputs": [],
   "source": [
    "df_green = df_green \\\n",
    "    .withColumnRenamed('lpep_pickup_datetime','pickup_datetime') \\\n",
    "    .withColumnRenamed('lpep_dropoff_datetime','dropoff_datetime')"
   ]
  },
  {
   "cell_type": "code",
   "execution_count": 36,
   "id": "77054f71",
   "metadata": {},
   "outputs": [
    {
     "name": "stdout",
     "output_type": "stream",
     "text": [
      "Post Transform: Common columns 18\n"
     ]
    }
   ],
   "source": [
    "print(f'Post Transform: The common columns is {len(set(df_yellow.columns) & set(df_green.columns))}')"
   ]
  },
  {
   "cell_type": "code",
   "execution_count": 14,
   "id": "223aa51b",
   "metadata": {},
   "outputs": [],
   "source": [
    "common_columns  = list(sorted(set(df_yellow.columns) & set(df_green.columns), key=df_yellow.columns.index))"
   ]
  },
  {
   "cell_type": "code",
   "execution_count": 15,
   "id": "cd9664e3",
   "metadata": {},
   "outputs": [],
   "source": [
    "from pyspark.sql import functions as F"
   ]
  },
  {
   "cell_type": "code",
   "execution_count": 16,
   "id": "392c29fa",
   "metadata": {},
   "outputs": [],
   "source": [
    "df_green_req = df_green.select(common_columns) \\\n",
    "    .withColumn('service_type', F.lit('green'))"
   ]
  },
  {
   "cell_type": "code",
   "execution_count": 18,
   "id": "c223885f",
   "metadata": {},
   "outputs": [],
   "source": [
    "df_yellow_req = df_yellow.select(common_columns) \\\n",
    "    .withColumn('service_type', F.lit('yellow'))"
   ]
  },
  {
   "cell_type": "code",
   "execution_count": 19,
   "id": "52e4ba4a",
   "metadata": {},
   "outputs": [],
   "source": [
    "df_trip_data = df_green_req.unionAll(df_yellow_req)"
   ]
  },
  {
   "cell_type": "code",
   "execution_count": 37,
   "id": "551708d9",
   "metadata": {},
   "outputs": [
    {
     "name": "stdout",
     "output_type": "stream",
     "text": [
      "+------------+-------+\n",
      "|service_type|  count|\n",
      "+------------+-------+\n",
      "|       green| 224917|\n",
      "|      yellow|4666625|\n",
      "+------------+-------+\n",
      "\n",
      "None\n"
     ]
    }
   ],
   "source": [
    "print(df_trip_data.groupby('service_type').count().show())"
   ]
  },
  {
   "cell_type": "markdown",
   "id": "1b8233b5",
   "metadata": {},
   "source": [
    "## Spark SQL"
   ]
  },
  {
   "cell_type": "code",
   "execution_count": 22,
   "id": "5bd833dd",
   "metadata": {},
   "outputs": [],
   "source": [
    "df_trip_data.createOrReplaceTempView ('trip_data')"
   ]
  },
  {
   "cell_type": "code",
   "execution_count": 26,
   "id": "04fb3a36",
   "metadata": {},
   "outputs": [],
   "source": [
    "df_result = spark.sql(\"\"\"\n",
    "\n",
    "SELECT \n",
    "    -- Reveneue grouping \n",
    "    PULocationID AS revenue_zone,\n",
    "    date_trunc('month', pickup_datetime) AS revenue_month, \n",
    "    service_type, \n",
    "\n",
    "    -- Revenue calculation \n",
    "    SUM(fare_amount) AS revenue_monthly_fare,\n",
    "    SUM(extra) AS revenue_monthly_extra,\n",
    "    SUM(mta_tax) AS revenue_monthly_mta_tax,\n",
    "    SUM(tip_amount) AS revenue_monthly_tip_amount,\n",
    "    SUM(tolls_amount) AS revenue_monthly_tolls_amount,\n",
    "    SUM(improvement_surcharge) AS revenue_monthly_improvement_surcharge,\n",
    "    SUM(total_amount) AS revenue_monthly_total_amount,\n",
    "    SUM(congestion_surcharge) AS revenue_monthly_congestion_surcharge,\n",
    "\n",
    "    -- Additional calculations\n",
    "    AVG(passenger_count) AS avg_montly_passenger_count,\n",
    "    AVG(trip_distance) AS avg_montly_trip_distance\n",
    "FROM\n",
    "    trip_data\n",
    "GROUP BY\n",
    "    1, 2, 3\n",
    "\n",
    "\n",
    "\n",
    "\"\"\")"
   ]
  },
  {
   "cell_type": "code",
   "execution_count": 28,
   "id": "be7489ae",
   "metadata": {},
   "outputs": [],
   "source": [
    "# To write the result to one partition\n",
    "df_result.coalesce(1).write.parquet('data/monthly_revenue', mode='overwrite')"
   ]
  }
 ],
 "metadata": {
  "kernelspec": {
   "display_name": "Python 3 (ipykernel)",
   "language": "python",
   "name": "python3"
  },
  "language_info": {
   "codemirror_mode": {
    "name": "ipython",
    "version": 3
   },
   "file_extension": ".py",
   "mimetype": "text/x-python",
   "name": "python",
   "nbconvert_exporter": "python",
   "pygments_lexer": "ipython3",
   "version": "3.10.10"
  }
 },
 "nbformat": 4,
 "nbformat_minor": 5
}
