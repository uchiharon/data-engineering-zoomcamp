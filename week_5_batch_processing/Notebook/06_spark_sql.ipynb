{
 "cells": [
  {
   "cell_type": "code",
   "execution_count": 3,
   "id": "25ec9dc0",
   "metadata": {},
   "outputs": [
    {
     "ename": "RuntimeError",
     "evalue": "Java gateway process exited before sending its port number",
     "output_type": "error",
     "traceback": [
      "\u001b[1;31m---------------------------------------------------------------------------\u001b[0m",
      "\u001b[1;31mRuntimeError\u001b[0m                              Traceback (most recent call last)",
      "Cell \u001b[1;32mIn [3], line 7\u001b[0m\n\u001b[0;32m      1\u001b[0m \u001b[38;5;28;01mimport\u001b[39;00m \u001b[38;5;21;01mpyspark\u001b[39;00m \n\u001b[0;32m      2\u001b[0m \u001b[38;5;28;01mfrom\u001b[39;00m \u001b[38;5;21;01mpyspark\u001b[39;00m\u001b[38;5;21;01m.\u001b[39;00m\u001b[38;5;21;01msql\u001b[39;00m \u001b[38;5;28;01mimport\u001b[39;00m SparkSession\n\u001b[0;32m      4\u001b[0m spark \u001b[38;5;241m=\u001b[39m \u001b[43mSparkSession\u001b[49m\u001b[38;5;241;43m.\u001b[39;49m\u001b[43mbuilder\u001b[49m\u001b[43m \u001b[49m\u001b[43m\\\u001b[49m\n\u001b[0;32m      5\u001b[0m \u001b[43m    \u001b[49m\u001b[38;5;241;43m.\u001b[39;49m\u001b[43mmaster\u001b[49m\u001b[43m(\u001b[49m\u001b[38;5;124;43m'\u001b[39;49m\u001b[38;5;124;43mlocal[2]\u001b[39;49m\u001b[38;5;124;43m'\u001b[39;49m\u001b[43m)\u001b[49m\u001b[43m \u001b[49m\u001b[43m\\\u001b[49m\n\u001b[0;32m      6\u001b[0m \u001b[43m    \u001b[49m\u001b[38;5;241;43m.\u001b[39;49m\u001b[43mappName\u001b[49m\u001b[43m(\u001b[49m\u001b[38;5;124;43m'\u001b[39;49m\u001b[38;5;124;43mtest\u001b[39;49m\u001b[38;5;124;43m'\u001b[39;49m\u001b[43m)\u001b[49m\u001b[43m \u001b[49m\u001b[43m\\\u001b[49m\n\u001b[1;32m----> 7\u001b[0m \u001b[43m    \u001b[49m\u001b[38;5;241;43m.\u001b[39;49m\u001b[43mgetOrCreate\u001b[49m\u001b[43m(\u001b[49m\u001b[43m)\u001b[49m\n",
      "File \u001b[1;32m~\\AppData\\Local\\Packages\\PythonSoftwareFoundation.Python.3.10_qbz5n2kfra8p0\\LocalCache\\local-packages\\Python310\\site-packages\\pyspark\\sql\\session.py:269\u001b[0m, in \u001b[0;36mSparkSession.Builder.getOrCreate\u001b[1;34m(self)\u001b[0m\n\u001b[0;32m    267\u001b[0m     sparkConf\u001b[38;5;241m.\u001b[39mset(key, value)\n\u001b[0;32m    268\u001b[0m \u001b[38;5;66;03m# This SparkContext may be an existing one.\u001b[39;00m\n\u001b[1;32m--> 269\u001b[0m sc \u001b[38;5;241m=\u001b[39m \u001b[43mSparkContext\u001b[49m\u001b[38;5;241;43m.\u001b[39;49m\u001b[43mgetOrCreate\u001b[49m\u001b[43m(\u001b[49m\u001b[43msparkConf\u001b[49m\u001b[43m)\u001b[49m\n\u001b[0;32m    270\u001b[0m \u001b[38;5;66;03m# Do not update `SparkConf` for existing `SparkContext`, as it's shared\u001b[39;00m\n\u001b[0;32m    271\u001b[0m \u001b[38;5;66;03m# by all sessions.\u001b[39;00m\n\u001b[0;32m    272\u001b[0m session \u001b[38;5;241m=\u001b[39m SparkSession(sc, options\u001b[38;5;241m=\u001b[39m\u001b[38;5;28mself\u001b[39m\u001b[38;5;241m.\u001b[39m_options)\n",
      "File \u001b[1;32m~\\AppData\\Local\\Packages\\PythonSoftwareFoundation.Python.3.10_qbz5n2kfra8p0\\LocalCache\\local-packages\\Python310\\site-packages\\pyspark\\context.py:483\u001b[0m, in \u001b[0;36mSparkContext.getOrCreate\u001b[1;34m(cls, conf)\u001b[0m\n\u001b[0;32m    481\u001b[0m \u001b[38;5;28;01mwith\u001b[39;00m SparkContext\u001b[38;5;241m.\u001b[39m_lock:\n\u001b[0;32m    482\u001b[0m     \u001b[38;5;28;01mif\u001b[39;00m SparkContext\u001b[38;5;241m.\u001b[39m_active_spark_context \u001b[38;5;129;01mis\u001b[39;00m \u001b[38;5;28;01mNone\u001b[39;00m:\n\u001b[1;32m--> 483\u001b[0m         \u001b[43mSparkContext\u001b[49m\u001b[43m(\u001b[49m\u001b[43mconf\u001b[49m\u001b[38;5;241;43m=\u001b[39;49m\u001b[43mconf\u001b[49m\u001b[43m \u001b[49m\u001b[38;5;129;43;01mor\u001b[39;49;00m\u001b[43m \u001b[49m\u001b[43mSparkConf\u001b[49m\u001b[43m(\u001b[49m\u001b[43m)\u001b[49m\u001b[43m)\u001b[49m\n\u001b[0;32m    484\u001b[0m     \u001b[38;5;28;01massert\u001b[39;00m SparkContext\u001b[38;5;241m.\u001b[39m_active_spark_context \u001b[38;5;129;01mis\u001b[39;00m \u001b[38;5;129;01mnot\u001b[39;00m \u001b[38;5;28;01mNone\u001b[39;00m\n\u001b[0;32m    485\u001b[0m     \u001b[38;5;28;01mreturn\u001b[39;00m SparkContext\u001b[38;5;241m.\u001b[39m_active_spark_context\n",
      "File \u001b[1;32m~\\AppData\\Local\\Packages\\PythonSoftwareFoundation.Python.3.10_qbz5n2kfra8p0\\LocalCache\\local-packages\\Python310\\site-packages\\pyspark\\context.py:195\u001b[0m, in \u001b[0;36mSparkContext.__init__\u001b[1;34m(self, master, appName, sparkHome, pyFiles, environment, batchSize, serializer, conf, gateway, jsc, profiler_cls, udf_profiler_cls)\u001b[0m\n\u001b[0;32m    189\u001b[0m \u001b[38;5;28;01mif\u001b[39;00m gateway \u001b[38;5;129;01mis\u001b[39;00m \u001b[38;5;129;01mnot\u001b[39;00m \u001b[38;5;28;01mNone\u001b[39;00m \u001b[38;5;129;01mand\u001b[39;00m gateway\u001b[38;5;241m.\u001b[39mgateway_parameters\u001b[38;5;241m.\u001b[39mauth_token \u001b[38;5;129;01mis\u001b[39;00m \u001b[38;5;28;01mNone\u001b[39;00m:\n\u001b[0;32m    190\u001b[0m     \u001b[38;5;28;01mraise\u001b[39;00m \u001b[38;5;167;01mValueError\u001b[39;00m(\n\u001b[0;32m    191\u001b[0m         \u001b[38;5;124m\"\u001b[39m\u001b[38;5;124mYou are trying to pass an insecure Py4j gateway to Spark. This\u001b[39m\u001b[38;5;124m\"\u001b[39m\n\u001b[0;32m    192\u001b[0m         \u001b[38;5;124m\"\u001b[39m\u001b[38;5;124m is not allowed as it is a security risk.\u001b[39m\u001b[38;5;124m\"\u001b[39m\n\u001b[0;32m    193\u001b[0m     )\n\u001b[1;32m--> 195\u001b[0m \u001b[43mSparkContext\u001b[49m\u001b[38;5;241;43m.\u001b[39;49m\u001b[43m_ensure_initialized\u001b[49m\u001b[43m(\u001b[49m\u001b[38;5;28;43mself\u001b[39;49m\u001b[43m,\u001b[49m\u001b[43m \u001b[49m\u001b[43mgateway\u001b[49m\u001b[38;5;241;43m=\u001b[39;49m\u001b[43mgateway\u001b[49m\u001b[43m,\u001b[49m\u001b[43m \u001b[49m\u001b[43mconf\u001b[49m\u001b[38;5;241;43m=\u001b[39;49m\u001b[43mconf\u001b[49m\u001b[43m)\u001b[49m\n\u001b[0;32m    196\u001b[0m \u001b[38;5;28;01mtry\u001b[39;00m:\n\u001b[0;32m    197\u001b[0m     \u001b[38;5;28mself\u001b[39m\u001b[38;5;241m.\u001b[39m_do_init(\n\u001b[0;32m    198\u001b[0m         master,\n\u001b[0;32m    199\u001b[0m         appName,\n\u001b[1;32m   (...)\u001b[0m\n\u001b[0;32m    208\u001b[0m         udf_profiler_cls,\n\u001b[0;32m    209\u001b[0m     )\n",
      "File \u001b[1;32m~\\AppData\\Local\\Packages\\PythonSoftwareFoundation.Python.3.10_qbz5n2kfra8p0\\LocalCache\\local-packages\\Python310\\site-packages\\pyspark\\context.py:417\u001b[0m, in \u001b[0;36mSparkContext._ensure_initialized\u001b[1;34m(cls, instance, gateway, conf)\u001b[0m\n\u001b[0;32m    415\u001b[0m \u001b[38;5;28;01mwith\u001b[39;00m SparkContext\u001b[38;5;241m.\u001b[39m_lock:\n\u001b[0;32m    416\u001b[0m     \u001b[38;5;28;01mif\u001b[39;00m \u001b[38;5;129;01mnot\u001b[39;00m SparkContext\u001b[38;5;241m.\u001b[39m_gateway:\n\u001b[1;32m--> 417\u001b[0m         SparkContext\u001b[38;5;241m.\u001b[39m_gateway \u001b[38;5;241m=\u001b[39m gateway \u001b[38;5;129;01mor\u001b[39;00m \u001b[43mlaunch_gateway\u001b[49m\u001b[43m(\u001b[49m\u001b[43mconf\u001b[49m\u001b[43m)\u001b[49m\n\u001b[0;32m    418\u001b[0m         SparkContext\u001b[38;5;241m.\u001b[39m_jvm \u001b[38;5;241m=\u001b[39m SparkContext\u001b[38;5;241m.\u001b[39m_gateway\u001b[38;5;241m.\u001b[39mjvm\n\u001b[0;32m    420\u001b[0m     \u001b[38;5;28;01mif\u001b[39;00m instance:\n",
      "File \u001b[1;32m~\\AppData\\Local\\Packages\\PythonSoftwareFoundation.Python.3.10_qbz5n2kfra8p0\\LocalCache\\local-packages\\Python310\\site-packages\\pyspark\\java_gateway.py:106\u001b[0m, in \u001b[0;36mlaunch_gateway\u001b[1;34m(conf, popen_kwargs)\u001b[0m\n\u001b[0;32m    103\u001b[0m     time\u001b[38;5;241m.\u001b[39msleep(\u001b[38;5;241m0.1\u001b[39m)\n\u001b[0;32m    105\u001b[0m \u001b[38;5;28;01mif\u001b[39;00m \u001b[38;5;129;01mnot\u001b[39;00m os\u001b[38;5;241m.\u001b[39mpath\u001b[38;5;241m.\u001b[39misfile(conn_info_file):\n\u001b[1;32m--> 106\u001b[0m     \u001b[38;5;28;01mraise\u001b[39;00m \u001b[38;5;167;01mRuntimeError\u001b[39;00m(\u001b[38;5;124m\"\u001b[39m\u001b[38;5;124mJava gateway process exited before sending its port number\u001b[39m\u001b[38;5;124m\"\u001b[39m)\n\u001b[0;32m    108\u001b[0m \u001b[38;5;28;01mwith\u001b[39;00m \u001b[38;5;28mopen\u001b[39m(conn_info_file, \u001b[38;5;124m\"\u001b[39m\u001b[38;5;124mrb\u001b[39m\u001b[38;5;124m\"\u001b[39m) \u001b[38;5;28;01mas\u001b[39;00m info:\n\u001b[0;32m    109\u001b[0m     gateway_port \u001b[38;5;241m=\u001b[39m read_int(info)\n",
      "\u001b[1;31mRuntimeError\u001b[0m: Java gateway process exited before sending its port number"
     ]
    }
   ],
   "source": [
    "import pyspark \n",
    "from pyspark.sql import SparkSession\n",
    "\n",
    "spark = SparkSession.builder \\\n",
    "    .master('local[2]') \\\n",
    "    .appName('test') \\\n",
    "    .getOrCreate()"
   ]
  },
  {
   "cell_type": "code",
   "execution_count": 2,
   "id": "e2f7885c",
   "metadata": {},
   "outputs": [
    {
     "name": "stdout",
     "output_type": "stream",
     "text": [
      "Folder PATH listing\n",
      "Volume serial number is FCDB-F4E8\n",
      "D:.\n",
      "+---.ipynb_checkpoints\n",
      "+---data\n",
      "¦   +---green\n",
      "¦   +---yellow\n",
      "+---fhvhv\n",
      "¦   +---2021\n",
      "¦       +---01\n",
      "+---spark-warehouse\n"
     ]
    }
   ],
   "source": [
    "!tree"
   ]
  },
  {
   "cell_type": "code",
   "execution_count": 3,
   "id": "e5f1d067",
   "metadata": {},
   "outputs": [],
   "source": [
    "df_green = spark.read.parquet('data/green/*.parquet')\n",
    "df_yellow = spark.read.parquet('data/yellow/*.parquet')"
   ]
  },
  {
   "cell_type": "code",
   "execution_count": 4,
   "id": "da883292",
   "metadata": {},
   "outputs": [
    {
     "name": "stdout",
     "output_type": "stream",
     "text": [
      "root\n",
      " |-- VendorID: long (nullable = true)\n",
      " |-- lpep_pickup_datetime: timestamp (nullable = true)\n",
      " |-- lpep_dropoff_datetime: timestamp (nullable = true)\n",
      " |-- store_and_fwd_flag: string (nullable = true)\n",
      " |-- RatecodeID: double (nullable = true)\n",
      " |-- PULocationID: long (nullable = true)\n",
      " |-- DOLocationID: long (nullable = true)\n",
      " |-- passenger_count: double (nullable = true)\n",
      " |-- trip_distance: double (nullable = true)\n",
      " |-- fare_amount: double (nullable = true)\n",
      " |-- extra: double (nullable = true)\n",
      " |-- mta_tax: double (nullable = true)\n",
      " |-- tip_amount: double (nullable = true)\n",
      " |-- tolls_amount: double (nullable = true)\n",
      " |-- ehail_fee: integer (nullable = true)\n",
      " |-- improvement_surcharge: double (nullable = true)\n",
      " |-- total_amount: double (nullable = true)\n",
      " |-- payment_type: double (nullable = true)\n",
      " |-- trip_type: double (nullable = true)\n",
      " |-- congestion_surcharge: double (nullable = true)\n",
      "\n"
     ]
    }
   ],
   "source": [
    "df_green.printSchema()"
   ]
  },
  {
   "cell_type": "code",
   "execution_count": 5,
   "id": "d46f1431",
   "metadata": {},
   "outputs": [
    {
     "name": "stdout",
     "output_type": "stream",
     "text": [
      "root\n",
      " |-- VendorID: double (nullable = true)\n",
      " |-- tpep_pickup_datetime: timestamp (nullable = true)\n",
      " |-- tpep_dropoff_datetime: timestamp (nullable = true)\n",
      " |-- passenger_count: double (nullable = true)\n",
      " |-- trip_distance: double (nullable = true)\n",
      " |-- RatecodeID: double (nullable = true)\n",
      " |-- store_and_fwd_flag: string (nullable = true)\n",
      " |-- PULocationID: long (nullable = true)\n",
      " |-- DOLocationID: long (nullable = true)\n",
      " |-- payment_type: double (nullable = true)\n",
      " |-- fare_amount: double (nullable = true)\n",
      " |-- extra: double (nullable = true)\n",
      " |-- mta_tax: double (nullable = true)\n",
      " |-- tip_amount: double (nullable = true)\n",
      " |-- tolls_amount: double (nullable = true)\n",
      " |-- improvement_surcharge: double (nullable = true)\n",
      " |-- total_amount: double (nullable = true)\n",
      " |-- congestion_surcharge: double (nullable = true)\n",
      "\n"
     ]
    }
   ],
   "source": [
    "df_yellow.printSchema()"
   ]
  },
  {
   "cell_type": "code",
   "execution_count": 6,
   "id": "cb6662e4",
   "metadata": {},
   "outputs": [
    {
     "name": "stdout",
     "output_type": "stream",
     "text": [
      "Number of columns: \n",
      "Yellow_tripdata: 18\n",
      "Green_tripdata: 20\n"
     ]
    }
   ],
   "source": [
    "print(f'Number of columns: \\nYellow_tripdata: {len(df_yellow.columns)}\\nGreen_tripdata: {len(df_green.columns)}')"
   ]
  },
  {
   "cell_type": "code",
   "execution_count": 7,
   "id": "66168f93",
   "metadata": {},
   "outputs": [
    {
     "name": "stdout",
     "output_type": "stream",
     "text": [
      "Number of rows: \n",
      "Yellow_tripdata: 4666625\n",
      "Green_tripdata: 224917\n"
     ]
    }
   ],
   "source": [
    "print(f'Number of rows: \\nYellow_tripdata: {df_yellow.count()}\\nGreen_tripdata: {df_green.count()}')"
   ]
  },
  {
   "cell_type": "code",
   "execution_count": 8,
   "id": "28b803f0",
   "metadata": {},
   "outputs": [
    {
     "data": {
      "text/plain": [
       "16"
      ]
     },
     "execution_count": 8,
     "metadata": {},
     "output_type": "execute_result"
    }
   ],
   "source": [
    "len(set(df_yellow.columns) & set(df_green.columns))"
   ]
  },
  {
   "cell_type": "code",
   "execution_count": 9,
   "id": "fbe6db80",
   "metadata": {},
   "outputs": [],
   "source": [
    "df_yellow = df_yellow \\\n",
    "    .withColumnRenamed('tpep_pickup_datetime','pickup_datetime') \\\n",
    "    .withColumnRenamed('tpep_dropoff_datetime','dropoff_datetime')"
   ]
  },
  {
   "cell_type": "code",
   "execution_count": 10,
   "id": "9441aa92",
   "metadata": {},
   "outputs": [],
   "source": [
    "df_green = df_green \\\n",
    "    .withColumnRenamed('lpep_pickup_datetime','pickup_datetime') \\\n",
    "    .withColumnRenamed('lpep_dropoff_datetime','dropoff_datetime')"
   ]
  },
  {
   "cell_type": "code",
   "execution_count": 11,
   "id": "06b27c93",
   "metadata": {},
   "outputs": [
    {
     "data": {
      "text/plain": [
       "['VendorID',\n",
       " 'pickup_datetime',\n",
       " 'dropoff_datetime',\n",
       " 'passenger_count',\n",
       " 'trip_distance',\n",
       " 'RatecodeID',\n",
       " 'store_and_fwd_flag',\n",
       " 'PULocationID',\n",
       " 'DOLocationID',\n",
       " 'payment_type',\n",
       " 'fare_amount',\n",
       " 'extra',\n",
       " 'mta_tax',\n",
       " 'tip_amount',\n",
       " 'tolls_amount',\n",
       " 'improvement_surcharge',\n",
       " 'total_amount',\n",
       " 'congestion_surcharge']"
      ]
     },
     "execution_count": 11,
     "metadata": {},
     "output_type": "execute_result"
    }
   ],
   "source": [
    "sorted(set(df_yellow.columns) & set(df_green.columns), key=df_yellow.columns.index)"
   ]
  },
  {
   "cell_type": "code",
   "execution_count": 12,
   "id": "77054f71",
   "metadata": {},
   "outputs": [
    {
     "data": {
      "text/plain": [
       "18"
      ]
     },
     "execution_count": 12,
     "metadata": {},
     "output_type": "execute_result"
    }
   ],
   "source": [
    "len(set(df_yellow.columns) & set(df_green.columns))"
   ]
  },
  {
   "cell_type": "code",
   "execution_count": 13,
   "id": "04891ae2",
   "metadata": {},
   "outputs": [
    {
     "data": {
      "text/plain": [
       "{'DOLocationID',\n",
       " 'PULocationID',\n",
       " 'RatecodeID',\n",
       " 'VendorID',\n",
       " 'congestion_surcharge',\n",
       " 'dropoff_datetime',\n",
       " 'extra',\n",
       " 'fare_amount',\n",
       " 'improvement_surcharge',\n",
       " 'mta_tax',\n",
       " 'passenger_count',\n",
       " 'payment_type',\n",
       " 'pickup_datetime',\n",
       " 'store_and_fwd_flag',\n",
       " 'tip_amount',\n",
       " 'tolls_amount',\n",
       " 'total_amount',\n",
       " 'trip_distance'}"
      ]
     },
     "execution_count": 13,
     "metadata": {},
     "output_type": "execute_result"
    }
   ],
   "source": [
    "set(df_yellow.columns)"
   ]
  },
  {
   "cell_type": "code",
   "execution_count": 14,
   "id": "223aa51b",
   "metadata": {},
   "outputs": [],
   "source": [
    "common_columns  = list(sorted(set(df_yellow.columns) & set(df_green.columns), key=df_yellow.columns.index))"
   ]
  },
  {
   "cell_type": "code",
   "execution_count": 15,
   "id": "cd9664e3",
   "metadata": {},
   "outputs": [],
   "source": [
    "from pyspark.sql import functions as F"
   ]
  },
  {
   "cell_type": "code",
   "execution_count": 16,
   "id": "392c29fa",
   "metadata": {},
   "outputs": [],
   "source": [
    "df_green_req = df_green.select(common_columns) \\\n",
    "    .withColumn('service_type', F.lit('green'))"
   ]
  },
  {
   "cell_type": "code",
   "execution_count": 17,
   "id": "6451d412",
   "metadata": {},
   "outputs": [
    {
     "name": "stdout",
     "output_type": "stream",
     "text": [
      "+--------+-------------------+-------------------+---------------+-------------+----------+------------------+------------+------------+------------+-----------+-----+-------+----------+------------+---------------------+------------+--------------------+------------+\n",
      "|VendorID|    pickup_datetime|   dropoff_datetime|passenger_count|trip_distance|RatecodeID|store_and_fwd_flag|PULocationID|DOLocationID|payment_type|fare_amount|extra|mta_tax|tip_amount|tolls_amount|improvement_surcharge|total_amount|congestion_surcharge|service_type|\n",
      "+--------+-------------------+-------------------+---------------+-------------+----------+------------------+------------+------------+------------+-----------+-----+-------+----------+------------+---------------------+------------+--------------------+------------+\n",
      "|       2|2021-03-01 01:05:42|2021-03-01 01:14:03|            1.0|         1.56|       1.0|                 N|          83|         129|         1.0|        7.5|  0.5|    0.5|       0.0|         0.0|                  0.3|         8.8|                 0.0|       green|\n",
      "+--------+-------------------+-------------------+---------------+-------------+----------+------------------+------------+------------+------------+-----------+-----+-------+----------+------------+---------------------+------------+--------------------+------------+\n",
      "only showing top 1 row\n",
      "\n"
     ]
    }
   ],
   "source": [
    "df_green_req.show(1)"
   ]
  },
  {
   "cell_type": "code",
   "execution_count": 18,
   "id": "c223885f",
   "metadata": {},
   "outputs": [],
   "source": [
    "df_yellow_req = df_yellow.select(common_columns) \\\n",
    "    .withColumn('service_type', F.lit('yellow'))"
   ]
  },
  {
   "cell_type": "code",
   "execution_count": 19,
   "id": "52e4ba4a",
   "metadata": {},
   "outputs": [],
   "source": [
    "df_trip_data = df_green_req.unionAll(df_yellow_req)"
   ]
  },
  {
   "cell_type": "code",
   "execution_count": 20,
   "id": "7928fdaa",
   "metadata": {},
   "outputs": [
    {
     "data": {
      "text/plain": [
       "[Row(VendorID=None, pickup_datetime=datetime.datetime(2021, 1, 25, 9, 38), dropoff_datetime=datetime.datetime(2021, 1, 25, 9, 50), passenger_count=None, trip_distance=4.93, RatecodeID=None, store_and_fwd_flag=None, PULocationID=248, DOLocationID=168, payment_type=None, fare_amount=20.76, extra=2.75, mta_tax=0.5, tip_amount=0.0, tolls_amount=0.0, improvement_surcharge=0.3, total_amount=24.31, congestion_surcharge=0.0, service_type='yellow')]"
      ]
     },
     "execution_count": 20,
     "metadata": {},
     "output_type": "execute_result"
    }
   ],
   "source": [
    "df_trip_data.tail(1)"
   ]
  },
  {
   "cell_type": "code",
   "execution_count": 21,
   "id": "551708d9",
   "metadata": {},
   "outputs": [
    {
     "name": "stdout",
     "output_type": "stream",
     "text": [
      "+------------+-------+\n",
      "|service_type|  count|\n",
      "+------------+-------+\n",
      "|       green| 224917|\n",
      "|      yellow|4666625|\n",
      "+------------+-------+\n",
      "\n"
     ]
    }
   ],
   "source": [
    "df_trip_data.groupby('service_type').count().show()"
   ]
  },
  {
   "cell_type": "markdown",
   "id": "1b8233b5",
   "metadata": {},
   "source": [
    "## Spark SQL"
   ]
  },
  {
   "cell_type": "code",
   "execution_count": 22,
   "id": "5bd833dd",
   "metadata": {},
   "outputs": [],
   "source": [
    "df_trip_data.createOrReplaceTempView ('trip_data')"
   ]
  },
  {
   "cell_type": "code",
   "execution_count": 23,
   "id": "05ffc3ad",
   "metadata": {},
   "outputs": [
    {
     "name": "stdout",
     "output_type": "stream",
     "text": [
      "+--------+-------------------+-------------------+---------------+-------------+----------+------------------+------------+------------+------------+-----------+-----+-------+----------+------------+---------------------+------------+--------------------+------------+\n",
      "|VendorID|    pickup_datetime|   dropoff_datetime|passenger_count|trip_distance|RatecodeID|store_and_fwd_flag|PULocationID|DOLocationID|payment_type|fare_amount|extra|mta_tax|tip_amount|tolls_amount|improvement_surcharge|total_amount|congestion_surcharge|service_type|\n",
      "+--------+-------------------+-------------------+---------------+-------------+----------+------------------+------------+------------+------------+-----------+-----+-------+----------+------------+---------------------+------------+--------------------+------------+\n",
      "|     2.0|2021-03-01 01:05:42|2021-03-01 01:14:03|            1.0|         1.56|       1.0|                 N|          83|         129|         1.0|        7.5|  0.5|    0.5|       0.0|         0.0|                  0.3|         8.8|                 0.0|       green|\n",
      "|     2.0|2021-03-01 01:21:03|2021-03-01 01:26:17|            1.0|         0.96|       1.0|                 N|         243|         235|         2.0|        6.0|  0.5|    0.5|       0.0|         0.0|                  0.3|         7.3|                 0.0|       green|\n",
      "|     2.0|2021-03-01 01:02:06|2021-03-01 01:22:26|            1.0|         9.93|       1.0|                 N|          75|         242|         1.0|       28.0|  0.5|    0.5|       2.0|         0.0|                  0.3|        31.3|                 0.0|       green|\n",
      "|     2.0|2021-03-01 01:24:03|2021-03-01 01:31:43|            1.0|         2.57|       1.0|                 N|         242|         208|         2.0|        9.5|  0.5|    0.5|       0.0|         0.0|                  0.3|        10.8|                 0.0|       green|\n",
      "|     1.0|2021-03-01 01:11:10|2021-03-01 01:14:46|            1.0|          0.8|       1.0|                 N|          41|         151|         1.0|        5.0|  0.5|    0.5|      1.85|         0.0|                  0.3|        8.15|                 0.0|       green|\n",
      "|     2.0|2021-03-01 01:56:32|2021-03-01 02:03:48|            1.0|         1.12|       1.0|                 N|         173|          56|         2.0|        7.0|  0.5|    0.5|       0.0|         0.0|                  0.3|         8.3|                 0.0|       green|\n",
      "|     2.0|2021-03-01 01:11:06|2021-03-01 01:13:25|            1.0|         0.38|       1.0|                 N|          75|          75|         3.0|       -3.5| -0.5|   -0.5|       0.0|         0.0|                 -0.3|        -4.8|                 0.0|       green|\n",
      "|     2.0|2021-03-01 01:11:06|2021-03-01 01:13:25|            1.0|         0.38|       1.0|                 N|          75|          75|         2.0|        3.5|  0.5|    0.5|       0.0|         0.0|                  0.3|         4.8|                 0.0|       green|\n",
      "|     2.0|2021-03-01 01:16:16|2021-03-01 01:28:22|            1.0|         1.73|       1.0|                 N|          43|          24|         1.0|        9.5|  0.5|    0.5|       3.0|         0.0|                  0.3|        13.8|                 0.0|       green|\n",
      "|     2.0|2021-03-01 02:12:01|2021-03-01 02:16:04|            1.0|          0.0|       1.0|                 N|         107|         170|         2.0|       11.0|  0.5|    0.5|       0.0|         0.0|                  0.3|       15.05|                2.75|       green|\n",
      "+--------+-------------------+-------------------+---------------+-------------+----------+------------------+------------+------------+------------+-----------+-----+-------+----------+------------+---------------------+------------+--------------------+------------+\n",
      "\n"
     ]
    }
   ],
   "source": [
    "spark.sql('select * from trip_data limit 10').show()"
   ]
  },
  {
   "cell_type": "code",
   "execution_count": 24,
   "id": "782ced98",
   "metadata": {
    "scrolled": true
   },
   "outputs": [
    {
     "name": "stdout",
     "output_type": "stream",
     "text": [
      "+------------+--------+\n",
      "|service_type|count(1)|\n",
      "+------------+--------+\n",
      "|       green|  224917|\n",
      "|      yellow| 4666625|\n",
      "+------------+--------+\n",
      "\n"
     ]
    }
   ],
   "source": [
    "spark.sql(\"\"\"\n",
    "SELECT \n",
    "    service_type,\n",
    "    COUNT(1)\n",
    "\n",
    "FROM \n",
    "    trip_data\n",
    "\n",
    "Group by\n",
    "    service_type\n",
    "\n",
    "\"\"\").show()"
   ]
  },
  {
   "cell_type": "code",
   "execution_count": 25,
   "id": "5d672e6b",
   "metadata": {},
   "outputs": [
    {
     "name": "stdout",
     "output_type": "stream",
     "text": [
      "+------------+-------------------+------------+--------------------+---------------------+-----------------------+--------------------------+----------------------------+-------------------------------------+----------------------------+------------------------------------+--------------------------+------------------------+\n",
      "|revenue_zone|      revenue_month|service_type|revenue_monthly_fare|revenue_monthly_extra|revenue_monthly_mta_tax|revenue_monthly_tip_amount|revenue_monthly_tolls_amount|revenue_monthly_improvement_surcharge|revenue_monthly_total_amount|revenue_monthly_congestion_surcharge|avg_montly_passenger_count|avg_montly_trip_distance|\n",
      "+------------+-------------------+------------+--------------------+---------------------+-----------------------+--------------------------+----------------------------+-------------------------------------+----------------------------+------------------------------------+--------------------------+------------------------+\n",
      "|         126|2021-03-01 00:00:00|       green|   4114.800000000001|                299.1|                   26.5|                     58.82|                       79.56|                    54.59999999999984|           4641.629999999995|                                8.25|                     1.375|      4.7962841530054625|\n",
      "|         259|2021-01-01 00:00:00|       green|  4699.5099999999975|               207.85|                    3.5|                     216.0|          280.47000000000014|                   46.499999999999915|           5453.830000000001|                                 0.0|                       1.0|        8.06683870967742|\n",
      "|           4|2021-03-01 00:00:00|       green|              663.77|                57.75|                    0.5|                       0.0|                       12.24|                    6.299999999999998|           740.5600000000002|                                 0.0|                       1.0|       7.920476190476189|\n",
      "|         159|2021-02-01 00:00:00|       green|   8235.910000000014|               609.24|                   76.5|         334.3599999999999|           293.7600000000001|                   119.39999999999922|            9796.42000000002|                                55.0|        1.2117647058823529|       154.0145792079207|\n",
      "|         201|2021-01-01 00:00:00|       green|  2323.2100000000005|                58.35|                    2.0|                     92.95|          177.23999999999998|                   15.900000000000016|          2669.6499999999987|                                 0.0|                       1.0|      14.093018867924528|\n",
      "|         222|2021-03-01 00:00:00|       green|   6735.190000000005|               611.45|                    5.0|                      11.6|          238.68000000000012|                     69.5999999999997|           7671.519999999992|                                 0.0|                       1.0|       7.821077586206898|\n",
      "|          75|2021-04-01 00:00:00|       green|               108.5|                 7.25|                    4.5|        11.959999999999999|                         0.0|                   2.6999999999999997|                      143.16|                                11.0|                       1.0|      3.3244444444444445|\n",
      "|         232|2021-01-01 00:00:00|       green|             1378.33|                 60.5|                    0.0|                      71.5|                       35.18|                   13.800000000000011|          1559.3100000000002|                                null|                      null|       37.67347826086956|\n",
      "|         169|2021-03-01 00:00:00|       green|   11397.26000000004|    835.2800000000001|                   58.5|        102.06999999999998|           477.3600000000003|                   131.09999999999926|          13004.319999999978|                                 0.0|         1.126984126984127|        172.729084668192|\n",
      "|          47|2021-01-01 00:00:00|       green|    8554.06000000001|               337.19|                   23.0|                    570.16|          379.44000000000017|                   105.29999999999936|          10042.400000000014|                                 5.5|          1.11864406779661|       5.839145299145296|\n",
      "|         155|2021-01-01 00:00:00|       green|   6618.399999999996|                281.5|                    4.5|                     413.5|          187.77000000000007|                    77.09999999999962|           7582.769999999999|                                 0.0|        1.0909090909090908|        592.215875486381|\n",
      "|          67|2021-01-01 00:00:00|       green|  2127.7400000000007|                110.0|                    4.5|        141.67000000000002|                        30.6|                   28.800000000000047|           2443.310000000001|                                 0.0|                       1.0|      4.0600000000000005|\n",
      "|          74|2021-02-01 00:00:00|       green|    69859.3299999998|   3153.9399999999996|                 2754.0|        7923.5200000000095|          1158.1699999999987|                   1819.7999999998158|            89973.7600000047|                              3979.0|        1.1432133950837193|      14.267237252008522|\n",
      "|          41|2021-02-01 00:00:00|       green|  38442.249999999956|   1860.6399999999992|                 1583.5|         3792.690000000001|          326.64000000000016|                   1061.0999999999306|           48944.42000000009|                             2092.75|        1.1313572542901715|      10.652777464788727|\n",
      "|          45|2021-01-01 00:00:00|       green|   759.3599999999999|                 27.5|                    0.0|                     35.75|                       18.36|                    6.899999999999998|           847.8700000000001|                                null|                      null|       8.127826086956523|\n",
      "|         106|2021-01-01 00:00:00|       green|             3838.63|                210.7|                    8.0|                    255.73|                       24.48|                    53.39999999999985|           4396.439999999996|                                 0.0|        1.2941176470588236|       4.355337078651685|\n",
      "|          96|2021-01-01 00:00:00|       green|              273.07|                  7.5|                    1.5|                     13.75|                       12.24|                   2.9999999999999996|                      311.06|                                 0.0|        1.3333333333333333|       6.860000000000001|\n",
      "|         189|2021-03-01 00:00:00|       green|  3603.6100000000006|               361.89|                   15.0|         85.16000000000001|                       16.82|                   50.699999999999875|           4141.430000000003|                                 5.5|                    1.0625|      3.7485207100591724|\n",
      "|         168|2021-01-01 00:00:00|       green|   9407.679999999997|   360.70000000000005|                   49.0|                     499.0|           403.1100000000002|                   116.69999999999925|          10849.940000000017|                                8.25|         1.168141592920354|       5.281323155216285|\n",
      "|          58|2021-01-01 00:00:00|       green|  223.74999999999997|                  0.0|                    1.0|                     13.75|                       15.04|                                  2.1|          255.64000000000001|                                 0.0|                       2.0|      11.228571428571428|\n",
      "+------------+-------------------+------------+--------------------+---------------------+-----------------------+--------------------------+----------------------------+-------------------------------------+----------------------------+------------------------------------+--------------------------+------------------------+\n",
      "only showing top 20 rows\n",
      "\n"
     ]
    }
   ],
   "source": [
    "spark.sql(\"\"\"\n",
    "\n",
    "SELECT \n",
    "    -- Reveneue grouping \n",
    "    PULocationID AS revenue_zone,\n",
    "    date_trunc('month', pickup_datetime) AS revenue_month, \n",
    "    service_type, \n",
    "\n",
    "    -- Revenue calculation \n",
    "    SUM(fare_amount) AS revenue_monthly_fare,\n",
    "    SUM(extra) AS revenue_monthly_extra,\n",
    "    SUM(mta_tax) AS revenue_monthly_mta_tax,\n",
    "    SUM(tip_amount) AS revenue_monthly_tip_amount,\n",
    "    SUM(tolls_amount) AS revenue_monthly_tolls_amount,\n",
    "    SUM(improvement_surcharge) AS revenue_monthly_improvement_surcharge,\n",
    "    SUM(total_amount) AS revenue_monthly_total_amount,\n",
    "    SUM(congestion_surcharge) AS revenue_monthly_congestion_surcharge,\n",
    "\n",
    "    -- Additional calculations\n",
    "    AVG(passenger_count) AS avg_montly_passenger_count,\n",
    "    AVG(trip_distance) AS avg_montly_trip_distance\n",
    "FROM\n",
    "    trip_data\n",
    "GROUP BY\n",
    "    1, 2, 3\n",
    "\n",
    "\n",
    "\n",
    "\"\"\").show()"
   ]
  },
  {
   "cell_type": "code",
   "execution_count": 26,
   "id": "04fb3a36",
   "metadata": {},
   "outputs": [],
   "source": [
    "df_result = spark.sql(\"\"\"\n",
    "\n",
    "SELECT \n",
    "    -- Reveneue grouping \n",
    "    PULocationID AS revenue_zone,\n",
    "    date_trunc('month', pickup_datetime) AS revenue_month, \n",
    "    service_type, \n",
    "\n",
    "    -- Revenue calculation \n",
    "    SUM(fare_amount) AS revenue_monthly_fare,\n",
    "    SUM(extra) AS revenue_monthly_extra,\n",
    "    SUM(mta_tax) AS revenue_monthly_mta_tax,\n",
    "    SUM(tip_amount) AS revenue_monthly_tip_amount,\n",
    "    SUM(tolls_amount) AS revenue_monthly_tolls_amount,\n",
    "    SUM(improvement_surcharge) AS revenue_monthly_improvement_surcharge,\n",
    "    SUM(total_amount) AS revenue_monthly_total_amount,\n",
    "    SUM(congestion_surcharge) AS revenue_monthly_congestion_surcharge,\n",
    "\n",
    "    -- Additional calculations\n",
    "    AVG(passenger_count) AS avg_montly_passenger_count,\n",
    "    AVG(trip_distance) AS avg_montly_trip_distance\n",
    "FROM\n",
    "    trip_data\n",
    "GROUP BY\n",
    "    1, 2, 3\n",
    "\n",
    "\n",
    "\n",
    "\"\"\")"
   ]
  },
  {
   "cell_type": "code",
   "execution_count": 27,
   "id": "87cea9d3",
   "metadata": {},
   "outputs": [],
   "source": [
    "df_result.write.parquet('data/monthly_revenue')"
   ]
  },
  {
   "cell_type": "code",
   "execution_count": null,
   "id": "be7489ae",
   "metadata": {},
   "outputs": [],
   "source": [
    "# To write the result to one partition\n",
    "df_result.coalesce(1).write.parquet('data/monthly_revenue', mode='overwrite')"
   ]
  },
  {
   "cell_type": "code",
   "execution_count": 28,
   "id": "1b571447",
   "metadata": {},
   "outputs": [
    {
     "name": "stdout",
     "output_type": "stream",
     "text": [
      "Folder PATH listing\n",
      "Volume serial number is FCDB-F4E8\n",
      "D:.\n",
      "+---.ipynb_checkpoints\n",
      "+---data\n",
      "¦   +---green\n",
      "¦   +---monthly_revenue\n",
      "¦   +---yellow\n",
      "+---fhvhv\n",
      "¦   +---2021\n",
      "¦       +---01\n",
      "+---spark-warehouse\n"
     ]
    }
   ],
   "source": [
    "!tree"
   ]
  },
  {
   "cell_type": "code",
   "execution_count": 29,
   "id": "c98f9eaa",
   "metadata": {},
   "outputs": [],
   "source": [
    "import pandas as pd"
   ]
  },
  {
   "cell_type": "code",
   "execution_count": 30,
   "id": "51037d7e",
   "metadata": {},
   "outputs": [],
   "source": [
    "df_out = pd.read_parquet('data/monthly_revenue/part-00000-2a76ea9f-afc4-468e-aba6-e143ec2f8ac9-c000.snappy.parquet')"
   ]
  },
  {
   "cell_type": "code",
   "execution_count": 31,
   "id": "fc6d25c4",
   "metadata": {},
   "outputs": [
    {
     "data": {
      "text/html": [
       "<div>\n",
       "<style scoped>\n",
       "    .dataframe tbody tr th:only-of-type {\n",
       "        vertical-align: middle;\n",
       "    }\n",
       "\n",
       "    .dataframe tbody tr th {\n",
       "        vertical-align: top;\n",
       "    }\n",
       "\n",
       "    .dataframe thead th {\n",
       "        text-align: right;\n",
       "    }\n",
       "</style>\n",
       "<table border=\"1\" class=\"dataframe\">\n",
       "  <thead>\n",
       "    <tr style=\"text-align: right;\">\n",
       "      <th></th>\n",
       "      <th>revenue_zone</th>\n",
       "      <th>revenue_month</th>\n",
       "      <th>service_type</th>\n",
       "      <th>revenue_monthly_fare</th>\n",
       "      <th>revenue_monthly_extra</th>\n",
       "      <th>revenue_monthly_mta_tax</th>\n",
       "      <th>revenue_monthly_tip_amount</th>\n",
       "      <th>revenue_monthly_tolls_amount</th>\n",
       "      <th>revenue_monthly_improvement_surcharge</th>\n",
       "      <th>revenue_monthly_total_amount</th>\n",
       "      <th>revenue_monthly_congestion_surcharge</th>\n",
       "      <th>avg_montly_passenger_count</th>\n",
       "      <th>avg_montly_trip_distance</th>\n",
       "    </tr>\n",
       "  </thead>\n",
       "  <tbody>\n",
       "    <tr>\n",
       "      <th>0</th>\n",
       "      <td>126</td>\n",
       "      <td>2021-02-28 23:00:00</td>\n",
       "      <td>green</td>\n",
       "      <td>4114.80</td>\n",
       "      <td>299.10</td>\n",
       "      <td>26.5</td>\n",
       "      <td>58.82</td>\n",
       "      <td>79.56</td>\n",
       "      <td>54.6</td>\n",
       "      <td>4641.63</td>\n",
       "      <td>8.25</td>\n",
       "      <td>1.375000</td>\n",
       "      <td>4.796284</td>\n",
       "    </tr>\n",
       "    <tr>\n",
       "      <th>1</th>\n",
       "      <td>259</td>\n",
       "      <td>2020-12-31 23:00:00</td>\n",
       "      <td>green</td>\n",
       "      <td>4699.51</td>\n",
       "      <td>207.85</td>\n",
       "      <td>3.5</td>\n",
       "      <td>216.00</td>\n",
       "      <td>280.47</td>\n",
       "      <td>46.5</td>\n",
       "      <td>5453.83</td>\n",
       "      <td>0.00</td>\n",
       "      <td>1.000000</td>\n",
       "      <td>8.066839</td>\n",
       "    </tr>\n",
       "    <tr>\n",
       "      <th>2</th>\n",
       "      <td>4</td>\n",
       "      <td>2021-02-28 23:00:00</td>\n",
       "      <td>green</td>\n",
       "      <td>663.77</td>\n",
       "      <td>57.75</td>\n",
       "      <td>0.5</td>\n",
       "      <td>0.00</td>\n",
       "      <td>12.24</td>\n",
       "      <td>6.3</td>\n",
       "      <td>740.56</td>\n",
       "      <td>0.00</td>\n",
       "      <td>1.000000</td>\n",
       "      <td>7.920476</td>\n",
       "    </tr>\n",
       "    <tr>\n",
       "      <th>3</th>\n",
       "      <td>159</td>\n",
       "      <td>2021-01-31 23:00:00</td>\n",
       "      <td>green</td>\n",
       "      <td>8235.91</td>\n",
       "      <td>609.24</td>\n",
       "      <td>76.5</td>\n",
       "      <td>334.36</td>\n",
       "      <td>293.76</td>\n",
       "      <td>119.4</td>\n",
       "      <td>9796.42</td>\n",
       "      <td>55.00</td>\n",
       "      <td>1.211765</td>\n",
       "      <td>154.014579</td>\n",
       "    </tr>\n",
       "    <tr>\n",
       "      <th>4</th>\n",
       "      <td>201</td>\n",
       "      <td>2020-12-31 23:00:00</td>\n",
       "      <td>green</td>\n",
       "      <td>2323.21</td>\n",
       "      <td>58.35</td>\n",
       "      <td>2.0</td>\n",
       "      <td>92.95</td>\n",
       "      <td>177.24</td>\n",
       "      <td>15.9</td>\n",
       "      <td>2669.65</td>\n",
       "      <td>0.00</td>\n",
       "      <td>1.000000</td>\n",
       "      <td>14.093019</td>\n",
       "    </tr>\n",
       "  </tbody>\n",
       "</table>\n",
       "</div>"
      ],
      "text/plain": [
       "   revenue_zone       revenue_month service_type  revenue_monthly_fare  \\\n",
       "0           126 2021-02-28 23:00:00        green               4114.80   \n",
       "1           259 2020-12-31 23:00:00        green               4699.51   \n",
       "2             4 2021-02-28 23:00:00        green                663.77   \n",
       "3           159 2021-01-31 23:00:00        green               8235.91   \n",
       "4           201 2020-12-31 23:00:00        green               2323.21   \n",
       "\n",
       "   revenue_monthly_extra  revenue_monthly_mta_tax  revenue_monthly_tip_amount  \\\n",
       "0                 299.10                     26.5                       58.82   \n",
       "1                 207.85                      3.5                      216.00   \n",
       "2                  57.75                      0.5                        0.00   \n",
       "3                 609.24                     76.5                      334.36   \n",
       "4                  58.35                      2.0                       92.95   \n",
       "\n",
       "   revenue_monthly_tolls_amount  revenue_monthly_improvement_surcharge  \\\n",
       "0                         79.56                                   54.6   \n",
       "1                        280.47                                   46.5   \n",
       "2                         12.24                                    6.3   \n",
       "3                        293.76                                  119.4   \n",
       "4                        177.24                                   15.9   \n",
       "\n",
       "   revenue_monthly_total_amount  revenue_monthly_congestion_surcharge  \\\n",
       "0                       4641.63                                  8.25   \n",
       "1                       5453.83                                  0.00   \n",
       "2                        740.56                                  0.00   \n",
       "3                       9796.42                                 55.00   \n",
       "4                       2669.65                                  0.00   \n",
       "\n",
       "   avg_montly_passenger_count  avg_montly_trip_distance  \n",
       "0                    1.375000                  4.796284  \n",
       "1                    1.000000                  8.066839  \n",
       "2                    1.000000                  7.920476  \n",
       "3                    1.211765                154.014579  \n",
       "4                    1.000000                 14.093019  "
      ]
     },
     "execution_count": 31,
     "metadata": {},
     "output_type": "execute_result"
    }
   ],
   "source": [
    "df_out.head()"
   ]
  },
  {
   "cell_type": "code",
   "execution_count": null,
   "id": "ebde2a01",
   "metadata": {},
   "outputs": [],
   "source": []
  }
 ],
 "metadata": {
  "kernelspec": {
   "display_name": "Python 3 (ipykernel)",
   "language": "python",
   "name": "python3"
  },
  "language_info": {
   "codemirror_mode": {
    "name": "ipython",
    "version": 3
   },
   "file_extension": ".py",
   "mimetype": "text/x-python",
   "name": "python",
   "nbconvert_exporter": "python",
   "pygments_lexer": "ipython3",
   "version": "3.10.10"
  }
 },
 "nbformat": 4,
 "nbformat_minor": 5
}
