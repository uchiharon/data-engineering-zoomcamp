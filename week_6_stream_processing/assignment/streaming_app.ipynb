{
 "cells": [
  {
   "cell_type": "markdown",
   "metadata": {
    "tags": []
   },
   "source": [
    "# Popularity of PUlocationID across green and fhv trip datasets"
   ]
  },
  {
   "cell_type": "markdown",
   "metadata": {
    "tags": []
   },
   "source": [
    "## Setup\n",
    "---\n",
    "Installing of required spark-kafka dependences\n",
    "\n",
    "---\n",
    "Import all required libries"
   ]
  },
  {
   "cell_type": "code",
   "execution_count": 1,
   "metadata": {
    "tags": []
   },
   "outputs": [],
   "source": [
    "import os\n",
    "os.environ['PYSPARK_SUBMIT_ARGS'] = '--packages org.apache.spark:spark-sql-kafka-0-10_2.12:3.3.1,org.apache.spark:spark-avro_2.12:3.3.1 pyspark-shell'"
   ]
  },
  {
   "cell_type": "code",
   "execution_count": 2,
   "metadata": {
    "tags": []
   },
   "outputs": [
    {
     "name": "stdout",
     "output_type": "stream",
     "text": [
      ":: loading settings :: url = jar:file:/usr/local/lib/python3.10/dist-packages/pyspark/jars/ivy-2.5.0.jar!/org/apache/ivy/core/settings/ivysettings.xml\n"
     ]
    },
    {
     "name": "stderr",
     "output_type": "stream",
     "text": [
      "Ivy Default Cache set to: /root/.ivy2/cache\n",
      "The jars for the packages stored in: /root/.ivy2/jars\n",
      "org.apache.spark#spark-sql-kafka-0-10_2.12 added as a dependency\n",
      "org.apache.spark#spark-avro_2.12 added as a dependency\n",
      ":: resolving dependencies :: org.apache.spark#spark-submit-parent-5e91458b-cc0f-47bd-ba4f-e793adeacc53;1.0\n",
      "\tconfs: [default]\n",
      "\tfound org.apache.spark#spark-sql-kafka-0-10_2.12;3.3.1 in central\n",
      "\tfound org.apache.spark#spark-token-provider-kafka-0-10_2.12;3.3.1 in central\n",
      "\tfound org.apache.kafka#kafka-clients;2.8.1 in central\n",
      "\tfound org.lz4#lz4-java;1.8.0 in central\n",
      "\tfound org.xerial.snappy#snappy-java;1.1.8.4 in central\n",
      "\tfound org.slf4j#slf4j-api;1.7.32 in central\n",
      "\tfound org.apache.hadoop#hadoop-client-runtime;3.3.2 in central\n",
      "\tfound org.spark-project.spark#unused;1.0.0 in central\n",
      "\tfound org.apache.hadoop#hadoop-client-api;3.3.2 in central\n",
      "\tfound commons-logging#commons-logging;1.1.3 in central\n",
      "\tfound com.google.code.findbugs#jsr305;3.0.0 in central\n",
      "\tfound org.apache.commons#commons-pool2;2.11.1 in central\n",
      "\tfound org.apache.spark#spark-avro_2.12;3.3.1 in central\n",
      "\tfound org.tukaani#xz;1.8 in central\n",
      ":: resolution report :: resolve 574ms :: artifacts dl 12ms\n",
      "\t:: modules in use:\n",
      "\tcom.google.code.findbugs#jsr305;3.0.0 from central in [default]\n",
      "\tcommons-logging#commons-logging;1.1.3 from central in [default]\n",
      "\torg.apache.commons#commons-pool2;2.11.1 from central in [default]\n",
      "\torg.apache.hadoop#hadoop-client-api;3.3.2 from central in [default]\n",
      "\torg.apache.hadoop#hadoop-client-runtime;3.3.2 from central in [default]\n",
      "\torg.apache.kafka#kafka-clients;2.8.1 from central in [default]\n",
      "\torg.apache.spark#spark-avro_2.12;3.3.1 from central in [default]\n",
      "\torg.apache.spark#spark-sql-kafka-0-10_2.12;3.3.1 from central in [default]\n",
      "\torg.apache.spark#spark-token-provider-kafka-0-10_2.12;3.3.1 from central in [default]\n",
      "\torg.lz4#lz4-java;1.8.0 from central in [default]\n",
      "\torg.slf4j#slf4j-api;1.7.32 from central in [default]\n",
      "\torg.spark-project.spark#unused;1.0.0 from central in [default]\n",
      "\torg.tukaani#xz;1.8 from central in [default]\n",
      "\torg.xerial.snappy#snappy-java;1.1.8.4 from central in [default]\n",
      "\t---------------------------------------------------------------------\n",
      "\t|                  |            modules            ||   artifacts   |\n",
      "\t|       conf       | number| search|dwnlded|evicted|| number|dwnlded|\n",
      "\t---------------------------------------------------------------------\n",
      "\t|      default     |   14  |   0   |   0   |   0   ||   14  |   0   |\n",
      "\t---------------------------------------------------------------------\n",
      ":: retrieving :: org.apache.spark#spark-submit-parent-5e91458b-cc0f-47bd-ba4f-e793adeacc53\n",
      "\tconfs: [default]\n",
      "\t0 artifacts copied, 14 already retrieved (0kB/10ms)\n"
     ]
    },
    {
     "name": "stdout",
     "output_type": "stream",
     "text": [
      "23/03/15 12:13:33 WARN NativeCodeLoader: Unable to load native-hadoop library for your platform... using builtin-java classes where applicable\n"
     ]
    },
    {
     "name": "stderr",
     "output_type": "stream",
     "text": [
      "Setting default log level to \"WARN\".\n",
      "To adjust logging level use sc.setLogLevel(newLevel). For SparkR, use setLogLevel(newLevel).\n"
     ]
    }
   ],
   "source": [
    "from pyspark.sql import SparkSession\n",
    "import pyspark.sql.types as T\n",
    "import pyspark.sql.functions as F\n",
    "\n",
    "spark = SparkSession \\\n",
    "    .builder \\\n",
    "    .appName(\"Spark-Notebook\") \\\n",
    "    .getOrCreate()"
   ]
  },
  {
   "cell_type": "markdown",
   "metadata": {
    "tags": []
   },
   "source": [
    "## 1. Reading from Kafka Stream\n",
    "\n",
    "through `readStream`"
   ]
  },
  {
   "cell_type": "markdown",
   "metadata": {},
   "source": [
    "#### 1.1 Raw Kafka Stream"
   ]
  },
  {
   "cell_type": "code",
   "execution_count": 3,
   "metadata": {
    "tags": []
   },
   "outputs": [],
   "source": [
    "# default for startingOffsets is \"latest\"\n",
    "df_kafka_raw_green = spark \\\n",
    "    .readStream \\\n",
    "    .format(\"kafka\") \\\n",
    "    .option(\"kafka.bootstrap.servers\", \"localhost:9092,broker:29092\") \\\n",
    "    .option(\"subscribe\", \"green_puid_counts_windowed\") \\\n",
    "    .option(\"startingOffsets\", \"earliest\") \\\n",
    "    .option(\"checkpointLocation\", \"checkpoint\") \\\n",
    "    .load()\n",
    "\n",
    "df_kafka_raw_fhv = spark \\\n",
    "    .readStream \\\n",
    "    .format(\"kafka\") \\\n",
    "    .option(\"kafka.bootstrap.servers\", \"localhost:9092,broker:29092\") \\\n",
    "    .option(\"subscribe\", \"fhv_puid_counts_windowed\") \\\n",
    "    .option(\"startingOffsets\", \"earliest\") \\\n",
    "    .option(\"checkpointLocation\", \"checkpoint\") \\\n",
    "    .load()"
   ]
  },
  {
   "cell_type": "code",
   "execution_count": 4,
   "metadata": {
    "tags": []
   },
   "outputs": [
    {
     "name": "stdout",
     "output_type": "stream",
     "text": [
      "root\n",
      " |-- key: binary (nullable = true)\n",
      " |-- value: binary (nullable = true)\n",
      " |-- topic: string (nullable = true)\n",
      " |-- partition: integer (nullable = true)\n",
      " |-- offset: long (nullable = true)\n",
      " |-- timestamp: timestamp (nullable = true)\n",
      " |-- timestampType: integer (nullable = true)\n",
      "\n",
      "root\n",
      " |-- key: binary (nullable = true)\n",
      " |-- value: binary (nullable = true)\n",
      " |-- topic: string (nullable = true)\n",
      " |-- partition: integer (nullable = true)\n",
      " |-- offset: long (nullable = true)\n",
      " |-- timestamp: timestamp (nullable = true)\n",
      " |-- timestampType: integer (nullable = true)\n",
      "\n"
     ]
    },
    {
     "data": {
      "text/plain": [
       "(None, None)"
      ]
     },
     "execution_count": 4,
     "metadata": {},
     "output_type": "execute_result"
    }
   ],
   "source": [
    "df_kafka_raw_green.printSchema(), df_kafka_raw_fhv.printSchema()"
   ]
  },
  {
   "cell_type": "markdown",
   "metadata": {
    "tags": []
   },
   "source": [
    "#### 1.2 Encoded Kafka Stream"
   ]
  },
  {
   "cell_type": "code",
   "execution_count": 5,
   "metadata": {
    "tags": []
   },
   "outputs": [],
   "source": [
    "df_kafka_encoded_green = df_kafka_raw_green.selectExpr(\"CAST(key AS STRING)\",\"CAST(value AS STRING)\")\n",
    "\n",
    "df_kafka_encoded_fhv = df_kafka_raw_fhv.selectExpr(\"CAST(key AS STRING)\",\"CAST(value AS STRING)\")"
   ]
  },
  {
   "cell_type": "code",
   "execution_count": 6,
   "metadata": {
    "tags": []
   },
   "outputs": [
    {
     "name": "stdout",
     "output_type": "stream",
     "text": [
      "root\n",
      " |-- key: string (nullable = true)\n",
      " |-- value: string (nullable = true)\n",
      "\n",
      "root\n",
      " |-- key: string (nullable = true)\n",
      " |-- value: string (nullable = true)\n",
      "\n"
     ]
    },
    {
     "data": {
      "text/plain": [
       "(None, None)"
      ]
     },
     "execution_count": 6,
     "metadata": {},
     "output_type": "execute_result"
    }
   ],
   "source": [
    "df_kafka_encoded_green.printSchema(), df_kafka_encoded_fhv.printSchema()"
   ]
  },
  {
   "cell_type": "markdown",
   "metadata": {},
   "source": [
    "#### 1.3 Structure Streaming DataFrame"
   ]
  },
  {
   "cell_type": "code",
   "execution_count": 7,
   "metadata": {
    "tags": []
   },
   "outputs": [],
   "source": [
    "def parse_ride_from_kafka_message(df_raw, schema):\n",
    "    \"\"\" take a Spark Streaming df and parse value col based on <schema>, return streaming df cols in schema \"\"\"\n",
    "    assert df_raw.isStreaming is True, \"DataFrame doesn't receive streaming data\"\n",
    "\n",
    "    df = df_raw.selectExpr(\"CAST(key AS STRING)\", \"CAST(value AS STRING)\")\n",
    "\n",
    "    # split attributes to nested array in one Column\n",
    "    col = F.split(df['value'], ', ')\n",
    "\n",
    "    # expand col to multiple top-level columns\n",
    "    for idx, field in enumerate(schema):\n",
    "        df = df.withColumn(field.name, col.getItem(idx).cast(field.dataType))\n",
    "    return df.select([field.name for field in schema])"
   ]
  },
  {
   "cell_type": "code",
   "execution_count": 8,
   "metadata": {
    "tags": []
   },
   "outputs": [],
   "source": [
    "FHV_SCHEMA = T.StructType(\n",
    "    [T.StructField(\"dispatching_base_num\", T.StringType()),\n",
    "     T.StructField('pickup_datetime', T.TimestampType()),\n",
    "     T.StructField('dropOff_datetime', T.TimestampType()),\n",
    "     T.StructField(\"PUlocationID\", T.IntegerType()),\n",
    "     T.StructField(\"DOlocationID\", T.IntegerType()),\n",
    "     T.StructField(\"SR_Flag\", T.FloatType()),\n",
    "     T.StructField(\"Affiliated_base_number\", T.StringType()),\n",
    "     ])\n",
    "\n",
    "\n",
    "\n",
    "\n",
    "GREEN_SCHEMA = T.StructType(\n",
    "    [T.StructField(\"VendorID\", T.IntegerType()),\n",
    "     T.StructField('lpep_pickup_datetime', T.TimestampType()),\n",
    "     T.StructField('lpep_dropoff_datetime', T.TimestampType()),\n",
    "     T.StructField(\"PULocationID\", T.IntegerType()),\n",
    "     T.StructField(\"DOLocationID\", T.IntegerType()),\n",
    "     T.StructField(\"passenger_count\", T.IntegerType()),\n",
    "     T.StructField(\"trip_distance\", T.FloatType()),\n",
    "     ])"
   ]
  },
  {
   "cell_type": "code",
   "execution_count": 9,
   "metadata": {
    "tags": []
   },
   "outputs": [],
   "source": [
    "df_rides_green = parse_ride_from_kafka_message(df_raw=df_kafka_raw_green, schema=GREEN_SCHEMA)\n",
    "\n",
    "df_rides_fhv = parse_ride_from_kafka_message(df_raw=df_kafka_raw_fhv, schema=FHV_SCHEMA)"
   ]
  },
  {
   "cell_type": "code",
   "execution_count": 10,
   "metadata": {
    "tags": []
   },
   "outputs": [
    {
     "name": "stdout",
     "output_type": "stream",
     "text": [
      "root\n",
      " |-- VendorID: integer (nullable = true)\n",
      " |-- lpep_pickup_datetime: timestamp (nullable = true)\n",
      " |-- lpep_dropoff_datetime: timestamp (nullable = true)\n",
      " |-- PULocationID: integer (nullable = true)\n",
      " |-- DOLocationID: integer (nullable = true)\n",
      " |-- passenger_count: integer (nullable = true)\n",
      " |-- trip_distance: float (nullable = true)\n",
      "\n",
      "root\n",
      " |-- dispatching_base_num: string (nullable = true)\n",
      " |-- pickup_datetime: timestamp (nullable = true)\n",
      " |-- dropOff_datetime: timestamp (nullable = true)\n",
      " |-- PUlocationID: integer (nullable = true)\n",
      " |-- DOlocationID: integer (nullable = true)\n",
      " |-- SR_Flag: float (nullable = true)\n",
      " |-- Affiliated_base_number: string (nullable = true)\n",
      "\n"
     ]
    },
    {
     "data": {
      "text/plain": [
       "(None, None)"
      ]
     },
     "execution_count": 10,
     "metadata": {},
     "output_type": "execute_result"
    }
   ],
   "source": [
    "df_rides_green.printSchema(), df_rides_fhv.printSchema()"
   ]
  },
  {
   "cell_type": "markdown",
   "metadata": {
    "tags": []
   },
   "source": [
    "## 2 Sink Operation & Streaming Query\n",
    "\n"
   ]
  },
  {
   "cell_type": "markdown",
   "metadata": {
    "tags": []
   },
   "source": [
    "#### Console and Memory Sink"
   ]
  },
  {
   "cell_type": "code",
   "execution_count": 11,
   "metadata": {
    "tags": []
   },
   "outputs": [],
   "source": [
    "def sink_console(df, output_mode: str = 'complete', processing_time: str = '5 seconds'):\n",
    "    write_query = df.writeStream \\\n",
    "        .outputMode(output_mode) \\\n",
    "        .trigger(processingTime=processing_time) \\\n",
    "        .format(\"console\") \\\n",
    "        .option(\"truncate\", False) \\\n",
    "        .start()\n",
    "    return write_query # pyspark.sql.streaming.StreamingQuery"
   ]
  },
  {
   "cell_type": "code",
   "execution_count": 12,
   "metadata": {
    "tags": []
   },
   "outputs": [
    {
     "name": "stdout",
     "output_type": "stream",
     "text": [
      "23/03/15 12:14:07 WARN ResolveWriteToStream: Temporary checkpoint location created which is deleted normally when the query didn't fail: /tmp/temporary-93b509b2-80b5-44d0-8bdb-d605827a51df. If it's required to delete it under any circumstances, please set spark.sql.streaming.forceDeleteTempCheckpointLocation to true. Important to know deleting temp checkpoint folder is best effort.\n",
      "23/03/15 12:14:07 WARN ResolveWriteToStream: spark.sql.adaptive.enabled is not supported in streaming DataFrames/Datasets and will be disabled.\n"
     ]
    },
    {
     "name": "stderr",
     "output_type": "stream",
     "text": [
      "                                                                                \r"
     ]
    },
    {
     "name": "stdout",
     "output_type": "stream",
     "text": [
      "-------------------------------------------\n",
      "Batch: 0\n",
      "-------------------------------------------\n",
      "+------------+-----+\n",
      "|PULocationID|count|\n",
      "+------------+-----+\n",
      "+------------+-----+\n",
      "\n",
      "23/03/15 12:14:15 WARN ProcessingTimeExecutor: Current batch is falling behind. The trigger interval is 5000 milliseconds, but spent 7571 milliseconds\n"
     ]
    }
   ],
   "source": [
    "# Sink of green trip data\n",
    "write_query_green = sink_console(df_rides_green.groupby('PULocationID').count())"
   ]
  },
  {
   "cell_type": "code",
   "execution_count": 13,
   "metadata": {
    "tags": []
   },
   "outputs": [
    {
     "name": "stdout",
     "output_type": "stream",
     "text": [
      "23/03/15 12:14:20 WARN ResolveWriteToStream: Temporary checkpoint location created which is deleted normally when the query didn't fail: /tmp/temporary-72db1e3c-93e4-4f81-80c7-06d780d22936. If it's required to delete it under any circumstances, please set spark.sql.streaming.forceDeleteTempCheckpointLocation to true. Important to know deleting temp checkpoint folder is best effort.\n",
      "23/03/15 12:14:20 WARN ResolveWriteToStream: spark.sql.adaptive.enabled is not supported in streaming DataFrames/Datasets and will be disabled.\n"
     ]
    },
    {
     "name": "stderr",
     "output_type": "stream",
     "text": [
      "                                                                                \r"
     ]
    },
    {
     "name": "stdout",
     "output_type": "stream",
     "text": [
      "-------------------------------------------\n",
      "Batch: 0\n",
      "-------------------------------------------\n",
      "+------------+-----+\n",
      "|PULocationID|count|\n",
      "+------------+-----+\n",
      "+------------+-----+\n",
      "\n"
     ]
    },
    {
     "name": "stderr",
     "output_type": "stream",
     "text": [
      "                                                                                \r"
     ]
    },
    {
     "name": "stdout",
     "output_type": "stream",
     "text": [
      "-------------------------------------------\n",
      "Batch: 1\n",
      "-------------------------------------------\n",
      "+------------+-----+\n",
      "|PULocationID|count|\n",
      "+------------+-----+\n",
      "|236         |1    |\n",
      "|140         |1    |\n",
      "|null        |139  |\n",
      "|13          |1    |\n",
      "|162         |2    |\n",
      "|261         |1    |\n",
      "|249         |1    |\n",
      "|237         |2    |\n",
      "|141         |1    |\n",
      "|145         |1    |\n",
      "+------------+-----+\n",
      "\n",
      "23/03/15 12:15:51 WARN ProcessingTimeExecutor: Current batch is falling behind. The trigger interval is 5000 milliseconds, but spent 6767 milliseconds\n"
     ]
    },
    {
     "name": "stderr",
     "output_type": "stream",
     "text": [
      "                                                                                \r"
     ]
    },
    {
     "name": "stdout",
     "output_type": "stream",
     "text": [
      "-------------------------------------------\n",
      "Batch: 2\n",
      "-------------------------------------------\n",
      "+------------+-----+\n",
      "|PULocationID|count|\n",
      "+------------+-----+\n",
      "|236         |1    |\n",
      "|140         |1    |\n",
      "|null        |582  |\n",
      "|206         |2    |\n",
      "|13          |1    |\n",
      "|16          |2    |\n",
      "|142         |1    |\n",
      "|257         |1    |\n",
      "|88          |1    |\n",
      "|72          |1    |\n",
      "|229         |1    |\n",
      "|173         |4    |\n",
      "|161         |1    |\n",
      "|7           |1    |\n",
      "|162         |2    |\n",
      "|87          |1    |\n",
      "|171         |2    |\n",
      "|129         |1    |\n",
      "|261         |1    |\n",
      "|82          |1    |\n",
      "+------------+-----+\n",
      "only showing top 20 rows\n",
      "\n",
      "23/03/15 12:18:36 WARN ProcessingTimeExecutor: Current batch is falling behind. The trigger interval is 5000 milliseconds, but spent 6419 milliseconds\n"
     ]
    },
    {
     "name": "stderr",
     "output_type": "stream",
     "text": [
      "                                                                                \r"
     ]
    },
    {
     "name": "stdout",
     "output_type": "stream",
     "text": [
      "-------------------------------------------\n",
      "Batch: 3\n",
      "-------------------------------------------\n",
      "+------------+-----+\n",
      "|PULocationID|count|\n",
      "+------------+-----+\n",
      "|137         |1    |\n",
      "|81          |3    |\n",
      "|236         |3    |\n",
      "|140         |2    |\n",
      "|null        |844  |\n",
      "|206         |2    |\n",
      "|13          |1    |\n",
      "|16          |2    |\n",
      "|142         |2    |\n",
      "|257         |1    |\n",
      "|189         |1    |\n",
      "|88          |1    |\n",
      "|107         |1    |\n",
      "|72          |1    |\n",
      "|229         |1    |\n",
      "|173         |5    |\n",
      "|161         |1    |\n",
      "|7           |1    |\n",
      "|162         |2    |\n",
      "|130         |1    |\n",
      "+------------+-----+\n",
      "only showing top 20 rows\n",
      "\n"
     ]
    },
    {
     "name": "stderr",
     "output_type": "stream",
     "text": [
      "                                                                                \r"
     ]
    },
    {
     "name": "stdout",
     "output_type": "stream",
     "text": [
      "-------------------------------------------\n",
      "Batch: 4\n",
      "-------------------------------------------\n",
      "+------------+-----+\n",
      "|PULocationID|count|\n",
      "+------------+-----+\n",
      "|137         |1    |\n",
      "|53          |1    |\n",
      "|81          |3    |\n",
      "|192         |2    |\n",
      "|236         |3    |\n",
      "|232         |1    |\n",
      "|140         |2    |\n",
      "|132         |1    |\n",
      "|null        |1310 |\n",
      "|206         |3    |\n",
      "|13          |1    |\n",
      "|16          |2    |\n",
      "|142         |2    |\n",
      "|48          |2    |\n",
      "|92          |10   |\n",
      "|257         |1    |\n",
      "|15          |1    |\n",
      "|189         |1    |\n",
      "|88          |1    |\n",
      "|107         |1    |\n",
      "+------------+-----+\n",
      "only showing top 20 rows\n",
      "\n",
      "23/03/15 12:18:51 WARN ProcessingTimeExecutor: Current batch is falling behind. The trigger interval is 5000 milliseconds, but spent 6420 milliseconds\n"
     ]
    },
    {
     "name": "stderr",
     "output_type": "stream",
     "text": [
      "                                                                                \r"
     ]
    },
    {
     "name": "stdout",
     "output_type": "stream",
     "text": [
      "-------------------------------------------\n",
      "Batch: 5\n",
      "-------------------------------------------\n",
      "+------------+-----+\n",
      "|PULocationID|count|\n",
      "+------------+-----+\n",
      "|148         |105  |\n",
      "|243         |23   |\n",
      "|85          |12   |\n",
      "|251         |3    |\n",
      "|137         |28   |\n",
      "|65          |29   |\n",
      "|255         |133  |\n",
      "|53          |4    |\n",
      "|133         |7    |\n",
      "|78          |13   |\n",
      "|108         |6    |\n",
      "|155         |9    |\n",
      "|193         |4    |\n",
      "|34          |6    |\n",
      "|211         |35   |\n",
      "|115         |3    |\n",
      "|126         |8    |\n",
      "|81          |9    |\n",
      "|28          |10   |\n",
      "|183         |6    |\n",
      "+------------+-----+\n",
      "only showing top 20 rows\n",
      "\n",
      "23/03/15 12:18:58 WARN ProcessingTimeExecutor: Current batch is falling behind. The trigger interval is 5000 milliseconds, but spent 7006 milliseconds\n"
     ]
    },
    {
     "name": "stderr",
     "output_type": "stream",
     "text": [
      "                                                                                \r"
     ]
    },
    {
     "name": "stdout",
     "output_type": "stream",
     "text": [
      "-------------------------------------------\n",
      "Batch: 6\n",
      "-------------------------------------------\n",
      "+------------+-----+\n",
      "|PULocationID|count|\n",
      "+------------+-----+\n",
      "|148         |161  |\n",
      "|243         |31   |\n",
      "|137         |42   |\n",
      "|85          |19   |\n",
      "|251         |4    |\n",
      "|65          |40   |\n",
      "|53          |6    |\n",
      "|255         |175  |\n",
      "|133         |16   |\n",
      "|78          |23   |\n",
      "|108         |7    |\n",
      "|155         |12   |\n",
      "|193         |6    |\n",
      "|211         |45   |\n",
      "|34          |11   |\n",
      "|126         |9    |\n",
      "|115         |3    |\n",
      "|81          |14   |\n",
      "|28          |14   |\n",
      "|183         |7    |\n",
      "+------------+-----+\n",
      "only showing top 20 rows\n",
      "\n",
      "23/03/15 12:19:08 WARN ProcessingTimeExecutor: Current batch is falling behind. The trigger interval is 5000 milliseconds, but spent 10154 milliseconds\n"
     ]
    },
    {
     "name": "stderr",
     "output_type": "stream",
     "text": [
      "                                                                                \r"
     ]
    },
    {
     "name": "stdout",
     "output_type": "stream",
     "text": [
      "-------------------------------------------\n",
      "Batch: 7\n",
      "-------------------------------------------\n",
      "+------------+-----+\n",
      "|PULocationID|count|\n",
      "+------------+-----+\n",
      "|148         |349  |\n",
      "|243         |88   |\n",
      "|31          |3    |\n",
      "|137         |124  |\n",
      "|85          |48   |\n",
      "|251         |7    |\n",
      "|65          |82   |\n",
      "|53          |20   |\n",
      "|255         |313  |\n",
      "|133         |44   |\n",
      "|78          |54   |\n",
      "|108         |19   |\n",
      "|155         |40   |\n",
      "|193         |13   |\n",
      "|211         |111  |\n",
      "|34          |17   |\n",
      "|101         |7    |\n",
      "|126         |30   |\n",
      "|115         |4    |\n",
      "|81          |35   |\n",
      "+------------+-----+\n",
      "only showing top 20 rows\n",
      "\n",
      "23/03/15 12:19:18 WARN ProcessingTimeExecutor: Current batch is falling behind. The trigger interval is 5000 milliseconds, but spent 9511 milliseconds\n"
     ]
    },
    {
     "name": "stderr",
     "output_type": "stream",
     "text": [
      "                                                                                \r"
     ]
    },
    {
     "name": "stdout",
     "output_type": "stream",
     "text": [
      "-------------------------------------------\n",
      "Batch: 8\n",
      "-------------------------------------------\n",
      "+------------+-----+\n",
      "|PULocationID|count|\n",
      "+------------+-----+\n",
      "|148         |639  |\n",
      "|243         |215  |\n",
      "|31          |14   |\n",
      "|137         |224  |\n",
      "|85          |74   |\n",
      "|251         |19   |\n",
      "|65          |119  |\n",
      "|53          |35   |\n",
      "|255         |489  |\n",
      "|133         |64   |\n",
      "|78          |128  |\n",
      "|108         |30   |\n",
      "|155         |65   |\n",
      "|193         |24   |\n",
      "|211         |198  |\n",
      "|34          |32   |\n",
      "|101         |13   |\n",
      "|115         |13   |\n",
      "|126         |59   |\n",
      "|81          |65   |\n",
      "+------------+-----+\n",
      "only showing top 20 rows\n",
      "\n",
      "23/03/15 12:19:27 WARN ProcessingTimeExecutor: Current batch is falling behind. The trigger interval is 5000 milliseconds, but spent 9393 milliseconds\n"
     ]
    },
    {
     "name": "stderr",
     "output_type": "stream",
     "text": [
      "                                                                                \r"
     ]
    },
    {
     "name": "stdout",
     "output_type": "stream",
     "text": [
      "-------------------------------------------\n",
      "Batch: 9\n",
      "-------------------------------------------\n",
      "+------------+-----+\n",
      "|PULocationID|count|\n",
      "+------------+-----+\n",
      "|148         |826  |\n",
      "|243         |304  |\n",
      "|31          |22   |\n",
      "|137         |288  |\n",
      "|85          |103  |\n",
      "|251         |29   |\n",
      "|65          |147  |\n",
      "|53          |57   |\n",
      "|255         |615  |\n",
      "|133         |84   |\n",
      "|78          |197  |\n",
      "|108         |40   |\n",
      "|155         |86   |\n",
      "|193         |34   |\n",
      "|211         |261  |\n",
      "|34          |34   |\n",
      "|101         |14   |\n",
      "|115         |17   |\n",
      "|126         |102  |\n",
      "|81          |85   |\n",
      "+------------+-----+\n",
      "only showing top 20 rows\n",
      "\n",
      "23/03/15 12:19:37 WARN ProcessingTimeExecutor: Current batch is falling behind. The trigger interval is 5000 milliseconds, but spent 9960 milliseconds\n"
     ]
    },
    {
     "name": "stderr",
     "output_type": "stream",
     "text": [
      "                                                                                \r"
     ]
    },
    {
     "name": "stdout",
     "output_type": "stream",
     "text": [
      "-------------------------------------------\n",
      "Batch: 10\n",
      "-------------------------------------------\n",
      "+------------+-----+\n",
      "|PULocationID|count|\n",
      "+------------+-----+\n",
      "|148         |997  |\n",
      "|243         |392  |\n",
      "|31          |30   |\n",
      "|137         |353  |\n",
      "|85          |126  |\n",
      "|251         |35   |\n",
      "|65          |178  |\n",
      "|53          |68   |\n",
      "|255         |715  |\n",
      "|133         |100  |\n",
      "|78          |259  |\n",
      "|108         |43   |\n",
      "|155         |116  |\n",
      "|193         |39   |\n",
      "|211         |306  |\n",
      "|34          |44   |\n",
      "|101         |18   |\n",
      "|115         |22   |\n",
      "|126         |129  |\n",
      "|81          |102  |\n",
      "+------------+-----+\n",
      "only showing top 20 rows\n",
      "\n",
      "23/03/15 12:19:43 WARN ProcessingTimeExecutor: Current batch is falling behind. The trigger interval is 5000 milliseconds, but spent 6291 milliseconds\n"
     ]
    },
    {
     "name": "stderr",
     "output_type": "stream",
     "text": [
      "                                                                                \r"
     ]
    },
    {
     "name": "stdout",
     "output_type": "stream",
     "text": [
      "-------------------------------------------\n",
      "Batch: 11\n",
      "-------------------------------------------\n",
      "+------------+-----+\n",
      "|PULocationID|count|\n",
      "+------------+-----+\n",
      "|148         |1058 |\n",
      "|243         |406  |\n",
      "|31          |33   |\n",
      "|137         |374  |\n",
      "|85          |132  |\n",
      "|251         |40   |\n",
      "|65          |190  |\n",
      "|53          |77   |\n",
      "|255         |759  |\n",
      "|133         |103  |\n",
      "|78          |270  |\n",
      "|108         |45   |\n",
      "|155         |118  |\n",
      "|193         |39   |\n",
      "|211         |317  |\n",
      "|34          |48   |\n",
      "|101         |18   |\n",
      "|115         |22   |\n",
      "|126         |134  |\n",
      "|81          |107  |\n",
      "+------------+-----+\n",
      "only showing top 20 rows\n",
      "\n",
      "23/03/15 12:19:50 WARN ProcessingTimeExecutor: Current batch is falling behind. The trigger interval is 5000 milliseconds, but spent 6588 milliseconds\n"
     ]
    },
    {
     "name": "stderr",
     "output_type": "stream",
     "text": [
      "                                                                                \r"
     ]
    },
    {
     "name": "stdout",
     "output_type": "stream",
     "text": [
      "-------------------------------------------\n",
      "Batch: 12\n",
      "-------------------------------------------\n",
      "+------------+-----+\n",
      "|PULocationID|count|\n",
      "+------------+-----+\n",
      "|148         |1238 |\n",
      "|243         |454  |\n",
      "|31          |35   |\n",
      "|137         |436  |\n",
      "|85          |158  |\n",
      "|251         |44   |\n",
      "|65          |231  |\n",
      "|53          |87   |\n",
      "|255         |923  |\n",
      "|133         |136  |\n",
      "|78          |300  |\n",
      "|108         |48   |\n",
      "|155         |136  |\n",
      "|193         |46   |\n",
      "|211         |366  |\n",
      "|34          |65   |\n",
      "|101         |20   |\n",
      "|115         |25   |\n",
      "|126         |149  |\n",
      "|81          |119  |\n",
      "+------------+-----+\n",
      "only showing top 20 rows\n",
      "\n",
      "23/03/15 12:19:56 WARN ProcessingTimeExecutor: Current batch is falling behind. The trigger interval is 5000 milliseconds, but spent 6002 milliseconds\n"
     ]
    },
    {
     "name": "stderr",
     "output_type": "stream",
     "text": [
      "                                                                                \r"
     ]
    },
    {
     "name": "stdout",
     "output_type": "stream",
     "text": [
      "-------------------------------------------\n",
      "Batch: 13\n",
      "-------------------------------------------\n",
      "+------------+-----+\n",
      "|PULocationID|count|\n",
      "+------------+-----+\n",
      "|148         |1406 |\n",
      "|243         |494  |\n",
      "|31          |36   |\n",
      "|137         |486  |\n",
      "|85          |188  |\n",
      "|251         |56   |\n",
      "|65          |269  |\n",
      "|53          |101  |\n",
      "|255         |1058 |\n",
      "|133         |164  |\n",
      "|78          |324  |\n",
      "|108         |56   |\n",
      "|155         |170  |\n",
      "|193         |51   |\n",
      "|211         |412  |\n",
      "|34          |93   |\n",
      "|101         |23   |\n",
      "|115         |27   |\n",
      "|126         |157  |\n",
      "|81          |133  |\n",
      "+------------+-----+\n",
      "only showing top 20 rows\n",
      "\n",
      "23/03/15 12:20:01 WARN ProcessingTimeExecutor: Current batch is falling behind. The trigger interval is 5000 milliseconds, but spent 5655 milliseconds\n"
     ]
    },
    {
     "name": "stderr",
     "output_type": "stream",
     "text": [
      "                                                                                \r"
     ]
    },
    {
     "name": "stdout",
     "output_type": "stream",
     "text": [
      "-------------------------------------------\n",
      "Batch: 14\n",
      "-------------------------------------------\n",
      "+------------+-----+\n",
      "|PULocationID|count|\n",
      "+------------+-----+\n",
      "|148         |1569 |\n",
      "|243         |540  |\n",
      "|31          |40   |\n",
      "|137         |530  |\n",
      "|85          |197  |\n",
      "|251         |67   |\n",
      "|65          |290  |\n",
      "|53          |112  |\n",
      "|255         |1162 |\n",
      "|133         |173  |\n",
      "|78          |350  |\n",
      "|108         |62   |\n",
      "|155         |179  |\n",
      "|193         |53   |\n",
      "|211         |454  |\n",
      "|34          |118  |\n",
      "|101         |23   |\n",
      "|115         |30   |\n",
      "|126         |169  |\n",
      "|81          |142  |\n",
      "+------------+-----+\n",
      "only showing top 20 rows\n",
      "\n",
      "23/03/15 12:20:08 WARN ProcessingTimeExecutor: Current batch is falling behind. The trigger interval is 5000 milliseconds, but spent 6592 milliseconds\n"
     ]
    },
    {
     "name": "stderr",
     "output_type": "stream",
     "text": [
      "                                                                                \r"
     ]
    },
    {
     "name": "stdout",
     "output_type": "stream",
     "text": [
      "-------------------------------------------\n",
      "Batch: 15\n",
      "-------------------------------------------\n",
      "+------------+-----+\n",
      "|PULocationID|count|\n",
      "+------------+-----+\n",
      "|148         |1780 |\n",
      "|243         |610  |\n",
      "|31          |47   |\n",
      "|137         |608  |\n",
      "|85          |218  |\n",
      "|251         |78   |\n",
      "|65          |313  |\n",
      "|53          |122  |\n",
      "|255         |1344 |\n",
      "|133         |182  |\n",
      "|78          |378  |\n",
      "|108         |65   |\n",
      "|155         |194  |\n",
      "|193         |62   |\n",
      "|211         |509  |\n",
      "|34          |144  |\n",
      "|101         |29   |\n",
      "|115         |32   |\n",
      "|126         |182  |\n",
      "|81          |155  |\n",
      "+------------+-----+\n",
      "only showing top 20 rows\n",
      "\n",
      "23/03/15 12:20:15 WARN ProcessingTimeExecutor: Current batch is falling behind. The trigger interval is 5000 milliseconds, but spent 6870 milliseconds\n"
     ]
    },
    {
     "name": "stderr",
     "output_type": "stream",
     "text": [
      "                                                                                \r"
     ]
    },
    {
     "name": "stdout",
     "output_type": "stream",
     "text": [
      "-------------------------------------------\n",
      "Batch: 16\n",
      "-------------------------------------------\n",
      "+------------+-----+\n",
      "|PULocationID|count|\n",
      "+------------+-----+\n",
      "|148         |2013 |\n",
      "|243         |671  |\n",
      "|31          |50   |\n",
      "|137         |680  |\n",
      "|85          |248  |\n",
      "|251         |97   |\n",
      "|65          |346  |\n",
      "|53          |133  |\n",
      "|255         |1485 |\n",
      "|133         |206  |\n",
      "|78          |409  |\n",
      "|108         |83   |\n",
      "|155         |214  |\n",
      "|193         |67   |\n",
      "|211         |570  |\n",
      "|34          |177  |\n",
      "|101         |31   |\n",
      "|115         |34   |\n",
      "|126         |211  |\n",
      "|81          |162  |\n",
      "+------------+-----+\n",
      "only showing top 20 rows\n",
      "\n",
      "23/03/15 12:20:21 WARN ProcessingTimeExecutor: Current batch is falling behind. The trigger interval is 5000 milliseconds, but spent 6109 milliseconds\n"
     ]
    },
    {
     "name": "stderr",
     "output_type": "stream",
     "text": [
      "                                                                                \r"
     ]
    },
    {
     "name": "stdout",
     "output_type": "stream",
     "text": [
      "-------------------------------------------\n",
      "Batch: 17\n",
      "-------------------------------------------\n",
      "+------------+-----+\n",
      "|PULocationID|count|\n",
      "+------------+-----+\n",
      "|148         |2159 |\n",
      "|243         |738  |\n",
      "|31          |52   |\n",
      "|137         |724  |\n",
      "|85          |266  |\n",
      "|251         |99   |\n",
      "|65          |365  |\n",
      "|53          |143  |\n",
      "|255         |1574 |\n",
      "|133         |226  |\n",
      "|78          |446  |\n",
      "|108         |100  |\n",
      "|155         |234  |\n",
      "|193         |70   |\n",
      "|211         |601  |\n",
      "|34          |199  |\n",
      "|101         |37   |\n",
      "|115         |38   |\n",
      "|126         |229  |\n",
      "|81          |183  |\n",
      "+------------+-----+\n",
      "only showing top 20 rows\n",
      "\n",
      "23/03/15 12:20:27 WARN ProcessingTimeExecutor: Current batch is falling behind. The trigger interval is 5000 milliseconds, but spent 6135 milliseconds\n"
     ]
    },
    {
     "name": "stderr",
     "output_type": "stream",
     "text": [
      "                                                                                \r"
     ]
    },
    {
     "name": "stdout",
     "output_type": "stream",
     "text": [
      "-------------------------------------------\n",
      "Batch: 18\n",
      "-------------------------------------------\n",
      "+------------+-----+\n",
      "|PULocationID|count|\n",
      "+------------+-----+\n",
      "|148         |2287 |\n",
      "|243         |830  |\n",
      "|31          |61   |\n",
      "|137         |783  |\n",
      "|85          |281  |\n",
      "|251         |106  |\n",
      "|65          |378  |\n",
      "|53          |154  |\n",
      "|255         |1678 |\n",
      "|133         |237  |\n",
      "|78          |501  |\n",
      "|108         |108  |\n",
      "|155         |245  |\n",
      "|193         |78   |\n",
      "|211         |643  |\n",
      "|34          |223  |\n",
      "|101         |39   |\n",
      "|115         |38   |\n",
      "|126         |261  |\n",
      "|81          |202  |\n",
      "+------------+-----+\n",
      "only showing top 20 rows\n",
      "\n",
      "23/03/15 12:20:33 WARN ProcessingTimeExecutor: Current batch is falling behind. The trigger interval is 5000 milliseconds, but spent 6171 milliseconds\n"
     ]
    },
    {
     "name": "stderr",
     "output_type": "stream",
     "text": [
      "                                                                                \r"
     ]
    },
    {
     "name": "stdout",
     "output_type": "stream",
     "text": [
      "-------------------------------------------\n",
      "Batch: 19\n",
      "-------------------------------------------\n",
      "+------------+-----+\n",
      "|PULocationID|count|\n",
      "+------------+-----+\n",
      "|148         |2460 |\n",
      "|243         |893  |\n",
      "|31          |64   |\n",
      "|137         |831  |\n",
      "|85          |318  |\n",
      "|251         |112  |\n",
      "|65          |397  |\n",
      "|53          |168  |\n",
      "|255         |1813 |\n",
      "|133         |255  |\n",
      "|78          |539  |\n",
      "|108         |114  |\n",
      "|155         |262  |\n",
      "|193         |81   |\n",
      "|211         |676  |\n",
      "|34          |249  |\n",
      "|101         |42   |\n",
      "|115         |39   |\n",
      "|126         |278  |\n",
      "|81          |212  |\n",
      "+------------+-----+\n",
      "only showing top 20 rows\n",
      "\n",
      "23/03/15 12:20:40 WARN ProcessingTimeExecutor: Current batch is falling behind. The trigger interval is 5000 milliseconds, but spent 6263 milliseconds\n"
     ]
    },
    {
     "name": "stderr",
     "output_type": "stream",
     "text": [
      "                                                                                \r"
     ]
    },
    {
     "name": "stdout",
     "output_type": "stream",
     "text": [
      "-------------------------------------------\n",
      "Batch: 20\n",
      "-------------------------------------------\n",
      "+------------+-----+\n",
      "|PULocationID|count|\n",
      "+------------+-----+\n",
      "|148         |2532 |\n",
      "|243         |912  |\n",
      "|31          |65   |\n",
      "|137         |855  |\n",
      "|85          |333  |\n",
      "|251         |114  |\n",
      "|65          |411  |\n",
      "|53          |175  |\n",
      "|255         |1876 |\n",
      "|133         |261  |\n",
      "|78          |551  |\n",
      "|108         |120  |\n",
      "|155         |277  |\n",
      "|193         |82   |\n",
      "|211         |697  |\n",
      "|34          |260  |\n",
      "|101         |44   |\n",
      "|115         |41   |\n",
      "|126         |286  |\n",
      "|81          |218  |\n",
      "+------------+-----+\n",
      "only showing top 20 rows\n",
      "\n",
      "23/03/15 12:20:46 WARN ProcessingTimeExecutor: Current batch is falling behind. The trigger interval is 5000 milliseconds, but spent 6232 milliseconds\n"
     ]
    },
    {
     "name": "stderr",
     "output_type": "stream",
     "text": [
      "                                                                                \r"
     ]
    },
    {
     "name": "stdout",
     "output_type": "stream",
     "text": [
      "-------------------------------------------\n",
      "Batch: 21\n",
      "-------------------------------------------\n",
      "+------------+-----+\n",
      "|PULocationID|count|\n",
      "+------------+-----+\n",
      "|148         |2700 |\n",
      "|243         |963  |\n",
      "|31          |67   |\n",
      "|137         |897  |\n",
      "|85          |351  |\n",
      "|251         |117  |\n",
      "|65          |458  |\n",
      "|53          |183  |\n",
      "|255         |2026 |\n",
      "|133         |279  |\n",
      "|78          |579  |\n",
      "|108         |122  |\n",
      "|155         |292  |\n",
      "|193         |88   |\n",
      "|211         |729  |\n",
      "|34          |284  |\n",
      "|101         |46   |\n",
      "|115         |43   |\n",
      "|126         |299  |\n",
      "|81          |228  |\n",
      "+------------+-----+\n",
      "only showing top 20 rows\n",
      "\n",
      "23/03/15 12:20:52 WARN ProcessingTimeExecutor: Current batch is falling behind. The trigger interval is 5000 milliseconds, but spent 6094 milliseconds\n"
     ]
    },
    {
     "name": "stderr",
     "output_type": "stream",
     "text": [
      "                                                                                \r"
     ]
    },
    {
     "name": "stdout",
     "output_type": "stream",
     "text": [
      "-------------------------------------------\n",
      "Batch: 22\n",
      "-------------------------------------------\n",
      "+------------+-----+\n",
      "|PULocationID|count|\n",
      "+------------+-----+\n",
      "|148         |2844 |\n",
      "|243         |998  |\n",
      "|31          |69   |\n",
      "|137         |926  |\n",
      "|85          |375  |\n",
      "|251         |121  |\n",
      "|65          |496  |\n",
      "|53          |187  |\n",
      "|255         |2101 |\n",
      "|133         |297  |\n",
      "|78          |606  |\n",
      "|108         |129  |\n",
      "|155         |314  |\n",
      "|193         |92   |\n",
      "|211         |748  |\n",
      "|34          |298  |\n",
      "|101         |48   |\n",
      "|115         |44   |\n",
      "|126         |326  |\n",
      "|81          |243  |\n",
      "+------------+-----+\n",
      "only showing top 20 rows\n",
      "\n"
     ]
    },
    {
     "name": "stderr",
     "output_type": "stream",
     "text": [
      "                                                                                \r"
     ]
    },
    {
     "name": "stdout",
     "output_type": "stream",
     "text": [
      "-------------------------------------------\n",
      "Batch: 23\n",
      "-------------------------------------------\n",
      "+------------+-----+\n",
      "|PULocationID|count|\n",
      "+------------+-----+\n",
      "|148         |2944 |\n",
      "|243         |1021 |\n",
      "|31          |69   |\n",
      "|137         |948  |\n",
      "|85          |392  |\n",
      "|251         |126  |\n",
      "|65          |516  |\n",
      "|53          |192  |\n",
      "|255         |2166 |\n",
      "|133         |306  |\n",
      "|78          |614  |\n",
      "|108         |131  |\n",
      "|155         |316  |\n",
      "|193         |94   |\n",
      "|211         |764  |\n",
      "|34          |315  |\n",
      "|101         |50   |\n",
      "|115         |45   |\n",
      "|126         |331  |\n",
      "|81          |244  |\n",
      "+------------+-----+\n",
      "only showing top 20 rows\n",
      "\n",
      "23/03/15 12:21:04 WARN ProcessingTimeExecutor: Current batch is falling behind. The trigger interval is 5000 milliseconds, but spent 6695 milliseconds\n"
     ]
    },
    {
     "name": "stderr",
     "output_type": "stream",
     "text": [
      "                                                                                \r"
     ]
    },
    {
     "name": "stdout",
     "output_type": "stream",
     "text": [
      "-------------------------------------------\n",
      "Batch: 24\n",
      "-------------------------------------------\n",
      "+------------+-----+\n",
      "|PULocationID|count|\n",
      "+------------+-----+\n",
      "|148         |3140 |\n",
      "|243         |1072 |\n",
      "|31          |73   |\n",
      "|137         |984  |\n",
      "|85          |411  |\n",
      "|251         |137  |\n",
      "|65          |538  |\n",
      "|53          |199  |\n",
      "|255         |2292 |\n",
      "|133         |312  |\n",
      "|78          |647  |\n",
      "|108         |145  |\n",
      "|155         |332  |\n",
      "|193         |101  |\n",
      "|211         |802  |\n",
      "|34          |350  |\n",
      "|101         |52   |\n",
      "|115         |48   |\n",
      "|126         |352  |\n",
      "|81          |256  |\n",
      "+------------+-----+\n",
      "only showing top 20 rows\n",
      "\n",
      "23/03/15 12:21:10 WARN ProcessingTimeExecutor: Current batch is falling behind. The trigger interval is 5000 milliseconds, but spent 6373 milliseconds\n"
     ]
    },
    {
     "name": "stderr",
     "output_type": "stream",
     "text": [
      "                                                                                \r"
     ]
    },
    {
     "name": "stdout",
     "output_type": "stream",
     "text": [
      "-------------------------------------------\n",
      "Batch: 25\n",
      "-------------------------------------------\n",
      "+------------+-----+\n",
      "|PULocationID|count|\n",
      "+------------+-----+\n",
      "|148         |3314 |\n",
      "|243         |1125 |\n",
      "|31          |75   |\n",
      "|137         |1033 |\n",
      "|85          |423  |\n",
      "|251         |143  |\n",
      "|65          |560  |\n",
      "|53          |203  |\n",
      "|255         |2388 |\n",
      "|133         |320  |\n",
      "|78          |664  |\n",
      "|108         |148  |\n",
      "|155         |338  |\n",
      "|193         |106  |\n",
      "|211         |837  |\n",
      "|34          |381  |\n",
      "|101         |56   |\n",
      "|115         |49   |\n",
      "|126         |367  |\n",
      "|81          |263  |\n",
      "+------------+-----+\n",
      "only showing top 20 rows\n",
      "\n",
      "23/03/15 12:21:16 WARN ProcessingTimeExecutor: Current batch is falling behind. The trigger interval is 5000 milliseconds, but spent 6549 milliseconds\n"
     ]
    },
    {
     "name": "stderr",
     "output_type": "stream",
     "text": [
      "                                                                                \r"
     ]
    },
    {
     "name": "stdout",
     "output_type": "stream",
     "text": [
      "-------------------------------------------\n",
      "Batch: 26\n",
      "-------------------------------------------\n",
      "+------------+-----+\n",
      "|PULocationID|count|\n",
      "+------------+-----+\n",
      "|148         |3497 |\n",
      "|243         |1181 |\n",
      "|31          |81   |\n",
      "|137         |1085 |\n",
      "|85          |433  |\n",
      "|251         |156  |\n",
      "|65          |578  |\n",
      "|53          |211  |\n",
      "|255         |2500 |\n",
      "|133         |328  |\n",
      "|78          |684  |\n",
      "|108         |156  |\n",
      "|155         |356  |\n",
      "|193         |109  |\n",
      "|211         |874  |\n",
      "|34          |409  |\n",
      "|101         |57   |\n",
      "|115         |52   |\n",
      "|126         |386  |\n",
      "|81          |280  |\n",
      "+------------+-----+\n",
      "only showing top 20 rows\n",
      "\n",
      "23/03/15 12:21:23 WARN ProcessingTimeExecutor: Current batch is falling behind. The trigger interval is 5000 milliseconds, but spent 6104 milliseconds\n"
     ]
    },
    {
     "name": "stderr",
     "output_type": "stream",
     "text": [
      "                                                                                \r"
     ]
    },
    {
     "name": "stdout",
     "output_type": "stream",
     "text": [
      "-------------------------------------------\n",
      "Batch: 27\n",
      "-------------------------------------------\n",
      "+------------+-----+\n",
      "|PULocationID|count|\n",
      "+------------+-----+\n",
      "|148         |3716 |\n",
      "|243         |1228 |\n",
      "|31          |85   |\n",
      "|137         |1119 |\n",
      "|85          |445  |\n",
      "|251         |166  |\n",
      "|65          |593  |\n",
      "|53          |219  |\n",
      "|255         |2613 |\n",
      "|133         |343  |\n",
      "|78          |711  |\n",
      "|108         |165  |\n",
      "|155         |367  |\n",
      "|193         |112  |\n",
      "|211         |895  |\n",
      "|34          |436  |\n",
      "|101         |59   |\n",
      "|115         |57   |\n",
      "|126         |397  |\n",
      "|81          |295  |\n",
      "+------------+-----+\n",
      "only showing top 20 rows\n",
      "\n",
      "23/03/15 12:21:29 WARN ProcessingTimeExecutor: Current batch is falling behind. The trigger interval is 5000 milliseconds, but spent 6048 milliseconds\n"
     ]
    },
    {
     "name": "stderr",
     "output_type": "stream",
     "text": [
      "                                                                                \r"
     ]
    },
    {
     "name": "stdout",
     "output_type": "stream",
     "text": [
      "-------------------------------------------\n",
      "Batch: 28\n",
      "-------------------------------------------\n",
      "+------------+-----+\n",
      "|PULocationID|count|\n",
      "+------------+-----+\n",
      "|148         |3866 |\n",
      "|243         |1281 |\n",
      "|31          |90   |\n",
      "|137         |1144 |\n",
      "|85          |456  |\n",
      "|251         |170  |\n",
      "|65          |612  |\n",
      "|53          |230  |\n",
      "|255         |2712 |\n",
      "|133         |356  |\n",
      "|78          |744  |\n",
      "|108         |173  |\n",
      "|155         |378  |\n",
      "|193         |115  |\n",
      "|211         |922  |\n",
      "|34          |470  |\n",
      "|101         |62   |\n",
      "|115         |60   |\n",
      "|126         |415  |\n",
      "|81          |304  |\n",
      "+------------+-----+\n",
      "only showing top 20 rows\n",
      "\n",
      "23/03/15 12:21:35 WARN ProcessingTimeExecutor: Current batch is falling behind. The trigger interval is 5000 milliseconds, but spent 6006 milliseconds\n"
     ]
    },
    {
     "name": "stderr",
     "output_type": "stream",
     "text": [
      "                                                                                \r"
     ]
    },
    {
     "name": "stdout",
     "output_type": "stream",
     "text": [
      "-------------------------------------------\n",
      "Batch: 29\n",
      "-------------------------------------------\n",
      "+------------+-----+\n",
      "|PULocationID|count|\n",
      "+------------+-----+\n",
      "|148         |3997 |\n",
      "|243         |1364 |\n",
      "|31          |101  |\n",
      "|137         |1184 |\n",
      "|85          |469  |\n",
      "|251         |177  |\n",
      "|65          |627  |\n",
      "|53          |239  |\n",
      "|255         |2785 |\n",
      "|133         |360  |\n",
      "|78          |795  |\n",
      "|108         |179  |\n",
      "|155         |391  |\n",
      "|193         |116  |\n",
      "|211         |960  |\n",
      "|34          |488  |\n",
      "|101         |66   |\n",
      "|115         |60   |\n",
      "|126         |440  |\n",
      "|81          |315  |\n",
      "+------------+-----+\n",
      "only showing top 20 rows\n",
      "\n",
      "23/03/15 12:21:41 WARN ProcessingTimeExecutor: Current batch is falling behind. The trigger interval is 5000 milliseconds, but spent 6140 milliseconds\n"
     ]
    },
    {
     "name": "stderr",
     "output_type": "stream",
     "text": [
      "                                                                                \r"
     ]
    },
    {
     "name": "stdout",
     "output_type": "stream",
     "text": [
      "-------------------------------------------\n",
      "Batch: 30\n",
      "-------------------------------------------\n",
      "+------------+-----+\n",
      "|PULocationID|count|\n",
      "+------------+-----+\n",
      "|148         |4147 |\n",
      "|243         |1414 |\n",
      "|31          |106  |\n",
      "|137         |1213 |\n",
      "|85          |490  |\n",
      "|251         |184  |\n",
      "|65          |631  |\n",
      "|53          |245  |\n",
      "|255         |2885 |\n",
      "|133         |368  |\n",
      "|78          |827  |\n",
      "|108         |187  |\n",
      "|155         |409  |\n",
      "|193         |124  |\n",
      "|211         |986  |\n",
      "|34          |502  |\n",
      "|101         |70   |\n",
      "|115         |62   |\n",
      "|126         |450  |\n",
      "|81          |327  |\n",
      "+------------+-----+\n",
      "only showing top 20 rows\n",
      "\n",
      "23/03/15 12:21:47 WARN ProcessingTimeExecutor: Current batch is falling behind. The trigger interval is 5000 milliseconds, but spent 5982 milliseconds\n"
     ]
    },
    {
     "name": "stderr",
     "output_type": "stream",
     "text": [
      "                                                                                \r"
     ]
    },
    {
     "name": "stdout",
     "output_type": "stream",
     "text": [
      "-------------------------------------------\n",
      "Batch: 31\n",
      "-------------------------------------------\n",
      "+------------+-----+\n",
      "|PULocationID|count|\n",
      "+------------+-----+\n",
      "|148         |4241 |\n",
      "|243         |1444 |\n",
      "|31          |107  |\n",
      "|137         |1238 |\n",
      "|85          |495  |\n",
      "|251         |192  |\n",
      "|65          |645  |\n",
      "|53          |251  |\n",
      "|255         |2949 |\n",
      "|133         |378  |\n",
      "|78          |843  |\n",
      "|108         |191  |\n",
      "|155         |422  |\n",
      "|193         |127  |\n",
      "|211         |1001 |\n",
      "|34          |522  |\n",
      "|101         |74   |\n",
      "|115         |64   |\n",
      "|126         |456  |\n",
      "|81          |335  |\n",
      "+------------+-----+\n",
      "only showing top 20 rows\n",
      "\n",
      "23/03/15 12:21:53 WARN ProcessingTimeExecutor: Current batch is falling behind. The trigger interval is 5000 milliseconds, but spent 6255 milliseconds\n"
     ]
    },
    {
     "name": "stderr",
     "output_type": "stream",
     "text": [
      "                                                                                \r"
     ]
    },
    {
     "name": "stdout",
     "output_type": "stream",
     "text": [
      "-------------------------------------------\n",
      "Batch: 32\n",
      "-------------------------------------------\n",
      "+------------+-----+\n",
      "|PULocationID|count|\n",
      "+------------+-----+\n",
      "|148         |4301 |\n",
      "|243         |1464 |\n",
      "|31          |108  |\n",
      "|137         |1251 |\n",
      "|85          |500  |\n",
      "|251         |196  |\n",
      "|65          |664  |\n",
      "|53          |256  |\n",
      "|255         |3019 |\n",
      "|133         |380  |\n",
      "|78          |853  |\n",
      "|108         |193  |\n",
      "|155         |424  |\n",
      "|193         |130  |\n",
      "|211         |1008 |\n",
      "|34          |538  |\n",
      "|101         |76   |\n",
      "|115         |64   |\n",
      "|126         |464  |\n",
      "|81          |342  |\n",
      "+------------+-----+\n",
      "only showing top 20 rows\n",
      "\n",
      "23/03/15 12:22:00 WARN ProcessingTimeExecutor: Current batch is falling behind. The trigger interval is 5000 milliseconds, but spent 7113 milliseconds\n"
     ]
    },
    {
     "name": "stderr",
     "output_type": "stream",
     "text": [
      "                                                                                \r"
     ]
    },
    {
     "name": "stdout",
     "output_type": "stream",
     "text": [
      "-------------------------------------------\n",
      "Batch: 33\n",
      "-------------------------------------------\n",
      "+------------+-----+\n",
      "|PULocationID|count|\n",
      "+------------+-----+\n",
      "|148         |4448 |\n",
      "|243         |1497 |\n",
      "|31          |109  |\n",
      "|137         |1285 |\n",
      "|85          |515  |\n",
      "|251         |199  |\n",
      "|65          |687  |\n",
      "|53          |269  |\n",
      "|255         |3163 |\n",
      "|133         |389  |\n",
      "|78          |870  |\n",
      "|108         |200  |\n",
      "|155         |436  |\n",
      "|193         |137  |\n",
      "|211         |1040 |\n",
      "|34          |564  |\n",
      "|101         |79   |\n",
      "|115         |67   |\n",
      "|126         |478  |\n",
      "|81          |354  |\n",
      "+------------+-----+\n",
      "only showing top 20 rows\n",
      "\n",
      "23/03/15 12:22:05 WARN ProcessingTimeExecutor: Current batch is falling behind. The trigger interval is 5000 milliseconds, but spent 5090 milliseconds\n"
     ]
    },
    {
     "name": "stderr",
     "output_type": "stream",
     "text": [
      "                                                                                \r"
     ]
    },
    {
     "name": "stdout",
     "output_type": "stream",
     "text": [
      "-------------------------------------------\n",
      "Batch: 34\n",
      "-------------------------------------------\n",
      "+------------+-----+\n",
      "|PULocationID|count|\n",
      "+------------+-----+\n",
      "|148         |4510 |\n",
      "|243         |1529 |\n",
      "|31          |110  |\n",
      "|137         |1300 |\n",
      "|85          |528  |\n",
      "|251         |201  |\n",
      "|65          |702  |\n",
      "|53          |272  |\n",
      "|255         |3217 |\n",
      "|133         |398  |\n",
      "|78          |882  |\n",
      "|108         |202  |\n",
      "|155         |442  |\n",
      "|193         |141  |\n",
      "|211         |1057 |\n",
      "|34          |573  |\n",
      "|101         |80   |\n",
      "|115         |71   |\n",
      "|126         |488  |\n",
      "|81          |357  |\n",
      "+------------+-----+\n",
      "only showing top 20 rows\n",
      "\n",
      "23/03/15 12:22:12 WARN ProcessingTimeExecutor: Current batch is falling behind. The trigger interval is 5000 milliseconds, but spent 6551 milliseconds\n"
     ]
    },
    {
     "name": "stderr",
     "output_type": "stream",
     "text": [
      "                                                                                \r"
     ]
    },
    {
     "name": "stdout",
     "output_type": "stream",
     "text": [
      "-------------------------------------------\n",
      "Batch: 35\n",
      "-------------------------------------------\n",
      "+------------+-----+\n",
      "|PULocationID|count|\n",
      "+------------+-----+\n",
      "|148         |4671 |\n",
      "|243         |1569 |\n",
      "|31          |119  |\n",
      "|137         |1345 |\n",
      "|85          |548  |\n",
      "|251         |209  |\n",
      "|65          |729  |\n",
      "|53          |280  |\n",
      "|255         |3357 |\n",
      "|133         |403  |\n",
      "|78          |909  |\n",
      "|108         |214  |\n",
      "|155         |450  |\n",
      "|193         |143  |\n",
      "|211         |1096 |\n",
      "|34          |624  |\n",
      "|101         |80   |\n",
      "|115         |74   |\n",
      "|126         |517  |\n",
      "|81          |362  |\n",
      "+------------+-----+\n",
      "only showing top 20 rows\n",
      "\n",
      "23/03/15 12:22:20 WARN ProcessingTimeExecutor: Current batch is falling behind. The trigger interval is 5000 milliseconds, but spent 8142 milliseconds\n"
     ]
    },
    {
     "name": "stderr",
     "output_type": "stream",
     "text": [
      "                                                                                \r"
     ]
    },
    {
     "name": "stdout",
     "output_type": "stream",
     "text": [
      "-------------------------------------------\n",
      "Batch: 36\n",
      "-------------------------------------------\n",
      "+------------+-----+\n",
      "|PULocationID|count|\n",
      "+------------+-----+\n",
      "|148         |4821 |\n",
      "|243         |1635 |\n",
      "|31          |124  |\n",
      "|137         |1390 |\n",
      "|85          |565  |\n",
      "|251         |218  |\n",
      "|65          |761  |\n",
      "|53          |287  |\n",
      "|255         |3476 |\n",
      "|133         |409  |\n",
      "|78          |946  |\n",
      "|108         |219  |\n",
      "|155         |464  |\n",
      "|193         |145  |\n",
      "|211         |1132 |\n",
      "|34          |657  |\n",
      "|101         |86   |\n",
      "|115         |78   |\n",
      "|126         |535  |\n",
      "|81          |375  |\n",
      "+------------+-----+\n",
      "only showing top 20 rows\n",
      "\n",
      "23/03/15 12:22:27 WARN ProcessingTimeExecutor: Current batch is falling behind. The trigger interval is 5000 milliseconds, but spent 7230 milliseconds\n"
     ]
    },
    {
     "name": "stderr",
     "output_type": "stream",
     "text": [
      "                                                                                \r"
     ]
    },
    {
     "name": "stdout",
     "output_type": "stream",
     "text": [
      "-------------------------------------------\n",
      "Batch: 37\n",
      "-------------------------------------------\n",
      "+------------+-----+\n",
      "|PULocationID|count|\n",
      "+------------+-----+\n",
      "|148         |4976 |\n",
      "|243         |1707 |\n",
      "|31          |126  |\n",
      "|137         |1437 |\n",
      "|85          |586  |\n",
      "|251         |227  |\n",
      "|65          |783  |\n",
      "|53          |297  |\n",
      "|255         |3613 |\n",
      "|133         |423  |\n",
      "|78          |973  |\n",
      "|108         |227  |\n",
      "|155         |483  |\n",
      "|193         |151  |\n",
      "|211         |1166 |\n",
      "|34          |701  |\n",
      "|101         |87   |\n",
      "|115         |83   |\n",
      "|126         |565  |\n",
      "|81          |381  |\n",
      "+------------+-----+\n",
      "only showing top 20 rows\n",
      "\n",
      "23/03/15 12:22:38 WARN ProcessingTimeExecutor: Current batch is falling behind. The trigger interval is 5000 milliseconds, but spent 10379 milliseconds\n"
     ]
    },
    {
     "name": "stderr",
     "output_type": "stream",
     "text": [
      "                                                                                \r"
     ]
    },
    {
     "name": "stdout",
     "output_type": "stream",
     "text": [
      "-------------------------------------------\n",
      "Batch: 38\n",
      "-------------------------------------------\n",
      "+------------+-----+\n",
      "|PULocationID|count|\n",
      "+------------+-----+\n",
      "|148         |5208 |\n",
      "|243         |1864 |\n",
      "|31          |135  |\n",
      "|137         |1507 |\n",
      "|85          |612  |\n",
      "|251         |241  |\n",
      "|65          |820  |\n",
      "|53          |315  |\n",
      "|255         |3802 |\n",
      "|133         |447  |\n",
      "|78          |1045 |\n",
      "|108         |248  |\n",
      "|155         |505  |\n",
      "|193         |163  |\n",
      "|211         |1229 |\n",
      "|34          |774  |\n",
      "|101         |90   |\n",
      "|115         |86   |\n",
      "|126         |612  |\n",
      "|81          |413  |\n",
      "+------------+-----+\n",
      "only showing top 20 rows\n",
      "\n",
      "23/03/15 12:22:49 WARN ProcessingTimeExecutor: Current batch is falling behind. The trigger interval is 5000 milliseconds, but spent 11895 milliseconds\n"
     ]
    },
    {
     "name": "stderr",
     "output_type": "stream",
     "text": [
      "                                                                                \r"
     ]
    },
    {
     "name": "stdout",
     "output_type": "stream",
     "text": [
      "-------------------------------------------\n",
      "Batch: 39\n",
      "-------------------------------------------\n",
      "+------------+-----+\n",
      "|PULocationID|count|\n",
      "+------------+-----+\n",
      "|148         |5428 |\n",
      "|243         |1941 |\n",
      "|31          |140  |\n",
      "|137         |1568 |\n",
      "|85          |643  |\n",
      "|251         |249  |\n",
      "|65          |860  |\n",
      "|53          |330  |\n",
      "|255         |4015 |\n",
      "|133         |458  |\n",
      "|78          |1086 |\n",
      "|108         |261  |\n",
      "|155         |526  |\n",
      "|193         |168  |\n",
      "|211         |1277 |\n",
      "|34          |827  |\n",
      "|101         |96   |\n",
      "|115         |89   |\n",
      "|126         |639  |\n",
      "|81          |433  |\n",
      "+------------+-----+\n",
      "only showing top 20 rows\n",
      "\n",
      "23/03/15 12:22:57 WARN ProcessingTimeExecutor: Current batch is falling behind. The trigger interval is 5000 milliseconds, but spent 7161 milliseconds\n"
     ]
    },
    {
     "name": "stderr",
     "output_type": "stream",
     "text": [
      "                                                                                \r"
     ]
    },
    {
     "name": "stdout",
     "output_type": "stream",
     "text": [
      "-------------------------------------------\n",
      "Batch: 40\n",
      "-------------------------------------------\n",
      "+------------+-----+\n",
      "|PULocationID|count|\n",
      "+------------+-----+\n",
      "|148         |5587 |\n",
      "|243         |2003 |\n",
      "|31          |140  |\n",
      "|137         |1617 |\n",
      "|85          |685  |\n",
      "|251         |257  |\n",
      "|65          |904  |\n",
      "|53          |341  |\n",
      "|255         |4195 |\n",
      "|133         |472  |\n",
      "|78          |1119 |\n",
      "|108         |271  |\n",
      "|155         |544  |\n",
      "|193         |176  |\n",
      "|211         |1308 |\n",
      "|34          |877  |\n",
      "|101         |101  |\n",
      "|115         |94   |\n",
      "|126         |652  |\n",
      "|81          |442  |\n",
      "+------------+-----+\n",
      "only showing top 20 rows\n",
      "\n",
      "23/03/15 12:23:04 WARN ProcessingTimeExecutor: Current batch is falling behind. The trigger interval is 5000 milliseconds, but spent 7363 milliseconds\n"
     ]
    },
    {
     "name": "stderr",
     "output_type": "stream",
     "text": [
      "                                                                                \r"
     ]
    },
    {
     "name": "stdout",
     "output_type": "stream",
     "text": [
      "-------------------------------------------\n",
      "Batch: 41\n",
      "-------------------------------------------\n",
      "+------------+-----+\n",
      "|PULocationID|count|\n",
      "+------------+-----+\n",
      "|148         |5735 |\n",
      "|243         |2078 |\n",
      "|31          |147  |\n",
      "|137         |1665 |\n",
      "|85          |733  |\n",
      "|251         |260  |\n",
      "|65          |926  |\n",
      "|53          |350  |\n",
      "|255         |4341 |\n",
      "|133         |487  |\n",
      "|78          |1156 |\n",
      "|108         |291  |\n",
      "|155         |559  |\n",
      "|193         |180  |\n",
      "|211         |1346 |\n",
      "|34          |910  |\n",
      "|101         |109  |\n",
      "|115         |95   |\n",
      "|126         |685  |\n",
      "|81          |461  |\n",
      "+------------+-----+\n",
      "only showing top 20 rows\n",
      "\n",
      "23/03/15 12:23:10 WARN ProcessingTimeExecutor: Current batch is falling behind. The trigger interval is 5000 milliseconds, but spent 6383 milliseconds\n"
     ]
    },
    {
     "name": "stderr",
     "output_type": "stream",
     "text": [
      "                                                                                \r"
     ]
    },
    {
     "name": "stdout",
     "output_type": "stream",
     "text": [
      "-------------------------------------------\n",
      "Batch: 42\n",
      "-------------------------------------------\n",
      "+------------+-----+\n",
      "|PULocationID|count|\n",
      "+------------+-----+\n",
      "|148         |5856 |\n",
      "|243         |2158 |\n",
      "|31          |152  |\n",
      "|137         |1707 |\n",
      "|85          |763  |\n",
      "|251         |267  |\n",
      "|65          |960  |\n",
      "|53          |371  |\n",
      "|255         |4456 |\n",
      "|133         |498  |\n",
      "|78          |1211 |\n",
      "|108         |306  |\n",
      "|155         |573  |\n",
      "|193         |186  |\n",
      "|211         |1377 |\n",
      "|34          |951  |\n",
      "|101         |114  |\n",
      "|115         |100  |\n",
      "|126         |722  |\n",
      "|81          |481  |\n",
      "+------------+-----+\n",
      "only showing top 20 rows\n",
      "\n",
      "23/03/15 12:23:20 WARN ProcessingTimeExecutor: Current batch is falling behind. The trigger interval is 5000 milliseconds, but spent 9763 milliseconds\n"
     ]
    },
    {
     "name": "stderr",
     "output_type": "stream",
     "text": [
      "                                                                                \r"
     ]
    },
    {
     "name": "stdout",
     "output_type": "stream",
     "text": [
      "-------------------------------------------\n",
      "Batch: 43\n",
      "-------------------------------------------\n",
      "+------------+-----+\n",
      "|PULocationID|count|\n",
      "+------------+-----+\n",
      "|148         |5961 |\n",
      "|243         |2249 |\n",
      "|31          |156  |\n",
      "|137         |1745 |\n",
      "|85          |795  |\n",
      "|251         |277  |\n",
      "|65          |993  |\n",
      "|53          |388  |\n",
      "|255         |4573 |\n",
      "|133         |508  |\n",
      "|78          |1265 |\n",
      "|108         |313  |\n",
      "|155         |587  |\n",
      "|193         |190  |\n",
      "|211         |1401 |\n",
      "|34          |985  |\n",
      "|101         |120  |\n",
      "|115         |101  |\n",
      "|126         |749  |\n",
      "|81          |505  |\n",
      "+------------+-----+\n",
      "only showing top 20 rows\n",
      "\n",
      "23/03/15 12:23:32 WARN ProcessingTimeExecutor: Current batch is falling behind. The trigger interval is 5000 milliseconds, but spent 12128 milliseconds\n"
     ]
    },
    {
     "name": "stderr",
     "output_type": "stream",
     "text": [
      "                                                                                \r"
     ]
    },
    {
     "name": "stdout",
     "output_type": "stream",
     "text": [
      "-------------------------------------------\n",
      "Batch: 44\n",
      "-------------------------------------------\n",
      "+------------+-----+\n",
      "|PULocationID|count|\n",
      "+------------+-----+\n",
      "|148         |6178 |\n",
      "|243         |2468 |\n",
      "|31          |172  |\n",
      "|137         |1846 |\n",
      "|85          |850  |\n",
      "|251         |288  |\n",
      "|65          |1107 |\n",
      "|53          |421  |\n",
      "|255         |4831 |\n",
      "|133         |542  |\n",
      "|78          |1386 |\n",
      "|108         |347  |\n",
      "|155         |627  |\n",
      "|193         |208  |\n",
      "|211         |1456 |\n",
      "|34          |992  |\n",
      "|101         |130  |\n",
      "|115         |113  |\n",
      "|126         |840  |\n",
      "|81          |555  |\n",
      "+------------+-----+\n",
      "only showing top 20 rows\n",
      "\n",
      "23/03/15 12:23:40 WARN ProcessingTimeExecutor: Current batch is falling behind. The trigger interval is 5000 milliseconds, but spent 7516 milliseconds\n"
     ]
    },
    {
     "name": "stderr",
     "output_type": "stream",
     "text": [
      "                                                                                \r"
     ]
    },
    {
     "name": "stdout",
     "output_type": "stream",
     "text": [
      "-------------------------------------------\n",
      "Batch: 45\n",
      "-------------------------------------------\n",
      "+------------+-----+\n",
      "|PULocationID|count|\n",
      "+------------+-----+\n",
      "|148         |6233 |\n",
      "|243         |2531 |\n",
      "|31          |176  |\n",
      "|137         |1873 |\n",
      "|85          |880  |\n",
      "|251         |291  |\n",
      "|65          |1138 |\n",
      "|53          |432  |\n",
      "|255         |4917 |\n",
      "|133         |547  |\n",
      "|78          |1411 |\n",
      "|108         |354  |\n",
      "|155         |640  |\n",
      "|193         |218  |\n",
      "|211         |1468 |\n",
      "|34          |995  |\n",
      "|101         |135  |\n",
      "|115         |116  |\n",
      "|126         |853  |\n",
      "|81          |579  |\n",
      "+------------+-----+\n",
      "only showing top 20 rows\n",
      "\n",
      "23/03/15 12:23:47 WARN ProcessingTimeExecutor: Current batch is falling behind. The trigger interval is 5000 milliseconds, but spent 6961 milliseconds\n"
     ]
    },
    {
     "name": "stderr",
     "output_type": "stream",
     "text": [
      "                                                                                \r"
     ]
    },
    {
     "name": "stdout",
     "output_type": "stream",
     "text": [
      "-------------------------------------------\n",
      "Batch: 46\n",
      "-------------------------------------------\n",
      "+------------+-----+\n",
      "|PULocationID|count|\n",
      "+------------+-----+\n",
      "|148         |6302 |\n",
      "|243         |2623 |\n",
      "|31          |178  |\n",
      "|137         |1911 |\n",
      "|85          |907  |\n",
      "|251         |298  |\n",
      "|65          |1156 |\n",
      "|53          |453  |\n",
      "|255         |4999 |\n",
      "|133         |563  |\n",
      "|78          |1462 |\n",
      "|108         |376  |\n",
      "|155         |663  |\n",
      "|193         |230  |\n",
      "|211         |1484 |\n",
      "|34          |995  |\n",
      "|101         |140  |\n",
      "|115         |119  |\n",
      "|126         |884  |\n",
      "|81          |602  |\n",
      "+------------+-----+\n",
      "only showing top 20 rows\n",
      "\n",
      "23/03/15 12:23:53 WARN ProcessingTimeExecutor: Current batch is falling behind. The trigger interval is 5000 milliseconds, but spent 6224 milliseconds\n"
     ]
    },
    {
     "name": "stderr",
     "output_type": "stream",
     "text": [
      "                                                                                \r"
     ]
    },
    {
     "name": "stdout",
     "output_type": "stream",
     "text": [
      "-------------------------------------------\n",
      "Batch: 47\n",
      "-------------------------------------------\n",
      "+------------+-----+\n",
      "|PULocationID|count|\n",
      "+------------+-----+\n",
      "|148         |6360 |\n",
      "|243         |2705 |\n",
      "|31          |183  |\n",
      "|137         |1948 |\n",
      "|85          |927  |\n",
      "|251         |301  |\n",
      "|65          |1172 |\n",
      "|53          |461  |\n",
      "|255         |5079 |\n",
      "|133         |572  |\n",
      "|78          |1499 |\n",
      "|108         |383  |\n",
      "|155         |674  |\n",
      "|193         |240  |\n",
      "|211         |1499 |\n",
      "|34          |996  |\n",
      "|101         |143  |\n",
      "|115         |120  |\n",
      "|126         |902  |\n",
      "|81          |626  |\n",
      "+------------+-----+\n",
      "only showing top 20 rows\n",
      "\n",
      "23/03/15 12:24:00 WARN ProcessingTimeExecutor: Current batch is falling behind. The trigger interval is 5000 milliseconds, but spent 7459 milliseconds\n"
     ]
    },
    {
     "name": "stderr",
     "output_type": "stream",
     "text": [
      "                                                                                \r"
     ]
    },
    {
     "name": "stdout",
     "output_type": "stream",
     "text": [
      "-------------------------------------------\n",
      "Batch: 48\n",
      "-------------------------------------------\n",
      "+------------+-----+\n",
      "|PULocationID|count|\n",
      "+------------+-----+\n",
      "|148         |6417 |\n",
      "|243         |2772 |\n",
      "|31          |188  |\n",
      "|137         |2000 |\n",
      "|85          |953  |\n",
      "|251         |305  |\n",
      "|65          |1201 |\n",
      "|53          |478  |\n",
      "|255         |5165 |\n",
      "|133         |582  |\n",
      "|78          |1544 |\n",
      "|108         |399  |\n",
      "|155         |694  |\n",
      "|193         |250  |\n",
      "|211         |1515 |\n",
      "|34          |997  |\n",
      "|101         |151  |\n",
      "|115         |123  |\n",
      "|126         |919  |\n",
      "|81          |642  |\n",
      "+------------+-----+\n",
      "only showing top 20 rows\n",
      "\n",
      "23/03/15 12:24:12 WARN ProcessingTimeExecutor: Current batch is falling behind. The trigger interval is 5000 milliseconds, but spent 11132 milliseconds\n"
     ]
    },
    {
     "name": "stderr",
     "output_type": "stream",
     "text": [
      "[Stage 101:=================================================>   (188 + 8) / 200]\r"
     ]
    },
    {
     "name": "stdout",
     "output_type": "stream",
     "text": [
      "-------------------------------------------\n",
      "Batch: 49\n",
      "-------------------------------------------\n",
      "+------------+-----+\n",
      "|PULocationID|count|\n",
      "+------------+-----+\n",
      "|148         |6505 |\n",
      "|243         |2869 |\n",
      "|31          |196  |\n",
      "|137         |2088 |\n",
      "|85          |991  |\n",
      "|251         |311  |\n",
      "|65          |1247 |\n",
      "|53          |500  |\n",
      "|255         |5268 |\n",
      "|133         |613  |\n",
      "|78          |1581 |\n",
      "|108         |412  |\n",
      "|155         |716  |\n",
      "|193         |264  |\n",
      "|211         |1537 |\n",
      "|34          |999  |\n",
      "|101         |164  |\n",
      "|115         |131  |\n",
      "|126         |944  |\n",
      "|81          |682  |\n",
      "+------------+-----+\n",
      "only showing top 20 rows\n",
      "\n",
      "23/03/15 12:24:23 WARN ProcessingTimeExecutor: Current batch is falling behind. The trigger interval is 5000 milliseconds, but spent 11534 milliseconds\n"
     ]
    },
    {
     "name": "stderr",
     "output_type": "stream",
     "text": [
      "                                                                                \r"
     ]
    },
    {
     "name": "stdout",
     "output_type": "stream",
     "text": [
      "-------------------------------------------\n",
      "Batch: 50\n",
      "-------------------------------------------\n",
      "+------------+-----+\n",
      "|PULocationID|count|\n",
      "+------------+-----+\n",
      "|148         |6630 |\n",
      "|243         |2962 |\n",
      "|31          |198  |\n",
      "|137         |2205 |\n",
      "|85          |1037 |\n",
      "|251         |321  |\n",
      "|65          |1306 |\n",
      "|53          |517  |\n",
      "|255         |5377 |\n",
      "|133         |644  |\n",
      "|78          |1632 |\n",
      "|108         |427  |\n",
      "|155         |747  |\n",
      "|193         |281  |\n",
      "|211         |1567 |\n",
      "|34          |1004 |\n",
      "|101         |174  |\n",
      "|115         |141  |\n",
      "|126         |967  |\n",
      "|81          |711  |\n",
      "+------------+-----+\n",
      "only showing top 20 rows\n",
      "\n",
      "23/03/15 12:24:52 WARN ProcessingTimeExecutor: Current batch is falling behind. The trigger interval is 5000 milliseconds, but spent 28749 milliseconds\n"
     ]
    },
    {
     "name": "stderr",
     "output_type": "stream",
     "text": [
      "                                                                                \r"
     ]
    },
    {
     "name": "stdout",
     "output_type": "stream",
     "text": [
      "-------------------------------------------\n",
      "Batch: 51\n",
      "-------------------------------------------\n",
      "+------------+-----+\n",
      "|PULocationID|count|\n",
      "+------------+-----+\n",
      "|148         |7066 |\n",
      "|243         |3159 |\n",
      "|31          |217  |\n",
      "|137         |2546 |\n",
      "|85          |1147 |\n",
      "|251         |337  |\n",
      "|65          |1486 |\n",
      "|53          |587  |\n",
      "|255         |5723 |\n",
      "|133         |733  |\n",
      "|78          |1741 |\n",
      "|108         |486  |\n",
      "|155         |830  |\n",
      "|193         |343  |\n",
      "|211         |1731 |\n",
      "|34          |1017 |\n",
      "|101         |195  |\n",
      "|115         |157  |\n",
      "|126         |1018 |\n",
      "|81          |803  |\n",
      "+------------+-----+\n",
      "only showing top 20 rows\n",
      "\n",
      "23/03/15 12:25:00 WARN ProcessingTimeExecutor: Current batch is falling behind. The trigger interval is 5000 milliseconds, but spent 8618 milliseconds\n"
     ]
    },
    {
     "name": "stderr",
     "output_type": "stream",
     "text": [
      "                                                                                \r"
     ]
    },
    {
     "name": "stdout",
     "output_type": "stream",
     "text": [
      "-------------------------------------------\n",
      "Batch: 52\n",
      "-------------------------------------------\n",
      "+------------+-----+\n",
      "|PULocationID|count|\n",
      "+------------+-----+\n",
      "|148         |7207 |\n",
      "|243         |3205 |\n",
      "|31          |219  |\n",
      "|137         |2649 |\n",
      "|85          |1178 |\n",
      "|251         |343  |\n",
      "|65          |1548 |\n",
      "|53          |597  |\n",
      "|255         |5835 |\n",
      "|133         |747  |\n",
      "|78          |1756 |\n",
      "|108         |493  |\n",
      "|155         |861  |\n",
      "|193         |353  |\n",
      "|211         |1797 |\n",
      "|34          |1022 |\n",
      "|101         |205  |\n",
      "|115         |162  |\n",
      "|126         |1027 |\n",
      "|81          |813  |\n",
      "+------------+-----+\n",
      "only showing top 20 rows\n",
      "\n",
      "23/03/15 12:25:09 WARN ProcessingTimeExecutor: Current batch is falling behind. The trigger interval is 5000 milliseconds, but spent 8183 milliseconds\n"
     ]
    },
    {
     "name": "stderr",
     "output_type": "stream",
     "text": [
      "                                                                                \r"
     ]
    },
    {
     "name": "stdout",
     "output_type": "stream",
     "text": [
      "-------------------------------------------\n",
      "Batch: 53\n",
      "-------------------------------------------\n",
      "+------------+-----+\n",
      "|PULocationID|count|\n",
      "+------------+-----+\n",
      "|148         |7305 |\n",
      "|243         |3250 |\n",
      "|31          |225  |\n",
      "|137         |2715 |\n",
      "|85          |1198 |\n",
      "|251         |346  |\n",
      "|65          |1593 |\n",
      "|53          |605  |\n",
      "|255         |5914 |\n",
      "|133         |765  |\n",
      "|78          |1788 |\n",
      "|108         |509  |\n",
      "|155         |882  |\n",
      "|193         |359  |\n",
      "|211         |1852 |\n",
      "|34          |1024 |\n",
      "|101         |212  |\n",
      "|115         |167  |\n",
      "|126         |1039 |\n",
      "|81          |844  |\n",
      "+------------+-----+\n",
      "only showing top 20 rows\n",
      "\n",
      "23/03/15 12:25:16 WARN ProcessingTimeExecutor: Current batch is falling behind. The trigger interval is 5000 milliseconds, but spent 7106 milliseconds\n"
     ]
    },
    {
     "name": "stderr",
     "output_type": "stream",
     "text": [
      "                                                                                \r"
     ]
    },
    {
     "name": "stdout",
     "output_type": "stream",
     "text": [
      "-------------------------------------------\n",
      "Batch: 54\n",
      "-------------------------------------------\n",
      "+------------+-----+\n",
      "|PULocationID|count|\n",
      "+------------+-----+\n",
      "|148         |7359 |\n",
      "|243         |3274 |\n",
      "|31          |227  |\n",
      "|137         |2768 |\n",
      "|85          |1213 |\n",
      "|251         |347  |\n",
      "|65          |1629 |\n",
      "|53          |616  |\n",
      "|255         |5962 |\n",
      "|133         |776  |\n",
      "|78          |1796 |\n",
      "|108         |517  |\n",
      "|155         |895  |\n",
      "|193         |372  |\n",
      "|211         |1888 |\n",
      "|34          |1025 |\n",
      "|101         |214  |\n",
      "|115         |168  |\n",
      "|126         |1047 |\n",
      "|81          |854  |\n",
      "+------------+-----+\n",
      "only showing top 20 rows\n",
      "\n",
      "23/03/15 12:25:22 WARN ProcessingTimeExecutor: Current batch is falling behind. The trigger interval is 5000 milliseconds, but spent 6659 milliseconds\n"
     ]
    },
    {
     "name": "stderr",
     "output_type": "stream",
     "text": [
      "                                                                                \r"
     ]
    },
    {
     "name": "stdout",
     "output_type": "stream",
     "text": [
      "-------------------------------------------\n",
      "Batch: 55\n",
      "-------------------------------------------\n",
      "+------------+-----+\n",
      "|PULocationID|count|\n",
      "+------------+-----+\n",
      "|148         |7427 |\n",
      "|243         |3298 |\n",
      "|31          |228  |\n",
      "|137         |2824 |\n",
      "|85          |1235 |\n",
      "|251         |347  |\n",
      "|65          |1679 |\n",
      "|53          |621  |\n",
      "|255         |6028 |\n",
      "|133         |793  |\n",
      "|78          |1811 |\n",
      "|108         |527  |\n",
      "|155         |914  |\n",
      "|193         |377  |\n",
      "|211         |1940 |\n",
      "|34          |1026 |\n",
      "|101         |224  |\n",
      "|115         |176  |\n",
      "|126         |1051 |\n",
      "|81          |868  |\n",
      "+------------+-----+\n",
      "only showing top 20 rows\n",
      "\n",
      "23/03/15 12:25:29 WARN ProcessingTimeExecutor: Current batch is falling behind. The trigger interval is 5000 milliseconds, but spent 6515 milliseconds\n"
     ]
    },
    {
     "name": "stderr",
     "output_type": "stream",
     "text": [
      "                                                                                \r"
     ]
    },
    {
     "name": "stdout",
     "output_type": "stream",
     "text": [
      "-------------------------------------------\n",
      "Batch: 56\n",
      "-------------------------------------------\n",
      "+------------+-----+\n",
      "|PULocationID|count|\n",
      "+------------+-----+\n",
      "|148         |7494 |\n",
      "|243         |3336 |\n",
      "|31          |228  |\n",
      "|137         |2893 |\n",
      "|85          |1259 |\n",
      "|251         |352  |\n",
      "|65          |1704 |\n",
      "|53          |625  |\n",
      "|255         |6087 |\n",
      "|133         |801  |\n",
      "|78          |1827 |\n",
      "|108         |531  |\n",
      "|155         |934  |\n",
      "|193         |384  |\n",
      "|211         |1990 |\n",
      "|34          |1031 |\n",
      "|101         |229  |\n",
      "|115         |179  |\n",
      "|126         |1057 |\n",
      "|81          |876  |\n",
      "+------------+-----+\n",
      "only showing top 20 rows\n",
      "\n",
      "23/03/15 12:25:35 WARN ProcessingTimeExecutor: Current batch is falling behind. The trigger interval is 5000 milliseconds, but spent 5855 milliseconds\n"
     ]
    },
    {
     "name": "stderr",
     "output_type": "stream",
     "text": [
      "                                                                                \r"
     ]
    },
    {
     "name": "stdout",
     "output_type": "stream",
     "text": [
      "-------------------------------------------\n",
      "Batch: 57\n",
      "-------------------------------------------\n",
      "+------------+-----+\n",
      "|PULocationID|count|\n",
      "+------------+-----+\n",
      "|148         |7543 |\n",
      "|243         |3376 |\n",
      "|31          |234  |\n",
      "|137         |2946 |\n",
      "|85          |1275 |\n",
      "|251         |353  |\n",
      "|65          |1729 |\n",
      "|53          |640  |\n",
      "|255         |6135 |\n",
      "|133         |810  |\n",
      "|78          |1849 |\n",
      "|108         |535  |\n",
      "|155         |946  |\n",
      "|193         |390  |\n",
      "|211         |2030 |\n",
      "|34          |1034 |\n",
      "|101         |230  |\n",
      "|115         |186  |\n",
      "|126         |1077 |\n",
      "|81          |887  |\n",
      "+------------+-----+\n",
      "only showing top 20 rows\n",
      "\n",
      "23/03/15 12:25:43 WARN ProcessingTimeExecutor: Current batch is falling behind. The trigger interval is 5000 milliseconds, but spent 8528 milliseconds\n"
     ]
    },
    {
     "name": "stderr",
     "output_type": "stream",
     "text": [
      "                                                                                \r"
     ]
    },
    {
     "name": "stdout",
     "output_type": "stream",
     "text": [
      "-------------------------------------------\n",
      "Batch: 58\n",
      "-------------------------------------------\n",
      "+------------+-----+\n",
      "|PULocationID|count|\n",
      "+------------+-----+\n",
      "|148         |7593 |\n",
      "|243         |3390 |\n",
      "|31          |235  |\n",
      "|137         |2986 |\n",
      "|85          |1285 |\n",
      "|251         |353  |\n",
      "|65          |1740 |\n",
      "|53          |648  |\n",
      "|255         |6168 |\n",
      "|133         |816  |\n",
      "|78          |1862 |\n",
      "|108         |541  |\n",
      "|155         |955  |\n",
      "|193         |396  |\n",
      "|211         |2055 |\n",
      "|34          |1034 |\n",
      "|101         |231  |\n",
      "|115         |191  |\n",
      "|126         |1081 |\n",
      "|81          |896  |\n",
      "+------------+-----+\n",
      "only showing top 20 rows\n",
      "\n",
      "23/03/15 12:25:49 WARN ProcessingTimeExecutor: Current batch is falling behind. The trigger interval is 5000 milliseconds, but spent 6202 milliseconds\n"
     ]
    },
    {
     "name": "stderr",
     "output_type": "stream",
     "text": [
      "                                                                                \r"
     ]
    },
    {
     "name": "stdout",
     "output_type": "stream",
     "text": [
      "-------------------------------------------\n",
      "Batch: 59\n",
      "-------------------------------------------\n",
      "+------------+-----+\n",
      "|PULocationID|count|\n",
      "+------------+-----+\n",
      "|148         |7652 |\n",
      "|243         |3415 |\n",
      "|31          |236  |\n",
      "|137         |3030 |\n",
      "|85          |1303 |\n",
      "|251         |356  |\n",
      "|65          |1778 |\n",
      "|53          |651  |\n",
      "|255         |6241 |\n",
      "|133         |825  |\n",
      "|78          |1871 |\n",
      "|108         |549  |\n",
      "|155         |973  |\n",
      "|193         |400  |\n",
      "|211         |2082 |\n",
      "|34          |1037 |\n",
      "|101         |234  |\n",
      "|115         |191  |\n",
      "|126         |1085 |\n",
      "|81          |912  |\n",
      "+------------+-----+\n",
      "only showing top 20 rows\n",
      "\n",
      "23/03/15 12:25:56 WARN ProcessingTimeExecutor: Current batch is falling behind. The trigger interval is 5000 milliseconds, but spent 6820 milliseconds\n"
     ]
    },
    {
     "name": "stderr",
     "output_type": "stream",
     "text": [
      "                                                                                \r"
     ]
    },
    {
     "name": "stdout",
     "output_type": "stream",
     "text": [
      "-------------------------------------------\n",
      "Batch: 60\n",
      "-------------------------------------------\n",
      "+------------+-----+\n",
      "|PULocationID|count|\n",
      "+------------+-----+\n",
      "|148         |7713 |\n",
      "|243         |3458 |\n",
      "|31          |237  |\n",
      "|137         |3084 |\n",
      "|85          |1318 |\n",
      "|251         |361  |\n",
      "|65          |1800 |\n",
      "|53          |657  |\n",
      "|255         |6311 |\n",
      "|133         |840  |\n",
      "|78          |1893 |\n",
      "|108         |557  |\n",
      "|155         |987  |\n",
      "|193         |404  |\n",
      "|211         |2121 |\n",
      "|34          |1039 |\n",
      "|101         |240  |\n",
      "|115         |196  |\n",
      "|126         |1098 |\n",
      "|81          |919  |\n",
      "+------------+-----+\n",
      "only showing top 20 rows\n",
      "\n",
      "23/03/15 12:26:03 WARN ProcessingTimeExecutor: Current batch is falling behind. The trigger interval is 5000 milliseconds, but spent 6585 milliseconds\n"
     ]
    },
    {
     "name": "stderr",
     "output_type": "stream",
     "text": [
      "                                                                                \r"
     ]
    },
    {
     "name": "stdout",
     "output_type": "stream",
     "text": [
      "-------------------------------------------\n",
      "Batch: 61\n",
      "-------------------------------------------\n",
      "+------------+-----+\n",
      "|PULocationID|count|\n",
      "+------------+-----+\n",
      "|148         |7763 |\n",
      "|243         |3485 |\n",
      "|31          |241  |\n",
      "|137         |3125 |\n",
      "|85          |1324 |\n",
      "|251         |363  |\n",
      "|65          |1833 |\n",
      "|53          |665  |\n",
      "|255         |6345 |\n",
      "|133         |847  |\n",
      "|78          |1910 |\n",
      "|108         |564  |\n",
      "|155         |1001 |\n",
      "|193         |411  |\n",
      "|211         |2161 |\n",
      "|34          |1043 |\n",
      "|101         |245  |\n",
      "|115         |202  |\n",
      "|126         |1104 |\n",
      "|81          |926  |\n",
      "+------------+-----+\n",
      "only showing top 20 rows\n",
      "\n",
      "23/03/15 12:26:10 WARN ProcessingTimeExecutor: Current batch is falling behind. The trigger interval is 5000 milliseconds, but spent 6644 milliseconds\n"
     ]
    },
    {
     "name": "stderr",
     "output_type": "stream",
     "text": [
      "                                                                                \r"
     ]
    },
    {
     "name": "stdout",
     "output_type": "stream",
     "text": [
      "-------------------------------------------\n",
      "Batch: 62\n",
      "-------------------------------------------\n",
      "+------------+-----+\n",
      "|PULocationID|count|\n",
      "+------------+-----+\n",
      "|148         |7811 |\n",
      "|243         |3517 |\n",
      "|31          |245  |\n",
      "|137         |3179 |\n",
      "|85          |1342 |\n",
      "|251         |369  |\n",
      "|65          |1855 |\n",
      "|53          |670  |\n",
      "|255         |6394 |\n",
      "|133         |857  |\n",
      "|78          |1941 |\n",
      "|108         |572  |\n",
      "|155         |1021 |\n",
      "|193         |420  |\n",
      "|211         |2199 |\n",
      "|34          |1045 |\n",
      "|101         |250  |\n",
      "|115         |203  |\n",
      "|126         |1123 |\n",
      "|81          |943  |\n",
      "+------------+-----+\n",
      "only showing top 20 rows\n",
      "\n",
      "23/03/15 12:26:17 WARN ProcessingTimeExecutor: Current batch is falling behind. The trigger interval is 5000 milliseconds, but spent 7625 milliseconds\n"
     ]
    },
    {
     "name": "stderr",
     "output_type": "stream",
     "text": [
      "                                                                                \r"
     ]
    },
    {
     "name": "stdout",
     "output_type": "stream",
     "text": [
      "-------------------------------------------\n",
      "Batch: 63\n",
      "-------------------------------------------\n",
      "+------------+-----+\n",
      "|PULocationID|count|\n",
      "+------------+-----+\n",
      "|148         |7907 |\n",
      "|243         |3550 |\n",
      "|31          |250  |\n",
      "|137         |3228 |\n",
      "|85          |1366 |\n",
      "|251         |375  |\n",
      "|65          |1902 |\n",
      "|53          |677  |\n",
      "|255         |6488 |\n",
      "|133         |873  |\n",
      "|78          |1964 |\n",
      "|108         |585  |\n",
      "|155         |1042 |\n",
      "|193         |426  |\n",
      "|211         |2245 |\n",
      "|34          |1046 |\n",
      "|101         |255  |\n",
      "|115         |215  |\n",
      "|126         |1134 |\n",
      "|81          |962  |\n",
      "+------------+-----+\n",
      "only showing top 20 rows\n",
      "\n",
      "23/03/15 12:26:31 WARN ProcessingTimeExecutor: Current batch is falling behind. The trigger interval is 5000 milliseconds, but spent 13680 milliseconds\n"
     ]
    },
    {
     "name": "stderr",
     "output_type": "stream",
     "text": [
      "                                                                                \r"
     ]
    },
    {
     "name": "stdout",
     "output_type": "stream",
     "text": [
      "-------------------------------------------\n",
      "Batch: 64\n",
      "-------------------------------------------\n",
      "+------------+-----+\n",
      "|PULocationID|count|\n",
      "+------------+-----+\n",
      "|148         |8069 |\n",
      "|243         |3648 |\n",
      "|31          |265  |\n",
      "|137         |3378 |\n",
      "|85          |1421 |\n",
      "|251         |382  |\n",
      "|65          |2004 |\n",
      "|53          |703  |\n",
      "|255         |6657 |\n",
      "|133         |909  |\n",
      "|78          |2024 |\n",
      "|108         |612  |\n",
      "|155         |1095 |\n",
      "|193         |444  |\n",
      "|211         |2394 |\n",
      "|34          |1059 |\n",
      "|101         |263  |\n",
      "|115         |221  |\n",
      "|126         |1174 |\n",
      "|81          |1013 |\n",
      "+------------+-----+\n",
      "only showing top 20 rows\n",
      "\n",
      "23/03/15 12:26:43 WARN ProcessingTimeExecutor: Current batch is falling behind. The trigger interval is 5000 milliseconds, but spent 12273 milliseconds\n"
     ]
    },
    {
     "name": "stderr",
     "output_type": "stream",
     "text": [
      "                                                                                \r"
     ]
    },
    {
     "name": "stdout",
     "output_type": "stream",
     "text": [
      "-------------------------------------------\n",
      "Batch: 65\n",
      "-------------------------------------------\n",
      "+------------+-----+\n",
      "|PULocationID|count|\n",
      "+------------+-----+\n",
      "|148         |8208 |\n",
      "|243         |3701 |\n",
      "|31          |274  |\n",
      "|137         |3463 |\n",
      "|85          |1451 |\n",
      "|251         |391  |\n",
      "|65          |2071 |\n",
      "|53          |708  |\n",
      "|255         |6801 |\n",
      "|133         |929  |\n",
      "|78          |2051 |\n",
      "|108         |628  |\n",
      "|155         |1128 |\n",
      "|193         |453  |\n",
      "|211         |2483 |\n",
      "|34          |1065 |\n",
      "|101         |281  |\n",
      "|115         |229  |\n",
      "|126         |1189 |\n",
      "|81          |1039 |\n",
      "+------------+-----+\n",
      "only showing top 20 rows\n",
      "\n",
      "23/03/15 12:26:59 WARN ProcessingTimeExecutor: Current batch is falling behind. The trigger interval is 5000 milliseconds, but spent 15500 milliseconds\n"
     ]
    },
    {
     "name": "stderr",
     "output_type": "stream",
     "text": [
      "                                                                                \r"
     ]
    },
    {
     "name": "stdout",
     "output_type": "stream",
     "text": [
      "-------------------------------------------\n",
      "Batch: 66\n",
      "-------------------------------------------\n",
      "+------------+-----+\n",
      "|PULocationID|count|\n",
      "+------------+-----+\n",
      "|148         |8401 |\n",
      "|243         |3836 |\n",
      "|31          |291  |\n",
      "|137         |3610 |\n",
      "|85          |1510 |\n",
      "|251         |394  |\n",
      "|65          |2170 |\n",
      "|53          |732  |\n",
      "|255         |7014 |\n",
      "|133         |963  |\n",
      "|78          |2118 |\n",
      "|108         |648  |\n",
      "|155         |1172 |\n",
      "|193         |473  |\n",
      "|211         |2620 |\n",
      "|34          |1074 |\n",
      "|101         |290  |\n",
      "|115         |238  |\n",
      "|126         |1234 |\n",
      "|81          |1081 |\n",
      "+------------+-----+\n",
      "only showing top 20 rows\n",
      "\n",
      "23/03/15 12:27:08 WARN ProcessingTimeExecutor: Current batch is falling behind. The trigger interval is 5000 milliseconds, but spent 9568 milliseconds\n"
     ]
    },
    {
     "name": "stderr",
     "output_type": "stream",
     "text": [
      "                                                                                \r"
     ]
    },
    {
     "name": "stdout",
     "output_type": "stream",
     "text": [
      "-------------------------------------------\n",
      "Batch: 67\n",
      "-------------------------------------------\n",
      "+------------+-----+\n",
      "|PULocationID|count|\n",
      "+------------+-----+\n",
      "|148         |8519 |\n",
      "|243         |3909 |\n",
      "|31          |295  |\n",
      "|137         |3705 |\n",
      "|85          |1538 |\n",
      "|251         |396  |\n",
      "|65          |2218 |\n",
      "|53          |738  |\n",
      "|255         |7145 |\n",
      "|133         |980  |\n",
      "|78          |2147 |\n",
      "|108         |657  |\n",
      "|155         |1212 |\n",
      "|193         |484  |\n",
      "|211         |2723 |\n",
      "|34          |1079 |\n",
      "|101         |302  |\n",
      "|115         |244  |\n",
      "|126         |1251 |\n",
      "|81          |1098 |\n",
      "+------------+-----+\n",
      "only showing top 20 rows\n",
      "\n",
      "23/03/15 12:27:17 WARN ProcessingTimeExecutor: Current batch is falling behind. The trigger interval is 5000 milliseconds, but spent 9136 milliseconds\n"
     ]
    },
    {
     "name": "stderr",
     "output_type": "stream",
     "text": [
      "                                                                                \r"
     ]
    },
    {
     "name": "stdout",
     "output_type": "stream",
     "text": [
      "-------------------------------------------\n",
      "Batch: 68\n",
      "-------------------------------------------\n",
      "+------------+-----+\n",
      "|PULocationID|count|\n",
      "+------------+-----+\n",
      "|148         |8607 |\n",
      "|243         |3976 |\n",
      "|31          |303  |\n",
      "|137         |3795 |\n",
      "|85          |1566 |\n",
      "|251         |399  |\n",
      "|65          |2266 |\n",
      "|53          |757  |\n",
      "|255         |7251 |\n",
      "|133         |994  |\n",
      "|78          |2195 |\n",
      "|108         |669  |\n",
      "|155         |1250 |\n",
      "|193         |492  |\n",
      "|211         |2808 |\n",
      "|34          |1085 |\n",
      "|101         |308  |\n",
      "|115         |246  |\n",
      "|126         |1270 |\n",
      "|81          |1122 |\n",
      "+------------+-----+\n",
      "only showing top 20 rows\n",
      "\n",
      "23/03/15 12:27:29 WARN ProcessingTimeExecutor: Current batch is falling behind. The trigger interval is 5000 milliseconds, but spent 12050 milliseconds\n"
     ]
    },
    {
     "name": "stderr",
     "output_type": "stream",
     "text": [
      "                                                                                \r"
     ]
    },
    {
     "name": "stdout",
     "output_type": "stream",
     "text": [
      "-------------------------------------------\n",
      "Batch: 69\n",
      "-------------------------------------------\n",
      "+------------+-----+\n",
      "|PULocationID|count|\n",
      "+------------+-----+\n",
      "|148         |8731 |\n",
      "|243         |4045 |\n",
      "|31          |313  |\n",
      "|137         |3863 |\n",
      "|85          |1596 |\n",
      "|251         |403  |\n",
      "|65          |2337 |\n",
      "|53          |767  |\n",
      "|255         |7419 |\n",
      "|133         |1025 |\n",
      "|78          |2226 |\n",
      "|108         |684  |\n",
      "|155         |1298 |\n",
      "|193         |505  |\n",
      "|211         |2895 |\n",
      "|34          |1088 |\n",
      "|101         |313  |\n",
      "|115         |252  |\n",
      "|126         |1292 |\n",
      "|81          |1154 |\n",
      "+------------+-----+\n",
      "only showing top 20 rows\n",
      "\n",
      "23/03/15 12:27:38 WARN ProcessingTimeExecutor: Current batch is falling behind. The trigger interval is 5000 milliseconds, but spent 8732 milliseconds\n"
     ]
    },
    {
     "name": "stderr",
     "output_type": "stream",
     "text": [
      "                                                                                \r"
     ]
    },
    {
     "name": "stdout",
     "output_type": "stream",
     "text": [
      "-------------------------------------------\n",
      "Batch: 70\n",
      "-------------------------------------------\n",
      "+------------+-----+\n",
      "|PULocationID|count|\n",
      "+------------+-----+\n",
      "|148         |8830 |\n",
      "|243         |4098 |\n",
      "|31          |324  |\n",
      "|137         |3948 |\n",
      "|85          |1628 |\n",
      "|251         |407  |\n",
      "|65          |2380 |\n",
      "|53          |779  |\n",
      "|255         |7513 |\n",
      "|133         |1051 |\n",
      "|78          |2256 |\n",
      "|108         |693  |\n",
      "|155         |1340 |\n",
      "|193         |512  |\n",
      "|211         |2955 |\n",
      "|34          |1090 |\n",
      "|101         |315  |\n",
      "|115         |255  |\n",
      "|126         |1316 |\n",
      "|81          |1182 |\n",
      "+------------+-----+\n",
      "only showing top 20 rows\n",
      "\n",
      "23/03/15 12:27:47 WARN ProcessingTimeExecutor: Current batch is falling behind. The trigger interval is 5000 milliseconds, but spent 8467 milliseconds\n"
     ]
    },
    {
     "name": "stderr",
     "output_type": "stream",
     "text": [
      "                                                                                \r"
     ]
    },
    {
     "name": "stdout",
     "output_type": "stream",
     "text": [
      "-------------------------------------------\n",
      "Batch: 71\n",
      "-------------------------------------------\n",
      "+------------+-----+\n",
      "|PULocationID|count|\n",
      "+------------+-----+\n",
      "|148         |8898 |\n",
      "|243         |4167 |\n",
      "|31          |335  |\n",
      "|137         |4006 |\n",
      "|85          |1654 |\n",
      "|251         |410  |\n",
      "|65          |2411 |\n",
      "|53          |784  |\n",
      "|255         |7593 |\n",
      "|133         |1067 |\n",
      "|78          |2297 |\n",
      "|108         |707  |\n",
      "|155         |1366 |\n",
      "|193         |521  |\n",
      "|211         |3009 |\n",
      "|34          |1090 |\n",
      "|101         |320  |\n",
      "|115         |258  |\n",
      "|126         |1340 |\n",
      "|81          |1212 |\n",
      "+------------+-----+\n",
      "only showing top 20 rows\n",
      "\n",
      "23/03/15 12:27:54 WARN ProcessingTimeExecutor: Current batch is falling behind. The trigger interval is 5000 milliseconds, but spent 7893 milliseconds\n"
     ]
    },
    {
     "name": "stderr",
     "output_type": "stream",
     "text": [
      "                                                                                \r"
     ]
    },
    {
     "name": "stdout",
     "output_type": "stream",
     "text": [
      "-------------------------------------------\n",
      "Batch: 72\n",
      "-------------------------------------------\n",
      "+------------+-----+\n",
      "|PULocationID|count|\n",
      "+------------+-----+\n",
      "|148         |8972 |\n",
      "|243         |4192 |\n",
      "|31          |336  |\n",
      "|137         |4043 |\n",
      "|85          |1668 |\n",
      "|251         |411  |\n",
      "|65          |2444 |\n",
      "|53          |792  |\n",
      "|255         |7673 |\n",
      "|133         |1076 |\n",
      "|78          |2310 |\n",
      "|108         |712  |\n",
      "|155         |1386 |\n",
      "|193         |523  |\n",
      "|211         |3039 |\n",
      "|34          |1091 |\n",
      "|101         |324  |\n",
      "|115         |260  |\n",
      "|126         |1346 |\n",
      "|81          |1224 |\n",
      "+------------+-----+\n",
      "only showing top 20 rows\n",
      "\n",
      "23/03/15 12:28:02 WARN ProcessingTimeExecutor: Current batch is falling behind. The trigger interval is 5000 milliseconds, but spent 7917 milliseconds\n"
     ]
    },
    {
     "name": "stderr",
     "output_type": "stream",
     "text": [
      "                                                                                \r"
     ]
    },
    {
     "name": "stdout",
     "output_type": "stream",
     "text": [
      "-------------------------------------------\n",
      "Batch: 73\n",
      "-------------------------------------------\n",
      "+------------+-----+\n",
      "|PULocationID|count|\n",
      "+------------+-----+\n",
      "|148         |9050 |\n",
      "|243         |4239 |\n",
      "|31          |340  |\n",
      "|137         |4108 |\n",
      "|85          |1694 |\n",
      "|251         |416  |\n",
      "|65          |2465 |\n",
      "|53          |801  |\n",
      "|255         |7751 |\n",
      "|133         |1089 |\n",
      "|78          |2339 |\n",
      "|108         |724  |\n",
      "|155         |1411 |\n",
      "|193         |529  |\n",
      "|211         |3091 |\n",
      "|34          |1091 |\n",
      "|101         |327  |\n",
      "|115         |265  |\n",
      "|126         |1363 |\n",
      "|81          |1243 |\n",
      "+------------+-----+\n",
      "only showing top 20 rows\n",
      "\n",
      "23/03/15 12:28:10 WARN ProcessingTimeExecutor: Current batch is falling behind. The trigger interval is 5000 milliseconds, but spent 7665 milliseconds\n"
     ]
    },
    {
     "name": "stderr",
     "output_type": "stream",
     "text": [
      "                                                                                \r"
     ]
    },
    {
     "name": "stdout",
     "output_type": "stream",
     "text": [
      "-------------------------------------------\n",
      "Batch: 74\n",
      "-------------------------------------------\n",
      "+------------+-----+\n",
      "|PULocationID|count|\n",
      "+------------+-----+\n",
      "|148         |9139 |\n",
      "|243         |4287 |\n",
      "|31          |347  |\n",
      "|137         |4159 |\n",
      "|85          |1722 |\n",
      "|251         |427  |\n",
      "|65          |2496 |\n",
      "|53          |814  |\n",
      "|255         |7817 |\n",
      "|133         |1110 |\n",
      "|78          |2362 |\n",
      "|108         |732  |\n",
      "|155         |1440 |\n",
      "|193         |536  |\n",
      "|211         |3135 |\n",
      "|34          |1093 |\n",
      "|101         |337  |\n",
      "|115         |273  |\n",
      "|126         |1375 |\n",
      "|81          |1261 |\n",
      "+------------+-----+\n",
      "only showing top 20 rows\n",
      "\n",
      "23/03/15 12:28:18 WARN ProcessingTimeExecutor: Current batch is falling behind. The trigger interval is 5000 milliseconds, but spent 8133 milliseconds\n"
     ]
    },
    {
     "name": "stderr",
     "output_type": "stream",
     "text": [
      "                                                                                \r"
     ]
    },
    {
     "name": "stdout",
     "output_type": "stream",
     "text": [
      "-------------------------------------------\n",
      "Batch: 75\n",
      "-------------------------------------------\n",
      "+------------+-----+\n",
      "|PULocationID|count|\n",
      "+------------+-----+\n",
      "|148         |9186 |\n",
      "|243         |4335 |\n",
      "|31          |351  |\n",
      "|137         |4200 |\n",
      "|85          |1744 |\n",
      "|251         |429  |\n",
      "|65          |2516 |\n",
      "|53          |821  |\n",
      "|255         |7867 |\n",
      "|133         |1126 |\n",
      "|78          |2397 |\n",
      "|108         |743  |\n",
      "|155         |1458 |\n",
      "|193         |543  |\n",
      "|211         |3173 |\n",
      "|34          |1094 |\n",
      "|101         |339  |\n",
      "|115         |274  |\n",
      "|126         |1408 |\n",
      "|81          |1284 |\n",
      "+------------+-----+\n",
      "only showing top 20 rows\n",
      "\n",
      "23/03/15 12:28:26 WARN ProcessingTimeExecutor: Current batch is falling behind. The trigger interval is 5000 milliseconds, but spent 7681 milliseconds\n"
     ]
    },
    {
     "name": "stderr",
     "output_type": "stream",
     "text": [
      "                                                                                \r"
     ]
    },
    {
     "name": "stdout",
     "output_type": "stream",
     "text": [
      "-------------------------------------------\n",
      "Batch: 76\n",
      "-------------------------------------------\n",
      "+------------+-----+\n",
      "|PULocationID|count|\n",
      "+------------+-----+\n",
      "|148         |9275 |\n",
      "|243         |4377 |\n",
      "|31          |352  |\n",
      "|137         |4260 |\n",
      "|85          |1756 |\n",
      "|251         |433  |\n",
      "|65          |2567 |\n",
      "|53          |834  |\n",
      "|255         |7972 |\n",
      "|133         |1145 |\n",
      "|78          |2412 |\n",
      "|108         |752  |\n",
      "|155         |1481 |\n",
      "|193         |546  |\n",
      "|211         |3219 |\n",
      "|34          |1096 |\n",
      "|101         |341  |\n",
      "|115         |282  |\n",
      "|126         |1420 |\n",
      "|81          |1307 |\n",
      "+------------+-----+\n",
      "only showing top 20 rows\n",
      "\n",
      "23/03/15 12:28:37 WARN ProcessingTimeExecutor: Current batch is falling behind. The trigger interval is 5000 milliseconds, but spent 11272 milliseconds\n"
     ]
    },
    {
     "name": "stderr",
     "output_type": "stream",
     "text": [
      "                                                                                \r"
     ]
    },
    {
     "name": "stdout",
     "output_type": "stream",
     "text": [
      "-------------------------------------------\n",
      "Batch: 77\n",
      "-------------------------------------------\n",
      "+------------+-----+\n",
      "|PULocationID|count|\n",
      "+------------+-----+\n",
      "|148         |9409 |\n",
      "|243         |4465 |\n",
      "|31          |359  |\n",
      "|137         |4384 |\n",
      "|85          |1796 |\n",
      "|251         |440  |\n",
      "|65          |2597 |\n",
      "|53          |854  |\n",
      "|255         |8078 |\n",
      "|133         |1182 |\n",
      "|78          |2470 |\n",
      "|108         |766  |\n",
      "|155         |1511 |\n",
      "|193         |564  |\n",
      "|211         |3276 |\n",
      "|34          |1100 |\n",
      "|101         |350  |\n",
      "|115         |291  |\n",
      "|126         |1454 |\n",
      "|81          |1343 |\n",
      "+------------+-----+\n",
      "only showing top 20 rows\n",
      "\n",
      "23/03/15 12:28:46 WARN ProcessingTimeExecutor: Current batch is falling behind. The trigger interval is 5000 milliseconds, but spent 8561 milliseconds\n"
     ]
    },
    {
     "name": "stderr",
     "output_type": "stream",
     "text": [
      "                                                                                \r"
     ]
    },
    {
     "name": "stdout",
     "output_type": "stream",
     "text": [
      "-------------------------------------------\n",
      "Batch: 78\n",
      "-------------------------------------------\n",
      "+------------+-----+\n",
      "|PULocationID|count|\n",
      "+------------+-----+\n",
      "|148         |9473 |\n",
      "|243         |4507 |\n",
      "|31          |362  |\n",
      "|137         |4413 |\n",
      "|85          |1812 |\n",
      "|251         |441  |\n",
      "|65          |2629 |\n",
      "|53          |866  |\n",
      "|255         |8156 |\n",
      "|133         |1192 |\n",
      "|78          |2495 |\n",
      "|108         |773  |\n",
      "|155         |1522 |\n",
      "|193         |569  |\n",
      "|211         |3306 |\n",
      "|34          |1100 |\n",
      "|101         |352  |\n",
      "|115         |293  |\n",
      "|126         |1465 |\n",
      "|81          |1369 |\n",
      "+------------+-----+\n",
      "only showing top 20 rows\n",
      "\n",
      "23/03/15 12:28:55 WARN ProcessingTimeExecutor: Current batch is falling behind. The trigger interval is 5000 milliseconds, but spent 9536 milliseconds\n"
     ]
    },
    {
     "name": "stderr",
     "output_type": "stream",
     "text": [
      "                                                                                \r"
     ]
    },
    {
     "name": "stdout",
     "output_type": "stream",
     "text": [
      "-------------------------------------------\n",
      "Batch: 79\n",
      "-------------------------------------------\n",
      "+------------+-----+\n",
      "|PULocationID|count|\n",
      "+------------+-----+\n",
      "|148         |9604 |\n",
      "|243         |4564 |\n",
      "|31          |366  |\n",
      "|137         |4475 |\n",
      "|85          |1842 |\n",
      "|251         |444  |\n",
      "|65          |2664 |\n",
      "|53          |876  |\n",
      "|255         |8266 |\n",
      "|133         |1211 |\n",
      "|78          |2529 |\n",
      "|108         |782  |\n",
      "|155         |1554 |\n",
      "|193         |576  |\n",
      "|211         |3350 |\n",
      "|34          |1100 |\n",
      "|101         |356  |\n",
      "|115         |299  |\n",
      "|126         |1478 |\n",
      "|81          |1385 |\n",
      "+------------+-----+\n",
      "only showing top 20 rows\n",
      "\n",
      "23/03/15 12:29:03 WARN ProcessingTimeExecutor: Current batch is falling behind. The trigger interval is 5000 milliseconds, but spent 7562 milliseconds\n"
     ]
    },
    {
     "name": "stderr",
     "output_type": "stream",
     "text": [
      "                                                                                \r"
     ]
    },
    {
     "name": "stdout",
     "output_type": "stream",
     "text": [
      "-------------------------------------------\n",
      "Batch: 80\n",
      "-------------------------------------------\n",
      "+------------+-----+\n",
      "|PULocationID|count|\n",
      "+------------+-----+\n",
      "|148         |9681 |\n",
      "|243         |4605 |\n",
      "|31          |370  |\n",
      "|137         |4509 |\n",
      "|85          |1864 |\n",
      "|251         |449  |\n",
      "|65          |2678 |\n",
      "|53          |881  |\n",
      "|255         |8313 |\n",
      "|133         |1225 |\n",
      "|78          |2551 |\n",
      "|108         |792  |\n",
      "|155         |1564 |\n",
      "|193         |583  |\n",
      "|211         |3373 |\n",
      "|34          |1102 |\n",
      "|101         |362  |\n",
      "|115         |299  |\n",
      "|126         |1492 |\n",
      "|81          |1403 |\n",
      "+------------+-----+\n",
      "only showing top 20 rows\n",
      "\n",
      "23/03/15 12:29:10 WARN ProcessingTimeExecutor: Current batch is falling behind. The trigger interval is 5000 milliseconds, but spent 7550 milliseconds\n"
     ]
    },
    {
     "name": "stderr",
     "output_type": "stream",
     "text": [
      "                                                                                \r"
     ]
    },
    {
     "name": "stdout",
     "output_type": "stream",
     "text": [
      "-------------------------------------------\n",
      "Batch: 81\n",
      "-------------------------------------------\n",
      "+------------+-----+\n",
      "|PULocationID|count|\n",
      "+------------+-----+\n",
      "|148         |9745 |\n",
      "|243         |4642 |\n",
      "|31          |375  |\n",
      "|137         |4537 |\n",
      "|85          |1881 |\n",
      "|251         |453  |\n",
      "|65          |2701 |\n",
      "|53          |893  |\n",
      "|255         |8381 |\n",
      "|133         |1235 |\n",
      "|78          |2593 |\n",
      "|108         |796  |\n",
      "|155         |1576 |\n",
      "|193         |592  |\n",
      "|211         |3393 |\n",
      "|34          |1103 |\n",
      "|101         |367  |\n",
      "|115         |299  |\n",
      "|126         |1505 |\n",
      "|81          |1422 |\n",
      "+------------+-----+\n",
      "only showing top 20 rows\n",
      "\n",
      "23/03/15 12:29:22 WARN ProcessingTimeExecutor: Current batch is falling behind. The trigger interval is 5000 milliseconds, but spent 11744 milliseconds\n"
     ]
    },
    {
     "name": "stderr",
     "output_type": "stream",
     "text": [
      "                                                                                \r"
     ]
    },
    {
     "name": "stdout",
     "output_type": "stream",
     "text": [
      "-------------------------------------------\n",
      "Batch: 82\n",
      "-------------------------------------------\n",
      "+------------+-----+\n",
      "|PULocationID|count|\n",
      "+------------+-----+\n",
      "|148         |9887 |\n",
      "|243         |4774 |\n",
      "|31          |382  |\n",
      "|137         |4655 |\n",
      "|85          |1929 |\n",
      "|251         |459  |\n",
      "|65          |2773 |\n",
      "|53          |915  |\n",
      "|255         |8510 |\n",
      "|133         |1274 |\n",
      "|78          |2652 |\n",
      "|108         |812  |\n",
      "|155         |1623 |\n",
      "|193         |608  |\n",
      "|211         |3455 |\n",
      "|34          |1106 |\n",
      "|101         |377  |\n",
      "|115         |308  |\n",
      "|126         |1542 |\n",
      "|81          |1458 |\n",
      "+------------+-----+\n",
      "only showing top 20 rows\n",
      "\n",
      "23/03/15 12:29:28 WARN ProcessingTimeExecutor: Current batch is falling behind. The trigger interval is 5000 milliseconds, but spent 6208 milliseconds\n"
     ]
    },
    {
     "name": "stderr",
     "output_type": "stream",
     "text": [
      "                                                                                \r"
     ]
    },
    {
     "name": "stdout",
     "output_type": "stream",
     "text": [
      "-------------------------------------------\n",
      "Batch: 83\n",
      "-------------------------------------------\n",
      "+------------+-----+\n",
      "|PULocationID|count|\n",
      "+------------+-----+\n",
      "|148         |9927 |\n",
      "|243         |4815 |\n",
      "|31          |388  |\n",
      "|137         |4683 |\n",
      "|85          |1944 |\n",
      "|251         |460  |\n",
      "|65          |2789 |\n",
      "|53          |923  |\n",
      "|255         |8545 |\n",
      "|133         |1282 |\n",
      "|78          |2685 |\n",
      "|108         |823  |\n",
      "|155         |1639 |\n",
      "|193         |613  |\n",
      "|211         |3474 |\n",
      "|34          |1109 |\n",
      "|101         |377  |\n",
      "|115         |311  |\n",
      "|126         |1557 |\n",
      "|81          |1477 |\n",
      "+------------+-----+\n",
      "only showing top 20 rows\n",
      "\n",
      "23/03/15 12:29:35 WARN ProcessingTimeExecutor: Current batch is falling behind. The trigger interval is 5000 milliseconds, but spent 6333 milliseconds\n"
     ]
    },
    {
     "name": "stderr",
     "output_type": "stream",
     "text": [
      "                                                                                \r"
     ]
    },
    {
     "name": "stdout",
     "output_type": "stream",
     "text": [
      "-------------------------------------------\n",
      "Batch: 84\n",
      "-------------------------------------------\n",
      "+------------+-----+\n",
      "|PULocationID|count|\n",
      "+------------+-----+\n",
      "|148         |9989 |\n",
      "|243         |4836 |\n",
      "|31          |390  |\n",
      "|137         |4714 |\n",
      "|85          |1961 |\n",
      "|251         |461  |\n",
      "|65          |2828 |\n",
      "|53          |930  |\n",
      "|255         |8610 |\n",
      "|133         |1295 |\n",
      "|78          |2693 |\n",
      "|108         |828  |\n",
      "|155         |1660 |\n",
      "|193         |618  |\n",
      "|211         |3498 |\n",
      "|34          |1113 |\n",
      "|101         |378  |\n",
      "|115         |314  |\n",
      "|126         |1564 |\n",
      "|81          |1488 |\n",
      "+------------+-----+\n",
      "only showing top 20 rows\n",
      "\n",
      "23/03/15 12:29:41 WARN ProcessingTimeExecutor: Current batch is falling behind. The trigger interval is 5000 milliseconds, but spent 6568 milliseconds\n"
     ]
    },
    {
     "name": "stderr",
     "output_type": "stream",
     "text": [
      "                                                                                \r"
     ]
    },
    {
     "name": "stdout",
     "output_type": "stream",
     "text": [
      "-------------------------------------------\n",
      "Batch: 85\n",
      "-------------------------------------------\n",
      "+------------+-----+\n",
      "|PULocationID|count|\n",
      "+------------+-----+\n",
      "|148         |10045|\n",
      "|243         |4889 |\n",
      "|31          |393  |\n",
      "|137         |4761 |\n",
      "|85          |1981 |\n",
      "|251         |462  |\n",
      "|65          |2843 |\n",
      "|53          |937  |\n",
      "|255         |8670 |\n",
      "|133         |1303 |\n",
      "|78          |2723 |\n",
      "|108         |838  |\n",
      "|155         |1673 |\n",
      "|193         |626  |\n",
      "|211         |3523 |\n",
      "|34          |1113 |\n",
      "|101         |383  |\n",
      "|115         |315  |\n",
      "|126         |1583 |\n",
      "|81          |1516 |\n",
      "+------------+-----+\n",
      "only showing top 20 rows\n",
      "\n",
      "23/03/15 12:29:47 WARN ProcessingTimeExecutor: Current batch is falling behind. The trigger interval is 5000 milliseconds, but spent 6301 milliseconds\n"
     ]
    },
    {
     "name": "stderr",
     "output_type": "stream",
     "text": [
      "                                                                                \r"
     ]
    },
    {
     "name": "stdout",
     "output_type": "stream",
     "text": [
      "-------------------------------------------\n",
      "Batch: 86\n",
      "-------------------------------------------\n",
      "+------------+-----+\n",
      "|PULocationID|count|\n",
      "+------------+-----+\n",
      "|148         |10085|\n",
      "|243         |4934 |\n",
      "|31          |398  |\n",
      "|137         |4798 |\n",
      "|85          |2010 |\n",
      "|251         |466  |\n",
      "|65          |2864 |\n",
      "|53          |948  |\n",
      "|255         |8713 |\n",
      "|133         |1310 |\n",
      "|78          |2756 |\n",
      "|108         |845  |\n",
      "|155         |1684 |\n",
      "|193         |631  |\n",
      "|211         |3544 |\n",
      "|34          |1116 |\n",
      "|101         |384  |\n",
      "|115         |320  |\n",
      "|126         |1597 |\n",
      "|81          |1535 |\n",
      "+------------+-----+\n",
      "only showing top 20 rows\n",
      "\n",
      "23/03/15 12:29:53 WARN ProcessingTimeExecutor: Current batch is falling behind. The trigger interval is 5000 milliseconds, but spent 5178 milliseconds\n"
     ]
    },
    {
     "name": "stderr",
     "output_type": "stream",
     "text": [
      "                                                                                \r"
     ]
    },
    {
     "name": "stdout",
     "output_type": "stream",
     "text": [
      "-------------------------------------------\n",
      "Batch: 87\n",
      "-------------------------------------------\n",
      "+------------+-----+\n",
      "|PULocationID|count|\n",
      "+------------+-----+\n",
      "|148         |10116|\n",
      "|243         |4943 |\n",
      "|31          |398  |\n",
      "|137         |4810 |\n",
      "|85          |2021 |\n",
      "|251         |467  |\n",
      "|65          |2876 |\n",
      "|53          |950  |\n",
      "|255         |8750 |\n",
      "|133         |1314 |\n",
      "|78          |2760 |\n",
      "|108         |849  |\n",
      "|155         |1686 |\n",
      "|193         |634  |\n",
      "|211         |3553 |\n",
      "|34          |1116 |\n",
      "|101         |385  |\n",
      "|115         |323  |\n",
      "|126         |1600 |\n",
      "|81          |1539 |\n",
      "+------------+-----+\n",
      "only showing top 20 rows\n",
      "\n",
      "23/03/15 12:29:59 WARN ProcessingTimeExecutor: Current batch is falling behind. The trigger interval is 5000 milliseconds, but spent 6219 milliseconds\n"
     ]
    },
    {
     "name": "stderr",
     "output_type": "stream",
     "text": [
      "                                                                                \r"
     ]
    },
    {
     "name": "stdout",
     "output_type": "stream",
     "text": [
      "-------------------------------------------\n",
      "Batch: 88\n",
      "-------------------------------------------\n",
      "+------------+-----+\n",
      "|PULocationID|count|\n",
      "+------------+-----+\n",
      "|148         |10179|\n",
      "|243         |5005 |\n",
      "|31          |400  |\n",
      "|137         |4861 |\n",
      "|85          |2036 |\n",
      "|251         |469  |\n",
      "|65          |2904 |\n",
      "|53          |959  |\n",
      "|255         |8795 |\n",
      "|133         |1334 |\n",
      "|78          |2803 |\n",
      "|108         |859  |\n",
      "|155         |1700 |\n",
      "|193         |647  |\n",
      "|211         |3592 |\n",
      "|34          |1116 |\n",
      "|101         |387  |\n",
      "|115         |326  |\n",
      "|126         |1616 |\n",
      "|81          |1558 |\n",
      "+------------+-----+\n",
      "only showing top 20 rows\n",
      "\n",
      "23/03/15 12:30:04 WARN ProcessingTimeExecutor: Current batch is falling behind. The trigger interval is 5000 milliseconds, but spent 5583 milliseconds\n"
     ]
    },
    {
     "name": "stderr",
     "output_type": "stream",
     "text": [
      "                                                                                \r"
     ]
    },
    {
     "name": "stdout",
     "output_type": "stream",
     "text": [
      "-------------------------------------------\n",
      "Batch: 89\n",
      "-------------------------------------------\n",
      "+------------+-----+\n",
      "|PULocationID|count|\n",
      "+------------+-----+\n",
      "|148         |10217|\n",
      "|243         |5030 |\n",
      "|31          |405  |\n",
      "|137         |4896 |\n",
      "|85          |2049 |\n",
      "|251         |473  |\n",
      "|65          |2923 |\n",
      "|53          |966  |\n",
      "|255         |8828 |\n",
      "|133         |1340 |\n",
      "|78          |2816 |\n",
      "|108         |863  |\n",
      "|155         |1709 |\n",
      "|193         |653  |\n",
      "|211         |3606 |\n",
      "|34          |1116 |\n",
      "|101         |389  |\n",
      "|115         |327  |\n",
      "|126         |1629 |\n",
      "|81          |1571 |\n",
      "+------------+-----+\n",
      "only showing top 20 rows\n",
      "\n",
      "23/03/15 12:30:11 WARN ProcessingTimeExecutor: Current batch is falling behind. The trigger interval is 5000 milliseconds, but spent 6403 milliseconds\n"
     ]
    },
    {
     "name": "stderr",
     "output_type": "stream",
     "text": [
      "                                                                                \r"
     ]
    },
    {
     "name": "stdout",
     "output_type": "stream",
     "text": [
      "-------------------------------------------\n",
      "Batch: 90\n",
      "-------------------------------------------\n",
      "+------------+-----+\n",
      "|PULocationID|count|\n",
      "+------------+-----+\n",
      "|148         |10289|\n",
      "|243         |5073 |\n",
      "|31          |413  |\n",
      "|137         |4939 |\n",
      "|85          |2074 |\n",
      "|251         |473  |\n",
      "|65          |2955 |\n",
      "|53          |974  |\n",
      "|255         |8885 |\n",
      "|133         |1357 |\n",
      "|78          |2850 |\n",
      "|108         |868  |\n",
      "|155         |1723 |\n",
      "|193         |660  |\n",
      "|211         |3627 |\n",
      "|34          |1116 |\n",
      "|101         |390  |\n",
      "|115         |329  |\n",
      "|126         |1653 |\n",
      "|81          |1587 |\n",
      "+------------+-----+\n",
      "only showing top 20 rows\n",
      "\n",
      "23/03/15 12:30:17 WARN ProcessingTimeExecutor: Current batch is falling behind. The trigger interval is 5000 milliseconds, but spent 6365 milliseconds\n"
     ]
    },
    {
     "name": "stderr",
     "output_type": "stream",
     "text": [
      "                                                                                \r"
     ]
    },
    {
     "name": "stdout",
     "output_type": "stream",
     "text": [
      "-------------------------------------------\n",
      "Batch: 91\n",
      "-------------------------------------------\n",
      "+------------+-----+\n",
      "|PULocationID|count|\n",
      "+------------+-----+\n",
      "|148         |10337|\n",
      "|243         |5102 |\n",
      "|31          |414  |\n",
      "|137         |4960 |\n",
      "|85          |2097 |\n",
      "|251         |475  |\n",
      "|65          |2974 |\n",
      "|53          |980  |\n",
      "|255         |8929 |\n",
      "|133         |1363 |\n",
      "|78          |2872 |\n",
      "|108         |873  |\n",
      "|155         |1732 |\n",
      "|193         |668  |\n",
      "|211         |3641 |\n",
      "|34          |1117 |\n",
      "|101         |394  |\n",
      "|115         |330  |\n",
      "|126         |1678 |\n",
      "|81          |1602 |\n",
      "+------------+-----+\n",
      "only showing top 20 rows\n",
      "\n",
      "23/03/15 12:30:30 WARN ProcessingTimeExecutor: Current batch is falling behind. The trigger interval is 5000 milliseconds, but spent 12294 milliseconds\n"
     ]
    },
    {
     "name": "stderr",
     "output_type": "stream",
     "text": [
      "                                                                                \r"
     ]
    },
    {
     "name": "stdout",
     "output_type": "stream",
     "text": [
      "-------------------------------------------\n",
      "Batch: 92\n",
      "-------------------------------------------\n",
      "+------------+-----+\n",
      "|PULocationID|count|\n",
      "+------------+-----+\n",
      "|148         |10433|\n",
      "|243         |5185 |\n",
      "|31          |419  |\n",
      "|137         |5017 |\n",
      "|85          |2150 |\n",
      "|251         |484  |\n",
      "|65          |3002 |\n",
      "|53          |1004 |\n",
      "|255         |9009 |\n",
      "|133         |1387 |\n",
      "|78          |2916 |\n",
      "|108         |891  |\n",
      "|155         |1755 |\n",
      "|193         |686  |\n",
      "|211         |3670 |\n",
      "|34          |1118 |\n",
      "|101         |401  |\n",
      "|115         |340  |\n",
      "|126         |1722 |\n",
      "|81          |1636 |\n",
      "+------------+-----+\n",
      "only showing top 20 rows\n",
      "\n",
      "23/03/15 12:30:41 WARN ProcessingTimeExecutor: Current batch is falling behind. The trigger interval is 5000 milliseconds, but spent 11969 milliseconds\n"
     ]
    },
    {
     "name": "stderr",
     "output_type": "stream",
     "text": [
      "                                                                                \r"
     ]
    },
    {
     "name": "stdout",
     "output_type": "stream",
     "text": [
      "-------------------------------------------\n",
      "Batch: 93\n",
      "-------------------------------------------\n",
      "+------------+-----+\n",
      "|PULocationID|count|\n",
      "+------------+-----+\n",
      "|148         |10501|\n",
      "|243         |5243 |\n",
      "|31          |423  |\n",
      "|137         |5081 |\n",
      "|85          |2183 |\n",
      "|251         |492  |\n",
      "|65          |3037 |\n",
      "|53          |1031 |\n",
      "|255         |9078 |\n",
      "|133         |1401 |\n",
      "|78          |2955 |\n",
      "|108         |903  |\n",
      "|155         |1780 |\n",
      "|193         |705  |\n",
      "|211         |3693 |\n",
      "|34          |1120 |\n",
      "|101         |412  |\n",
      "|115         |349  |\n",
      "|126         |1749 |\n",
      "|81          |1660 |\n",
      "+------------+-----+\n",
      "only showing top 20 rows\n",
      "\n",
      "23/03/15 12:30:50 WARN ProcessingTimeExecutor: Current batch is falling behind. The trigger interval is 5000 milliseconds, but spent 8095 milliseconds\n"
     ]
    },
    {
     "name": "stderr",
     "output_type": "stream",
     "text": [
      "                                                                                \r"
     ]
    },
    {
     "name": "stdout",
     "output_type": "stream",
     "text": [
      "-------------------------------------------\n",
      "Batch: 94\n",
      "-------------------------------------------\n",
      "+------------+-----+\n",
      "|PULocationID|count|\n",
      "+------------+-----+\n",
      "|148         |10558|\n",
      "|243         |5284 |\n",
      "|31          |424  |\n",
      "|137         |5137 |\n",
      "|85          |2205 |\n",
      "|251         |498  |\n",
      "|65          |3059 |\n",
      "|53          |1044 |\n",
      "|255         |9132 |\n",
      "|133         |1415 |\n",
      "|78          |2971 |\n",
      "|108         |911  |\n",
      "|155         |1806 |\n",
      "|193         |715  |\n",
      "|211         |3714 |\n",
      "|34          |1120 |\n",
      "|101         |417  |\n",
      "|115         |358  |\n",
      "|126         |1760 |\n",
      "|81          |1685 |\n",
      "+------------+-----+\n",
      "only showing top 20 rows\n",
      "\n",
      "23/03/15 12:30:57 WARN ProcessingTimeExecutor: Current batch is falling behind. The trigger interval is 5000 milliseconds, but spent 6939 milliseconds\n"
     ]
    },
    {
     "name": "stderr",
     "output_type": "stream",
     "text": [
      "                                                                                \r"
     ]
    },
    {
     "name": "stdout",
     "output_type": "stream",
     "text": [
      "-------------------------------------------\n",
      "Batch: 95\n",
      "-------------------------------------------\n",
      "+------------+-----+\n",
      "|PULocationID|count|\n",
      "+------------+-----+\n",
      "|148         |10608|\n",
      "|243         |5328 |\n",
      "|31          |429  |\n",
      "|137         |5210 |\n",
      "|85          |2230 |\n",
      "|251         |499  |\n",
      "|65          |3089 |\n",
      "|53          |1055 |\n",
      "|255         |9165 |\n",
      "|133         |1426 |\n",
      "|78          |3005 |\n",
      "|108         |931  |\n",
      "|155         |1837 |\n",
      "|193         |731  |\n",
      "|211         |3731 |\n",
      "|34          |1120 |\n",
      "|101         |425  |\n",
      "|115         |364  |\n",
      "|126         |1778 |\n",
      "|81          |1712 |\n",
      "+------------+-----+\n",
      "only showing top 20 rows\n",
      "\n",
      "23/03/15 12:31:04 WARN ProcessingTimeExecutor: Current batch is falling behind. The trigger interval is 5000 milliseconds, but spent 7933 milliseconds\n"
     ]
    },
    {
     "name": "stderr",
     "output_type": "stream",
     "text": [
      "                                                                                \r"
     ]
    },
    {
     "name": "stdout",
     "output_type": "stream",
     "text": [
      "-------------------------------------------\n",
      "Batch: 96\n",
      "-------------------------------------------\n",
      "+------------+-----+\n",
      "|PULocationID|count|\n",
      "+------------+-----+\n",
      "|148         |10629|\n",
      "|243         |5344 |\n",
      "|31          |430  |\n",
      "|137         |5239 |\n",
      "|85          |2250 |\n",
      "|251         |501  |\n",
      "|65          |3098 |\n",
      "|53          |1071 |\n",
      "|255         |9191 |\n",
      "|133         |1441 |\n",
      "|78          |3020 |\n",
      "|108         |934  |\n",
      "|155         |1848 |\n",
      "|193         |745  |\n",
      "|211         |3737 |\n",
      "|34          |1121 |\n",
      "|101         |430  |\n",
      "|115         |373  |\n",
      "|126         |1792 |\n",
      "|81          |1733 |\n",
      "+------------+-----+\n",
      "only showing top 20 rows\n",
      "\n",
      "23/03/15 12:31:12 WARN ProcessingTimeExecutor: Current batch is falling behind. The trigger interval is 5000 milliseconds, but spent 7362 milliseconds\n"
     ]
    },
    {
     "name": "stderr",
     "output_type": "stream",
     "text": [
      "                                                                                \r"
     ]
    },
    {
     "name": "stdout",
     "output_type": "stream",
     "text": [
      "-------------------------------------------\n",
      "Batch: 97\n",
      "-------------------------------------------\n",
      "+------------+-----+\n",
      "|PULocationID|count|\n",
      "+------------+-----+\n",
      "|148         |10662|\n",
      "|243         |5384 |\n",
      "|31          |434  |\n",
      "|137         |5307 |\n",
      "|85          |2274 |\n",
      "|251         |505  |\n",
      "|65          |3124 |\n",
      "|53          |1085 |\n",
      "|255         |9228 |\n",
      "|133         |1456 |\n",
      "|78          |3044 |\n",
      "|108         |946  |\n",
      "|155         |1873 |\n",
      "|193         |753  |\n",
      "|211         |3764 |\n",
      "|34          |1126 |\n",
      "|101         |438  |\n",
      "|115         |381  |\n",
      "|126         |1801 |\n",
      "|81          |1756 |\n",
      "+------------+-----+\n",
      "only showing top 20 rows\n",
      "\n",
      "23/03/15 12:31:19 WARN ProcessingTimeExecutor: Current batch is falling behind. The trigger interval is 5000 milliseconds, but spent 7381 milliseconds\n"
     ]
    },
    {
     "name": "stderr",
     "output_type": "stream",
     "text": [
      "                                                                                \r"
     ]
    },
    {
     "name": "stdout",
     "output_type": "stream",
     "text": [
      "-------------------------------------------\n",
      "Batch: 98\n",
      "-------------------------------------------\n",
      "+------------+-----+\n",
      "|PULocationID|count|\n",
      "+------------+-----+\n",
      "|148         |10690|\n",
      "|243         |5435 |\n",
      "|31          |437  |\n",
      "|137         |5391 |\n",
      "|85          |2293 |\n",
      "|251         |506  |\n",
      "|65          |3140 |\n",
      "|53          |1090 |\n",
      "|255         |9250 |\n",
      "|133         |1470 |\n",
      "|78          |3075 |\n",
      "|108         |959  |\n",
      "|155         |1906 |\n",
      "|193         |761  |\n",
      "|211         |3793 |\n",
      "|34          |1127 |\n",
      "|101         |442  |\n",
      "|115         |383  |\n",
      "|126         |1821 |\n",
      "|81          |1779 |\n",
      "+------------+-----+\n",
      "only showing top 20 rows\n",
      "\n",
      "23/03/15 12:31:27 WARN ProcessingTimeExecutor: Current batch is falling behind. The trigger interval is 5000 milliseconds, but spent 7532 milliseconds\n"
     ]
    },
    {
     "name": "stderr",
     "output_type": "stream",
     "text": [
      "                                                                                \r"
     ]
    },
    {
     "name": "stdout",
     "output_type": "stream",
     "text": [
      "-------------------------------------------\n",
      "Batch: 99\n",
      "-------------------------------------------\n",
      "+------------+-----+\n",
      "|PULocationID|count|\n",
      "+------------+-----+\n",
      "|148         |10715|\n",
      "|243         |5482 |\n",
      "|31          |442  |\n",
      "|137         |5439 |\n",
      "|85          |2313 |\n",
      "|251         |508  |\n",
      "|65          |3156 |\n",
      "|53          |1103 |\n",
      "|255         |9276 |\n",
      "|133         |1478 |\n",
      "|78          |3104 |\n",
      "|108         |970  |\n",
      "|155         |1921 |\n",
      "|193         |778  |\n",
      "|211         |3801 |\n",
      "|34          |1128 |\n",
      "|101         |449  |\n",
      "|115         |386  |\n",
      "|126         |1839 |\n",
      "|81          |1807 |\n",
      "+------------+-----+\n",
      "only showing top 20 rows\n",
      "\n",
      "23/03/15 12:31:33 WARN ProcessingTimeExecutor: Current batch is falling behind. The trigger interval is 5000 milliseconds, but spent 6586 milliseconds\n"
     ]
    },
    {
     "name": "stderr",
     "output_type": "stream",
     "text": [
      "                                                                                \r"
     ]
    },
    {
     "name": "stdout",
     "output_type": "stream",
     "text": [
      "-------------------------------------------\n",
      "Batch: 100\n",
      "-------------------------------------------\n",
      "+------------+-----+\n",
      "|PULocationID|count|\n",
      "+------------+-----+\n",
      "|148         |10720|\n",
      "|243         |5490 |\n",
      "|31          |442  |\n",
      "|137         |5448 |\n",
      "|85          |2315 |\n",
      "|251         |509  |\n",
      "|65          |3158 |\n",
      "|53          |1107 |\n",
      "|255         |9297 |\n",
      "|133         |1485 |\n",
      "|78          |3108 |\n",
      "|108         |971  |\n",
      "|155         |1927 |\n",
      "|193         |782  |\n",
      "|211         |3803 |\n",
      "|34          |1128 |\n",
      "|101         |452  |\n",
      "|115         |387  |\n",
      "|126         |1848 |\n",
      "|81          |1814 |\n",
      "+------------+-----+\n",
      "only showing top 20 rows\n",
      "\n"
     ]
    },
    {
     "name": "stderr",
     "output_type": "stream",
     "text": [
      "                                                                                \r"
     ]
    },
    {
     "name": "stdout",
     "output_type": "stream",
     "text": [
      "-------------------------------------------\n",
      "Batch: 101\n",
      "-------------------------------------------\n",
      "+------------+-----+\n",
      "|PULocationID|count|\n",
      "+------------+-----+\n",
      "|148         |10731|\n",
      "|243         |5513 |\n",
      "|31          |444  |\n",
      "|137         |5478 |\n",
      "|85          |2321 |\n",
      "|251         |510  |\n",
      "|65          |3163 |\n",
      "|53          |1109 |\n",
      "|255         |9312 |\n",
      "|133         |1496 |\n",
      "|78          |3116 |\n",
      "|108         |977  |\n",
      "|155         |1933 |\n",
      "|193         |786  |\n",
      "|211         |3807 |\n",
      "|34          |1129 |\n",
      "|101         |455  |\n",
      "|115         |390  |\n",
      "|126         |1856 |\n",
      "|81          |1824 |\n",
      "+------------+-----+\n",
      "only showing top 20 rows\n",
      "\n",
      "23/03/15 12:32:09 WARN ProcessingTimeExecutor: Current batch is falling behind. The trigger interval is 5000 milliseconds, but spent 24063 milliseconds\n"
     ]
    },
    {
     "name": "stderr",
     "output_type": "stream",
     "text": [
      "                                                                                \r"
     ]
    },
    {
     "name": "stdout",
     "output_type": "stream",
     "text": [
      "-------------------------------------------\n",
      "Batch: 102\n",
      "-------------------------------------------\n",
      "+------------+-----+\n",
      "|PULocationID|count|\n",
      "+------------+-----+\n",
      "|148         |10883|\n",
      "|243         |5655 |\n",
      "|31          |463  |\n",
      "|137         |5787 |\n",
      "|85          |2397 |\n",
      "|251         |525  |\n",
      "|65          |3243 |\n",
      "|53          |1151 |\n",
      "|255         |9439 |\n",
      "|133         |1575 |\n",
      "|78          |3261 |\n",
      "|108         |1016 |\n",
      "|155         |2049 |\n",
      "|193         |834  |\n",
      "|211         |3871 |\n",
      "|34          |1140 |\n",
      "|101         |482  |\n",
      "|115         |422  |\n",
      "|126         |1920 |\n",
      "|81          |1909 |\n",
      "+------------+-----+\n",
      "only showing top 20 rows\n",
      "\n",
      "23/03/15 12:32:18 WARN ProcessingTimeExecutor: Current batch is falling behind. The trigger interval is 5000 milliseconds, but spent 9769 milliseconds\n"
     ]
    },
    {
     "name": "stderr",
     "output_type": "stream",
     "text": [
      "                                                                                \r"
     ]
    },
    {
     "name": "stdout",
     "output_type": "stream",
     "text": [
      "-------------------------------------------\n",
      "Batch: 103\n",
      "-------------------------------------------\n",
      "+------------+-----+\n",
      "|PULocationID|count|\n",
      "+------------+-----+\n",
      "|148         |10926|\n",
      "|243         |5681 |\n",
      "|31          |464  |\n",
      "|137         |5814 |\n",
      "|85          |2409 |\n",
      "|251         |527  |\n",
      "|65          |3266 |\n",
      "|53          |1158 |\n",
      "|255         |9480 |\n",
      "|133         |1584 |\n",
      "|78          |3267 |\n",
      "|108         |1025 |\n",
      "|155         |2060 |\n",
      "|193         |843  |\n",
      "|211         |3884 |\n",
      "|34          |1141 |\n",
      "|101         |490  |\n",
      "|115         |423  |\n",
      "|126         |1929 |\n",
      "|81          |1922 |\n",
      "+------------+-----+\n",
      "only showing top 20 rows\n",
      "\n",
      "23/03/15 12:32:26 WARN ProcessingTimeExecutor: Current batch is falling behind. The trigger interval is 5000 milliseconds, but spent 7239 milliseconds\n"
     ]
    },
    {
     "name": "stderr",
     "output_type": "stream",
     "text": [
      "                                                                                \r"
     ]
    },
    {
     "name": "stdout",
     "output_type": "stream",
     "text": [
      "-------------------------------------------\n",
      "Batch: 104\n",
      "-------------------------------------------\n",
      "+------------+-----+\n",
      "|PULocationID|count|\n",
      "+------------+-----+\n",
      "|148         |10983|\n",
      "|243         |5703 |\n",
      "|31          |465  |\n",
      "|137         |5864 |\n",
      "|85          |2423 |\n",
      "|251         |529  |\n",
      "|65          |3292 |\n",
      "|53          |1167 |\n",
      "|255         |9523 |\n",
      "|133         |1611 |\n",
      "|78          |3293 |\n",
      "|108         |1032 |\n",
      "|155         |2083 |\n",
      "|193         |851  |\n",
      "|211         |3904 |\n",
      "|34          |1143 |\n",
      "|101         |500  |\n",
      "|115         |425  |\n",
      "|126         |1937 |\n",
      "|81          |1935 |\n",
      "+------------+-----+\n",
      "only showing top 20 rows\n",
      "\n",
      "23/03/15 12:32:38 WARN ProcessingTimeExecutor: Current batch is falling behind. The trigger interval is 5000 milliseconds, but spent 12280 milliseconds\n"
     ]
    },
    {
     "name": "stderr",
     "output_type": "stream",
     "text": [
      "                                                                                \r"
     ]
    },
    {
     "name": "stdout",
     "output_type": "stream",
     "text": [
      "-------------------------------------------\n",
      "Batch: 105\n",
      "-------------------------------------------\n",
      "+------------+-----+\n",
      "|PULocationID|count|\n",
      "+------------+-----+\n",
      "|148         |11100|\n",
      "|243         |5783 |\n",
      "|31          |473  |\n",
      "|137         |6000 |\n",
      "|85          |2446 |\n",
      "|251         |537  |\n",
      "|65          |3350 |\n",
      "|53          |1189 |\n",
      "|255         |9583 |\n",
      "|133         |1631 |\n",
      "|78          |3348 |\n",
      "|108         |1052 |\n",
      "|155         |2126 |\n",
      "|193         |869  |\n",
      "|211         |3942 |\n",
      "|34          |1146 |\n",
      "|101         |515  |\n",
      "|115         |432  |\n",
      "|126         |1980 |\n",
      "|81          |1983 |\n",
      "+------------+-----+\n",
      "only showing top 20 rows\n",
      "\n",
      "23/03/15 12:32:47 WARN ProcessingTimeExecutor: Current batch is falling behind. The trigger interval is 5000 milliseconds, but spent 8794 milliseconds\n"
     ]
    },
    {
     "name": "stderr",
     "output_type": "stream",
     "text": [
      "                                                                                \r"
     ]
    },
    {
     "name": "stdout",
     "output_type": "stream",
     "text": [
      "-------------------------------------------\n",
      "Batch: 106\n",
      "-------------------------------------------\n",
      "+------------+-----+\n",
      "|PULocationID|count|\n",
      "+------------+-----+\n",
      "|148         |11121|\n",
      "|243         |5797 |\n",
      "|31          |476  |\n",
      "|137         |6023 |\n",
      "|85          |2448 |\n",
      "|251         |538  |\n",
      "|65          |3359 |\n",
      "|53          |1194 |\n",
      "|255         |9615 |\n",
      "|133         |1645 |\n",
      "|78          |3370 |\n",
      "|108         |1054 |\n",
      "|155         |2131 |\n",
      "|193         |876  |\n",
      "|211         |3955 |\n",
      "|34          |1146 |\n",
      "|101         |518  |\n",
      "|115         |438  |\n",
      "|126         |1991 |\n",
      "|81          |1990 |\n",
      "+------------+-----+\n",
      "only showing top 20 rows\n",
      "\n",
      "23/03/15 12:32:56 WARN ProcessingTimeExecutor: Current batch is falling behind. The trigger interval is 5000 milliseconds, but spent 9522 milliseconds\n"
     ]
    },
    {
     "name": "stderr",
     "output_type": "stream",
     "text": [
      "                                                                                \r"
     ]
    },
    {
     "name": "stdout",
     "output_type": "stream",
     "text": [
      "-------------------------------------------\n",
      "Batch: 107\n",
      "-------------------------------------------\n",
      "+------------+-----+\n",
      "|PULocationID|count|\n",
      "+------------+-----+\n",
      "|148         |11190|\n",
      "|243         |5840 |\n",
      "|31          |479  |\n",
      "|137         |6083 |\n",
      "|85          |2473 |\n",
      "|251         |545  |\n",
      "|65          |3402 |\n",
      "|53          |1204 |\n",
      "|255         |9676 |\n",
      "|133         |1673 |\n",
      "|78          |3389 |\n",
      "|108         |1068 |\n",
      "|155         |2148 |\n",
      "|193         |885  |\n",
      "|211         |3982 |\n",
      "|34          |1150 |\n",
      "|101         |527  |\n",
      "|115         |446  |\n",
      "|126         |2007 |\n",
      "|81          |2006 |\n",
      "+------------+-----+\n",
      "only showing top 20 rows\n",
      "\n",
      "23/03/15 12:33:04 WARN ProcessingTimeExecutor: Current batch is falling behind. The trigger interval is 5000 milliseconds, but spent 8197 milliseconds\n"
     ]
    },
    {
     "name": "stderr",
     "output_type": "stream",
     "text": [
      "                                                                                \r"
     ]
    },
    {
     "name": "stdout",
     "output_type": "stream",
     "text": [
      "-------------------------------------------\n",
      "Batch: 108\n",
      "-------------------------------------------\n",
      "+------------+-----+\n",
      "|PULocationID|count|\n",
      "+------------+-----+\n",
      "|148         |11237|\n",
      "|243         |5880 |\n",
      "|31          |484  |\n",
      "|137         |6126 |\n",
      "|85          |2493 |\n",
      "|251         |545  |\n",
      "|65          |3428 |\n",
      "|53          |1215 |\n",
      "|255         |9698 |\n",
      "|133         |1701 |\n",
      "|78          |3422 |\n",
      "|108         |1081 |\n",
      "|155         |2168 |\n",
      "|193         |894  |\n",
      "|211         |4010 |\n",
      "|34          |1150 |\n",
      "|101         |534  |\n",
      "|115         |449  |\n",
      "|126         |2021 |\n",
      "|81          |2026 |\n",
      "+------------+-----+\n",
      "only showing top 20 rows\n",
      "\n",
      "23/03/15 12:33:12 WARN ProcessingTimeExecutor: Current batch is falling behind. The trigger interval is 5000 milliseconds, but spent 7719 milliseconds\n"
     ]
    },
    {
     "name": "stderr",
     "output_type": "stream",
     "text": [
      "                                                                                \r"
     ]
    },
    {
     "name": "stdout",
     "output_type": "stream",
     "text": [
      "-------------------------------------------\n",
      "Batch: 109\n",
      "-------------------------------------------\n",
      "+------------+-----+\n",
      "|PULocationID|count|\n",
      "+------------+-----+\n",
      "|148         |11262|\n",
      "|243         |5911 |\n",
      "|31          |488  |\n",
      "|137         |6146 |\n",
      "|85          |2502 |\n",
      "|251         |546  |\n",
      "|65          |3441 |\n",
      "|53          |1220 |\n",
      "|255         |9723 |\n",
      "|133         |1710 |\n",
      "|78          |3448 |\n",
      "|108         |1091 |\n",
      "|155         |2182 |\n",
      "|193         |902  |\n",
      "|211         |4031 |\n",
      "|34          |1152 |\n",
      "|101         |539  |\n",
      "|115         |449  |\n",
      "|126         |2032 |\n",
      "|81          |2047 |\n",
      "+------------+-----+\n",
      "only showing top 20 rows\n",
      "\n",
      "23/03/15 12:33:29 WARN ProcessingTimeExecutor: Current batch is falling behind. The trigger interval is 5000 milliseconds, but spent 17033 milliseconds\n"
     ]
    }
   ],
   "source": [
    "# Sink of fhv trip data\n",
    "write_query_fhv = sink_console(df_rides_fhv.groupby(\"PULocationID\").count())"
   ]
  },
  {
   "cell_type": "code",
   "execution_count": 70,
   "metadata": {
    "tags": []
   },
   "outputs": [
    {
     "name": "stdout",
     "output_type": "stream",
     "text": [
      "root\n",
      " |-- VendorID: integer (nullable = true)\n",
      " |-- lpep_pickup_datetime: timestamp (nullable = true)\n",
      " |-- lpep_dropoff_datetime: timestamp (nullable = true)\n",
      " |-- PULocationID: integer (nullable = true)\n",
      " |-- DOLocationID: integer (nullable = true)\n",
      " |-- passenger_count: integer (nullable = true)\n",
      " |-- trip_distance: float (nullable = true)\n",
      " |-- dispatching_base_num: string (nullable = true)\n",
      " |-- pickup_datetime: timestamp (nullable = true)\n",
      " |-- dropOff_datetime: timestamp (nullable = true)\n",
      " |-- PUlocationID: integer (nullable = true)\n",
      " |-- DOlocationID: integer (nullable = true)\n",
      " |-- SR_Flag: float (nullable = true)\n",
      " |-- Affiliated_base_number: string (nullable = true)\n",
      "\n"
     ]
    }
   ],
   "source": [
    "df_rides_green.join(df_rides_fhv).printSchema()"
   ]
  },
  {
   "cell_type": "code",
   "execution_count": 86,
   "metadata": {
    "tags": []
   },
   "outputs": [],
   "source": [
    "# To join the data if needed\n",
    "\n",
    "new_df = df_rides_green.join(df_rides_fhv)"
   ]
  },
  {
   "cell_type": "code",
   "execution_count": 15,
   "metadata": {
    "tags": []
   },
   "outputs": [],
   "source": [
    "write_query_green.stop()\n",
    "write_query_fhv.stop()"
   ]
  }
 ],
 "metadata": {
  "kernelspec": {
   "display_name": "Python 3 (ipykernel)",
   "language": "python",
   "name": "python3"
  },
  "language_info": {
   "codemirror_mode": {
    "name": "ipython",
    "version": 3
   },
   "file_extension": ".py",
   "mimetype": "text/x-python",
   "name": "python",
   "nbconvert_exporter": "python",
   "pygments_lexer": "ipython3",
   "version": "3.10.6"
  }
 },
 "nbformat": 4,
 "nbformat_minor": 4
}
